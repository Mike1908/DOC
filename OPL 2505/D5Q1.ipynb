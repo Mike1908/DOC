{
 "cells": [
  {
   "cell_type": "markdown",
   "metadata": {},
   "source": [
    "# Devoir 5, question 1"
   ]
  },
  {
   "cell_type": "markdown",
   "metadata": {},
   "source": [
    "Considérons le problème\n",
    "\\begin{align*}\n",
    "\\min\\ & 10x_1 + 3x_2 + 7x_3 + 4x_4 \\\\\n",
    "\\mbox{t.q. }\n",
    "& 2x_1 + x_2 + 2x_3 + x_4 = 7 \\\\\n",
    "& x_1 + x_2 = 3 \\\\\n",
    "& x_3 + 2x_4 \\leq 5 \\\\  \n",
    "& x_3 + x_4 = 3 \\\\  \n",
    "& x_1 \\geq 0, x_2 \\geq 0, x_3 \\geq 0, x_4 \\geq 0.\n",
    "\\end{align*}\n",
    "\n",
    "Nous pouvons le réécrire sous forme standard en introduisant la variable d'écart $x_5$:\n",
    "\\begin{align*}\n",
    "\\min\\ & 10x_1 + 3x_2 + 7x_3 + 4x_4 \\\\\n",
    "\\mbox{t.q. }\n",
    "& 2x_1 + x_2 + 2x_3 + x_4 = 7 \\\\\n",
    "& x_1 + x_2 = 3 \\\\\n",
    "& x_3 + 2x_4 + x_5 = 5 \\\\  \n",
    "& x_3 + x_4 = 3 \\\\  \n",
    "& x_1 \\geq 0, x_2 \\geq 0, x_3 \\geq 0, x_4 \\geq 0, x_5 \\geq 0.\n",
    "\\end{align*}\n",
    "\n",
    "Nous allons tout d'abord le résoudre en employant Gurobi."
   ]
  },
  {
   "cell_type": "code",
   "execution_count": 1,
   "metadata": {},
   "outputs": [],
   "source": [
    "using JuMP, LinearAlgebra"
   ]
  },
  {
   "cell_type": "code",
   "execution_count": 2,
   "metadata": {},
   "outputs": [],
   "source": [
    "using Gurobi"
   ]
  },
  {
   "cell_type": "code",
   "execution_count": 3,
   "metadata": {},
   "outputs": [
    {
     "data": {
      "text/plain": [
       "5"
      ]
     },
     "execution_count": 3,
     "metadata": {},
     "output_type": "execute_result"
    }
   ],
   "source": [
    "c = [ 10; 3; 7 ; 4; 0 ]\n",
    "A = [2 1 2 1 0 ;\n",
    "     1 1 0 0 0 ;\n",
    "     0 0 1 2 1 ;\n",
    "     0 0 1 1 0 ]\n",
    "b = [ 7; 3; 5; 3 ]\n",
    "\n",
    "n = length(c)"
   ]
  },
  {
   "cell_type": "code",
   "execution_count": 4,
   "metadata": {
    "scrolled": true
   },
   "outputs": [
    {
     "name": "stdout",
     "output_type": "stream",
     "text": [
      "Academic license - for non-commercial use only\r\n",
      "Min 10 x[1] + 3 x[2] + 7 x[3] + 4 x[4]\n",
      "Subject to\n",
      " 2 x[1] + x[2] + 2 x[3] + x[4] == 7.0\n",
      " x[1] + x[2] == 3.0\n",
      " x[3] + 2 x[4] + x[5] == 5.0\n",
      " x[3] + x[4] == 3.0\n",
      " x[1] >= 0.0\n",
      " x[2] >= 0.0\n",
      " x[3] >= 0.0\n",
      " x[4] >= 0.0\n",
      " x[5] >= 0.0\n"
     ]
    }
   ],
   "source": [
    "m = Model(with_optimizer(Gurobi.Optimizer))\n",
    "\n",
    "@variable(m, x[1:5] >= 0)\n",
    "\n",
    "for k = 1:4\n",
    "    @constraint(m, sum(A[k,i]*x[i] for i = 1:n) == b[k])\n",
    "end\n",
    "\n",
    "@objective(m, Min, sum(x[i]*c[i] for i = 1:n))\n",
    "\n",
    "print(m)"
   ]
  },
  {
   "cell_type": "code",
   "execution_count": 5,
   "metadata": {},
   "outputs": [
    {
     "name": "stdout",
     "output_type": "stream",
     "text": [
      "Academic license - for non-commercial use only\r\n",
      "Optimize a model with 4 rows, 5 columns and 11 nonzeros\r\n",
      "Coefficient statistics:\r\n",
      "  Matrix range     [1e+00, 2e+00]\r\n",
      "  Objective range  [3e+00, 1e+01]\r\n",
      "  Bounds range     [0e+00, 0e+00]\r\n",
      "  RHS range        [3e+00, 7e+00]\r\n",
      "Presolve removed 4 rows and 5 columns\r\n",
      "Presolve time: 0.00s\r\n",
      "Presolve: All rows and columns removed\r\n",
      "Iteration    Objective       Primal Inf.    Dual Inf.      Time\r\n",
      "       0    2.4000000e+01   0.000000e+00   0.000000e+00      0s\r\n",
      "\r\n",
      "Solved in 0 iterations and 0.00 seconds\r\n",
      "Optimal objective  2.400000000e+01\r\n"
     ]
    }
   ],
   "source": [
    "status = optimize!(m)"
   ]
  },
  {
   "cell_type": "code",
   "execution_count": 6,
   "metadata": {},
   "outputs": [
    {
     "data": {
      "text/plain": [
       "5-element Array{Float64,1}:\n",
       " 0.0\n",
       " 3.0\n",
       " 1.0\n",
       " 2.0\n",
       " 0.0"
      ]
     },
     "execution_count": 6,
     "metadata": {},
     "output_type": "execute_result"
    }
   ],
   "source": [
    "value.(x)"
   ]
  },
  {
   "cell_type": "markdown",
   "metadata": {},
   "source": [
    "Calculons la solution duale associée."
   ]
  },
  {
   "cell_type": "code",
   "execution_count": 7,
   "metadata": {},
   "outputs": [
    {
     "data": {
      "text/plain": [
       "2-element Array{Tuple{DataType,DataType},1}:\n",
       " (GenericAffExpr{Float64,VariableRef}, MathOptInterface.EqualTo{Float64})\n",
       " (VariableRef, MathOptInterface.GreaterThan{Float64})"
      ]
     },
     "execution_count": 7,
     "metadata": {},
     "output_type": "execute_result"
    }
   ],
   "source": [
    "list_of_constraint_types(m)"
   ]
  },
  {
   "cell_type": "code",
   "execution_count": 8,
   "metadata": {},
   "outputs": [
    {
     "data": {
      "text/plain": [
       "4-element Array{Float64,1}:\n",
       " 3.0\n",
       " 0.0\n",
       " 0.0\n",
       " 1.0"
      ]
     },
     "execution_count": 8,
     "metadata": {},
     "output_type": "execute_result"
    }
   ],
   "source": [
    "λ = dual.(all_constraints(m, AffExpr, MOI.EqualTo{Float64}))"
   ]
  },
  {
   "cell_type": "markdown",
   "metadata": {},
   "source": [
    "Calculons les variables d'écart associées aux contraintes duales:"
   ]
  },
  {
   "cell_type": "code",
   "execution_count": 9,
   "metadata": {},
   "outputs": [
    {
     "data": {
      "text/plain": [
       "5-element Array{Float64,1}:\n",
       " 4.0\n",
       " 0.0\n",
       " 0.0\n",
       " 0.0\n",
       " 0.0"
      ]
     },
     "execution_count": 9,
     "metadata": {},
     "output_type": "execute_result"
    }
   ],
   "source": [
    "s = c - transpose(A)*λ"
   ]
  },
  {
   "cell_type": "markdown",
   "metadata": {},
   "source": [
    "Nous pouvons vérifier que les contraintes de complémentarité sont satisfaites en sommant les variables primales avec les variables d'écart duales"
   ]
  },
  {
   "cell_type": "code",
   "execution_count": 10,
   "metadata": {},
   "outputs": [
    {
     "data": {
      "text/plain": [
       "0.0"
      ]
     },
     "execution_count": 10,
     "metadata": {},
     "output_type": "execute_result"
    }
   ],
   "source": [
    "sum(value(x[i])*s[i] for i in 1:n)"
   ]
  },
  {
   "cell_type": "markdown",
   "metadata": {},
   "source": [
    "Il en va de même pour la dualité forte:"
   ]
  },
  {
   "cell_type": "code",
   "execution_count": 11,
   "metadata": {},
   "outputs": [
    {
     "data": {
      "text/plain": [
       "0.0"
      ]
     },
     "execution_count": 11,
     "metadata": {},
     "output_type": "execute_result"
    }
   ],
   "source": [
    "dot(c, value.(x))-dot(b, λ)"
   ]
  },
  {
   "cell_type": "markdown",
   "metadata": {},
   "source": [
    "Effectuons à présent le primal-dual à la main. Comme $c$ est non-négatif, $(0,0,0,0)$ est dual-réalisable, avec comme variables d'écart initiales"
   ]
  },
  {
   "cell_type": "code",
   "execution_count": 12,
   "metadata": {},
   "outputs": [
    {
     "data": {
      "text/plain": [
       "5-element Array{Float64,1}:\n",
       " 10.0\n",
       "  3.0\n",
       "  7.0\n",
       "  4.0\n",
       "  0.0"
      ]
     },
     "execution_count": 12,
     "metadata": {},
     "output_type": "execute_result"
    }
   ],
   "source": [
    "s = c - transpose(A)*zeros(4)"
   ]
  },
  {
   "cell_type": "markdown",
   "metadata": {},
   "source": [
    "Le tableau du simplexe associé au problème artificiel est"
   ]
  },
  {
   "cell_type": "code",
   "execution_count": 13,
   "metadata": {},
   "outputs": [
    {
     "data": {
      "text/plain": [
       "5×10 Array{Float64,2}:\n",
       " 2.0  1.0  2.0  1.0  0.0  1.0  0.0  0.0  0.0  7.0\n",
       " 1.0  1.0  0.0  0.0  0.0  0.0  1.0  0.0  0.0  3.0\n",
       " 0.0  0.0  1.0  2.0  1.0  0.0  0.0  1.0  0.0  5.0\n",
       " 0.0  0.0  1.0  1.0  0.0  0.0  0.0  0.0  1.0  3.0\n",
       " 0.0  0.0  0.0  0.0  0.0  1.0  1.0  1.0  1.0  0.0"
      ]
     },
     "execution_count": 13,
     "metadata": {},
     "output_type": "execute_result"
    }
   ],
   "source": [
    "Art = [[ A I b ] ; [ zeros(1,n) ones(1,4) 0 ]]"
   ]
  },
  {
   "cell_type": "markdown",
   "metadata": {},
   "source": [
    "Nous devons annuler les coûts réduits des variables artificielles, qui agissent pour l'instant comme variables de base."
   ]
  },
  {
   "cell_type": "code",
   "execution_count": 14,
   "metadata": {},
   "outputs": [
    {
     "data": {
      "text/plain": [
       "5×10 Array{Float64,2}:\n",
       "  2.0   1.0   2.0   1.0   0.0  1.0  0.0  0.0  0.0    7.0\n",
       "  1.0   1.0   0.0   0.0   0.0  0.0  1.0  0.0  0.0    3.0\n",
       "  0.0   0.0   1.0   2.0   1.0  0.0  0.0  1.0  0.0    5.0\n",
       "  0.0   0.0   1.0   1.0   0.0  0.0  0.0  0.0  1.0    3.0\n",
       " -3.0  -2.0  -4.0  -4.0  -1.0  0.0  0.0  0.0  0.0  -18.0"
      ]
     },
     "execution_count": 14,
     "metadata": {},
     "output_type": "execute_result"
    }
   ],
   "source": [
    "Art[5,:] = Art[5,:] - sum(Art[i,:] for i = 1:4)\n",
    "Art"
   ]
  },
  {
   "cell_type": "markdown",
   "metadata": {},
   "source": [
    "Nous reprenons la fonction de pivotage pour mettre à jour le tableau du simplexe."
   ]
  },
  {
   "cell_type": "code",
   "execution_count": 15,
   "metadata": {},
   "outputs": [
    {
     "data": {
      "text/plain": [
       "pivot! (generic function with 1 method)"
      ]
     },
     "execution_count": 15,
     "metadata": {},
     "output_type": "execute_result"
    }
   ],
   "source": [
    "function pivot!(A, i::Int, j::Int)\n",
    "    (m, n) = size(A)\n",
    "    A[i, :] = A[i, :] / A[i, j]\n",
    "    for k in 1:m\n",
    "        if k != i\n",
    "            A[k, :] -= A[i, :]*A[k, j]\n",
    "        end\n",
    "    end\n",
    "    return A\n",
    "end"
   ]
  },
  {
   "cell_type": "markdown",
   "metadata": {},
   "source": [
    "Nous initialisons l'ensemble $P$ en cherchant les éléments nuls."
   ]
  },
  {
   "cell_type": "code",
   "execution_count": 16,
   "metadata": {},
   "outputs": [
    {
     "data": {
      "text/plain": [
       "1-element Array{Int64,1}:\n",
       " 5"
      ]
     },
     "execution_count": 16,
     "metadata": {},
     "output_type": "execute_result"
    }
   ],
   "source": [
    "P = findall(x -> x == 0.0, s)"
   ]
  },
  {
   "cell_type": "markdown",
   "metadata": {},
   "source": [
    "Ainsi $P = \\{ 5 \\}$ et comme le coût réduit associé à $x_5$ est négatif, nous faisons entrer $x_5$ dans la base. En observant le tableau, nous observons que la pivot se trouve en (3,5)."
   ]
  },
  {
   "cell_type": "code",
   "execution_count": 17,
   "metadata": {},
   "outputs": [
    {
     "data": {
      "text/plain": [
       "5×10 Array{Float64,2}:\n",
       "  2.0   1.0   2.0   1.0  0.0  1.0  0.0  0.0  0.0    7.0\n",
       "  1.0   1.0   0.0   0.0  0.0  0.0  1.0  0.0  0.0    3.0\n",
       "  0.0   0.0   1.0   2.0  1.0  0.0  0.0  1.0  0.0    5.0\n",
       "  0.0   0.0   1.0   1.0  0.0  0.0  0.0  0.0  1.0    3.0\n",
       " -3.0  -2.0  -3.0  -2.0  0.0  0.0  0.0  1.0  0.0  -13.0"
      ]
     },
     "execution_count": 17,
     "metadata": {},
     "output_type": "execute_result"
    }
   ],
   "source": [
    "pivot!(Art, 3, 5)"
   ]
  },
  {
   "cell_type": "markdown",
   "metadata": {},
   "source": [
    "Nous mettons à jour les variables d'écart duales. Commençons par chercher l'élément pivot."
   ]
  },
  {
   "cell_type": "code",
   "execution_count": 18,
   "metadata": {},
   "outputs": [
    {
     "data": {
      "text/plain": [
       "2"
      ]
     },
     "execution_count": 18,
     "metadata": {},
     "output_type": "execute_result"
    }
   ],
   "source": [
    "idx = findall(x -> x < 0, Art[5,1:5])\n",
    "idx[argmin(s[idx]./-Art[5,idx])]"
   ]
  },
  {
   "cell_type": "markdown",
   "metadata": {},
   "source": [
    "Nous pivotons donc sur la deuxième colonne, et les nouvelles variables d'écart duales sont"
   ]
  },
  {
   "cell_type": "code",
   "execution_count": 19,
   "metadata": {},
   "outputs": [
    {
     "data": {
      "text/plain": [
       "5-element Array{Float64,1}:\n",
       " 5.5\n",
       " 0.0\n",
       " 2.5\n",
       " 1.0\n",
       " 0.0"
      ]
     },
     "execution_count": 19,
     "metadata": {},
     "output_type": "execute_result"
    }
   ],
   "source": [
    "s = s-s[2]/Art[5,2]*Art[5,1:5]"
   ]
  },
  {
   "cell_type": "markdown",
   "metadata": {},
   "source": [
    "$P$ est à présent"
   ]
  },
  {
   "cell_type": "code",
   "execution_count": 20,
   "metadata": {},
   "outputs": [
    {
     "data": {
      "text/plain": [
       "2-element Array{Int64,1}:\n",
       " 2\n",
       " 5"
      ]
     },
     "execution_count": 20,
     "metadata": {},
     "output_type": "execute_result"
    }
   ],
   "source": [
    "P = [2,5]"
   ]
  },
  {
   "cell_type": "markdown",
   "metadata": {},
   "source": [
    "Nous pouvons donc faire entrer $x_2$ dans la base, et l'examen du tableau nous montre qu'en pivote sur l'élément (2,2)."
   ]
  },
  {
   "cell_type": "code",
   "execution_count": 21,
   "metadata": {},
   "outputs": [
    {
     "data": {
      "text/plain": [
       "5×10 Array{Float64,2}:\n",
       "  1.0  0.0   2.0   1.0  0.0  1.0  -1.0  0.0  0.0   4.0\n",
       "  1.0  1.0   0.0   0.0  0.0  0.0   1.0  0.0  0.0   3.0\n",
       "  0.0  0.0   1.0   2.0  1.0  0.0   0.0  1.0  0.0   5.0\n",
       "  0.0  0.0   1.0   1.0  0.0  0.0   0.0  0.0  1.0   3.0\n",
       " -1.0  0.0  -3.0  -2.0  0.0  0.0   2.0  1.0  0.0  -7.0"
      ]
     },
     "execution_count": 21,
     "metadata": {},
     "output_type": "execute_result"
    }
   ],
   "source": [
    "pivot!(Art, 2, 2)"
   ]
  },
  {
   "cell_type": "markdown",
   "metadata": {},
   "source": [
    "Nous continuons la procédure jusqu'à convergence, ou détection de problème non borné."
   ]
  },
  {
   "cell_type": "code",
   "execution_count": 22,
   "metadata": {},
   "outputs": [
    {
     "data": {
      "text/plain": [
       "5-element Array{Float64,1}:\n",
       " 5.0\n",
       " 0.0\n",
       " 1.0\n",
       " 0.0\n",
       " 0.0"
      ]
     },
     "execution_count": 22,
     "metadata": {},
     "output_type": "execute_result"
    }
   ],
   "source": [
    "idx = findall(x -> x < 0, Art[5,1:5])\n",
    "i = idx[argmin(s[idx]./-Art[5,idx])]\n",
    "s = s-s[i]/Art[5,i]*Art[5,1:5]"
   ]
  },
  {
   "cell_type": "code",
   "execution_count": 23,
   "metadata": {},
   "outputs": [
    {
     "data": {
      "text/plain": [
       "5×10 Array{Float64,2}:\n",
       "  1.0  0.0   1.5  0.0  -0.5  1.0  -1.0  -0.5  0.0   1.5\n",
       "  1.0  1.0   0.0  0.0   0.0  0.0   1.0   0.0  0.0   3.0\n",
       "  0.0  0.0   0.5  1.0   0.5  0.0   0.0   0.5  0.0   2.5\n",
       "  0.0  0.0   0.5  0.0  -0.5  0.0   0.0  -0.5  1.0   0.5\n",
       " -1.0  0.0  -2.0  0.0   1.0  0.0   2.0   2.0  0.0  -2.0"
      ]
     },
     "execution_count": 23,
     "metadata": {},
     "output_type": "execute_result"
    }
   ],
   "source": [
    "pivot!(Art, 3, 4)"
   ]
  },
  {
   "cell_type": "code",
   "execution_count": 24,
   "metadata": {},
   "outputs": [
    {
     "data": {
      "text/plain": [
       "3"
      ]
     },
     "execution_count": 24,
     "metadata": {},
     "output_type": "execute_result"
    }
   ],
   "source": [
    "idx = findall(x -> x < 0, Art[5,1:5])\n",
    "i = idx[argmin(s[idx]./-Art[5,idx])]\n",
    "s = s-s[i]/Art[5,i]*Art[5,1:5]\n",
    "i"
   ]
  },
  {
   "cell_type": "code",
   "execution_count": 25,
   "metadata": {},
   "outputs": [
    {
     "data": {
      "text/plain": [
       "5×10 Array{Float64,2}:\n",
       "  0.666667  0.0  1.0  0.0  -0.333333  …  -0.666667  -0.333333  0.0  1.0\n",
       "  1.0       1.0  0.0  0.0   0.0           1.0        0.0       0.0  3.0\n",
       " -0.333333  0.0  0.0  1.0   0.666667      0.333333   0.666667  0.0  2.0\n",
       " -0.333333  0.0  0.0  0.0  -0.333333      0.333333  -0.333333  1.0  0.0\n",
       "  0.333333  0.0  0.0  0.0   0.333333      0.666667   1.33333   0.0  0.0"
      ]
     },
     "execution_count": 25,
     "metadata": {},
     "output_type": "execute_result"
    }
   ],
   "source": [
    "pivot!(Art, 1, 3)"
   ]
  },
  {
   "cell_type": "markdown",
   "metadata": {},
   "source": [
    "La fonction artificielle prend la valeur 0 et nous avons donc convergé. La solution optimale est\n",
    "$x_1 = 0$, $x_2 = 3$, $x_3 = 1$, $x_4 = 2$, $x_5 = 0$, ce qui correspond bien à ce que nous avait donné JuMP.\n",
    "\n",
    "Remarquons cependant que nous avons encore une variable artificielle, $y_4$, dans la base. Nous pouvons l'échanger avec $x_1$ ou $x_5$."
   ]
  },
  {
   "cell_type": "code",
   "execution_count": 26,
   "metadata": {},
   "outputs": [
    {
     "data": {
      "text/plain": [
       "5×10 Array{Float64,2}:\n",
       " 0.0   0.0   1.0   0.0  -1.0           0.0   0.0  -1.0   2.0   1.0\n",
       " 0.0   1.0   0.0   0.0  -1.0          -1.0   2.0  -1.0   3.0   3.0\n",
       " 0.0   0.0   0.0   1.0   1.0           0.0   0.0   1.0  -1.0   2.0\n",
       " 1.0  -0.0  -0.0  -0.0   1.0           1.0  -1.0   1.0  -3.0  -0.0\n",
       " 0.0   0.0   0.0   0.0   5.55112e-17   1.0   1.0   1.0   1.0   0.0"
      ]
     },
     "execution_count": 26,
     "metadata": {},
     "output_type": "execute_result"
    }
   ],
   "source": [
    "C = Art\n",
    "pivot!(Art, 4, 1)"
   ]
  },
  {
   "cell_type": "code",
   "execution_count": 27,
   "metadata": {},
   "outputs": [
    {
     "data": {
      "text/plain": [
       "5×10 Array{Float64,2}:\n",
       "  1.0           0.0   1.0   0.0  0.0   1.0  -1.0  0.0  -1.0   1.0\n",
       "  1.0           1.0   0.0   0.0  0.0   0.0   1.0  0.0   0.0   3.0\n",
       " -1.0           0.0   0.0   1.0  0.0  -1.0   1.0  0.0   2.0   2.0\n",
       "  1.0          -0.0  -0.0  -0.0  1.0   1.0  -1.0  1.0  -3.0  -0.0\n",
       " -5.55112e-17   0.0   0.0   0.0  0.0   1.0   1.0  1.0   1.0   0.0"
      ]
     },
     "execution_count": 27,
     "metadata": {},
     "output_type": "execute_result"
    }
   ],
   "source": [
    "Art = C\n",
    "pivot!(Art, 4, 5)"
   ]
  },
  {
   "cell_type": "markdown",
   "metadata": {},
   "source": [
    "L'expression de la solution en termes de base n'est pas unique, en raison de sa dégénérescence. Remarquons également que le vecteur de variables d'écart duales est lui différent, ce qui suggère que la solution duale n'est pas unique"
   ]
  },
  {
   "cell_type": "code",
   "execution_count": 28,
   "metadata": {},
   "outputs": [
    {
     "data": {
      "text/plain": [
       "5-element Array{Float64,1}:\n",
       " 4.5\n",
       " 0.0\n",
       " 0.0\n",
       " 0.0\n",
       " 0.5"
      ]
     },
     "execution_count": 28,
     "metadata": {},
     "output_type": "execute_result"
    }
   ],
   "source": [
    "s"
   ]
  },
  {
   "cell_type": "markdown",
   "metadata": {},
   "source": [
    "Essayons de trouver à la main $\\lambda$ à partir des écarts de complémentarité, comme\n",
    "$$\n",
    "A'\\lambda + s = c\n",
    "$$\n",
    "Nous avons"
   ]
  },
  {
   "cell_type": "code",
   "execution_count": 29,
   "metadata": {},
   "outputs": [
    {
     "data": {
      "text/plain": [
       "5-element Array{Float64,1}:\n",
       "  5.5\n",
       "  3.0\n",
       "  7.0\n",
       "  4.0\n",
       " -0.5"
      ]
     },
     "execution_count": 29,
     "metadata": {},
     "output_type": "execute_result"
    }
   ],
   "source": [
    "c-s"
   ]
  },
  {
   "cell_type": "code",
   "execution_count": 30,
   "metadata": {},
   "outputs": [
    {
     "data": {
      "text/plain": [
       "5×4 Transpose{Int64,Array{Int64,2}}:\n",
       " 2  1  0  0\n",
       " 1  1  0  0\n",
       " 2  0  1  1\n",
       " 1  0  2  1\n",
       " 0  0  1  0"
      ]
     },
     "execution_count": 30,
     "metadata": {},
     "output_type": "execute_result"
    }
   ],
   "source": [
    "transpose(A)"
   ]
  },
  {
   "cell_type": "markdown",
   "metadata": {},
   "source": [
    "On en tire $\\lambda_1 = 2.5$, $\\lambda_2 = 0.5$, $\\lambda_3 = -0.5$, $\\lambda_4 = 2.5$, ce qui est différent de la solution duale donnée par Gurobi. Pour autant, cette solution est réalisable pour le dual et satisfait la dualité forte:"
   ]
  },
  {
   "cell_type": "code",
   "execution_count": 31,
   "metadata": {},
   "outputs": [
    {
     "data": {
      "text/plain": [
       "5-element Array{Float64,1}:\n",
       " 0.0\n",
       " 0.0\n",
       " 0.0\n",
       " 0.0\n",
       " 0.0"
      ]
     },
     "execution_count": 31,
     "metadata": {},
     "output_type": "execute_result"
    }
   ],
   "source": [
    "λ2 = [ 2.5; 0.5; -0.5; 2.5]\n",
    "transpose(A)*λ2 + s - c"
   ]
  },
  {
   "cell_type": "code",
   "execution_count": 32,
   "metadata": {},
   "outputs": [
    {
     "data": {
      "text/plain": [
       "0.0"
      ]
     },
     "execution_count": 32,
     "metadata": {},
     "output_type": "execute_result"
    }
   ],
   "source": [
    "dot(λ2,b)-dot(c,value.(x))"
   ]
  },
  {
   "cell_type": "code",
   "execution_count": null,
   "metadata": {},
   "outputs": [],
   "source": []
  }
 ],
 "metadata": {
  "kernelspec": {
   "display_name": "Julia 1.5.0",
   "language": "julia",
   "name": "julia-1.5"
  },
  "language_info": {
   "file_extension": ".jl",
   "mimetype": "application/julia",
   "name": "julia",
   "version": "1.5.0"
  }
 },
 "nbformat": 4,
 "nbformat_minor": 2
}
