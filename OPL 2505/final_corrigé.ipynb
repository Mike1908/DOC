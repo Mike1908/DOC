{
 "cells": [
  {
   "cell_type": "markdown",
   "metadata": {},
   "source": [
    "# Examen Final Automne 2020"
   ]
  },
  {
   "cell_type": "markdown",
   "metadata": {},
   "source": [
    "Consignes:\n",
    "- L'examen dure 3 heures. Les réponses peuvent être complétées sur le notebook ou hors ligne. Dans le dernier cas, veuillez déposer des photos ou des scans de l'examen sur studium. 15 minutes supplémentaires seront accordées pour le remise de l'examen.\n",
    "- L'examen est à cours ouvert. Vous pouvez aussi vous inspirer des bloc-notes vus au cours pour compléter les parties Julia qui l'exigent.\n",
    "- Si la réponse à une sous-question dépend de points précédents que vous n'avez pu résoudre, mais que vous avez l'idée du raisonnement pour cette sous-question, écrivez ce raisonnement.\n",
    "- N'hésitez pas à utiliser Julia pour vous aider dans les calculs."
   ]
  },
  {
   "cell_type": "markdown",
   "metadata": {},
   "source": [
    "Nous allons importer les librairies suivantes pour faciliter les calculs et vérifier les réponses."
   ]
  },
  {
   "cell_type": "code",
   "execution_count": 1,
   "metadata": {},
   "outputs": [],
   "source": [
    "using LinearAlgebra\n",
    "using JuMP\n",
    "using Gurobi, Ipopt\n",
    "using SparseArrays"
   ]
  },
  {
   "cell_type": "markdown",
   "metadata": {},
   "source": [
    "Nous reprenons également les portions de codes suivantes. En particulier, nous utiliserons la routine de pivot."
   ]
  },
  {
   "cell_type": "code",
   "execution_count": 2,
   "metadata": {},
   "outputs": [
    {
     "data": {
      "text/plain": [
       "pivot! (generic function with 1 method)"
      ]
     },
     "execution_count": 2,
     "metadata": {},
     "output_type": "execute_result"
    }
   ],
   "source": [
    "function pivot!(A, i::Int, j::Int)\n",
    "    (m, n) = size(A)\n",
    "    A[i, :] = A[i, :] / A[i, j]\n",
    "    for k in 1:m\n",
    "        if k != i\n",
    "            A[k, :] -= A[i, :]*A[k, j]\n",
    "        end\n",
    "    end\n",
    "    return A\n",
    "end"
   ]
  },
  {
   "cell_type": "code",
   "execution_count": 3,
   "metadata": {},
   "outputs": [
    {
     "data": {
      "text/plain": [
       "Mehrotra (generic function with 3 methods)"
      ]
     },
     "execution_count": 3,
     "metadata": {},
     "output_type": "execute_result"
    }
   ],
   "source": [
    "# Heuristique proposée par Mehrotra\n",
    "function genStart(A:: Matrix, b:: Vector, c:: Vector)\n",
    "    x̅ = A'*((A*A')\\b)\n",
    "    λ̅ = (A*A')\\A*c\n",
    "    s̅ = c - A'*λ̅\n",
    "\n",
    "    δx = max(-1.5*minimum(x̅),0)\n",
    "    δs = max(-1.5*minimum(s̅),0)\n",
    "\n",
    "    # δx et δs sont des scalaires, et doivent être ajoutés à chaque composante, c'est pourquoi nous utilisons .+\n",
    "    num = dot(x̅ .+ δx, s̅ .+ δs)\n",
    "    δx̅ = δx + num/(2*sum(s̅ .+ δs))\n",
    "    δs̅ = δs + num/(2*sum(x̅ .+ δx))\n",
    "\n",
    "    return (x̅ .+ δx̅, λ̅ , s̅ .+ δs̅)\n",
    "end\n",
    "\n",
    "function Mehrotra(A:: Matrix, b:: Vector, c:: Vector,\n",
    "                  ε:: Float64, maxIter:: Int64 = 1000, sparseMode:: Bool = True)\n",
    "\n",
    "    (m,n) = size(A)  # calcul la dimension de A\n",
    "    \n",
    "    if (sparseMode)\n",
    "        temp = sparse(A)\n",
    "        density = nnz(temp)/(m*n)\n",
    "       \n",
    "        # Si la densité de A est inférieure à 20%, nous travaillons avec une matrice creuse\n",
    "        if (density < .2)\n",
    "            A = sparse(A)\n",
    "            b = sparse(b)\n",
    "            c = sparse(c)\n",
    "        end\n",
    "    end\n",
    "\n",
    "    # Calcul du point de départ\n",
    "    res = genStart(A,b,c)\n",
    "    x = res[1]\n",
    "    λ = res[2]\n",
    "    s = res[3]\n",
    "    \n",
    "    iter = 0\n",
    "\n",
    "    # Nous utilisons le critère d'arrêt par défaut dans le test de boucle.\n",
    "    # Le test de convergence se fera en interne, et nous pourrons alors quitter la fonction.\n",
    "    while (iter < maxIter)\n",
    "        iter += 1\n",
    "        \n",
    "        # Calcul des résidus\n",
    "        rp = A*x-b\n",
    "        rd = A'*λ + s - c\n",
    "        rc = x .* s\n",
    "\n",
    "        # μ est aligné sur le saut de dualité\n",
    "        μ = dot(x,s)/n\n",
    "        \n",
    "        # Nous testons la qualité de la solution\n",
    "        if (max(μ, norm(rd), norm(rp)) < ε)\n",
    "            return (x,λ,s)\n",
    "        end\n",
    "        \n",
    "        # Calcul de M = AXS^-1A' et du factory de Cholesky R de M (M=R'R)\n",
    "        M = A*diagm(x./s)*A'\n",
    "        R = cholesky(M).U\n",
    "\n",
    "        # Calcul des termes de droite\n",
    "        td = rp - A*((rc - x.*rd)./s)\n",
    "        \n",
    "        # Étape prédictrice\n",
    "        Δλ_p = R\\(R'\\td)\n",
    "        Δs_p = rd - A'*Δλ_p\n",
    "        Δx_p = (rc - x.*Δs_p)./s\n",
    " \n",
    "        # Calculs des longueur de pas potentiels les plus longs\n",
    "        # Pas primal\n",
    "        α_p = 1/maximum([1 ; Δx_p ./ x])\n",
    "        # Pas dual\n",
    "        α_d = 1/maximum([1 ; Δs_p ./ s])\n",
    "        \n",
    "        # Paramètre centralisant\n",
    "        σ = (dot(x - α_p*Δx_p, s - α_d*Δs_p)/(n*μ))^3\n",
    "        \n",
    "        # Étape correctrice\n",
    "        rc = rc .- σ*μ + Δx_p.*Δs_p\n",
    "        td = rp - A*((rc - x.*rd)./s)\n",
    "        \n",
    "        Δλ_c = R\\(R'\\td)\n",
    "        Δs_c = rd - A'*Δλ_c\n",
    "        Δx_c = (rc - x.*Δs_c)./s\n",
    "        \n",
    "        η = max(0.995, 1-μ)\n",
    "        \n",
    "        # Pas primal\n",
    "        α_p = η/maximum([η ; Δx_c./x])\n",
    "        # Pas dual\n",
    "        α_d = η/maximum([η ; Δs_c./s])\n",
    "        \n",
    "        # Mise à jour da la solution\n",
    "        x -= α_p*Δx_c\n",
    "        λ -= α_d*Δλ_c\n",
    "        s -= α_d*Δs_c\n",
    "    end\n",
    "end"
   ]
  },
  {
   "cell_type": "markdown",
   "metadata": {},
   "source": [
    "## Question 1 (20 pts)\n",
    "\n",
    "Considérez le problème suivant\n",
    "\\begin{align*}\n",
    "\\max_x\\ & z = 2 x_1 - 4 x_2 \\\\\n",
    "\\mbox{t.q } & x_1 - x_2 \\leq 1 \\\\\n",
    "& x_1, x_2 \\geq 0.\n",
    "\\end{align*}\n",
    "\n",
    "- Écrivez le problème dual.\n",
    "- Utilisez les écarts complémentaires et la solution optimale du problème dual pour déterminer une solution optimale du primal.\n",
    "- Pour quelles valeurs de $c_1$, le coefficient de $x_1$ dans l'objectif primal, le problème dual n’a pas de solution réalisable? Pour ces valeurs de $c_1$, qu’arrive-t-il pour le problème primal?"
   ]
  },
  {
   "cell_type": "markdown",
   "metadata": {},
   "source": [
    "Le dual s'écrit simplement comme\n",
    "\\begin{align*}\n",
    "\\min\\ & y \\\\\n",
    "\\mbox{t.q. } & 2 \\leq y \\leq 4\n",
    "\\end{align*}\n",
    "On en déduit immédiatement que la solution optimale du dual est $y^* = 2$.\n",
    "\n",
    "La première contrainte duale est active, mais pas la seconde, aussi $x_2^* = 0$. De plus, comme $y^* > 0$, la contrainte primale est active, et dès lors, $x_1^* = 1$.\n",
    "\n",
    "Il suit immédiatement des points précédent que si $c_1 > 4$, le dual n'est pas réalisable comme nous aurions le programme\n",
    "\\begin{align*}\n",
    "\\min\\ & y \\\\\n",
    "\\mbox{t.q. } & c_1 \\leq y \\leq 4\n",
    "\\end{align*}\n",
    "Si le dual est non réalisable, le primal est non réalisable ou borné.\n",
    "La contrainte du primal n'ayant pas changé, on en déduit que le problème primal est non borné, ce qui se vérifie aisément. En effet, le primal devient\n",
    "\\begin{align*}\n",
    "\\max\\ & z = c_1x_1 - 4x_2 \\\\\n",
    "\\mbox{t.q. } & x_1 - x_2 \\leq 1 \\\\\n",
    "& x_1, x_2 \\geq 0\n",
    "\\end{align*}\n",
    "En prenant $x_2 = k$ et $x_1 = k+1$, avec $k \\geq 0$ arbitraire, nous obtenons $x_1 - x_2 = 1$, i.e. la solution est réalisable, et $z = c_1(k+1)-4k = (c_1-4)k + 1$ tend vers $+\\infty$ comme $k \\rightarrow +\\infty$."
   ]
  },
  {
   "cell_type": "markdown",
   "metadata": {},
   "source": [
    "## Question 2 (15 pts)\n",
    "\n",
    "Utilisez la méthode duale du simplexe pour résoudre\n",
    "\\begin{align*}\n",
    "\\min_x \\ & 2x_1 + x_2 \\\\\n",
    "\\mbox{t.q. } & 3x_1 + x_2 \\geq 3 \\\\\n",
    "& 4x_1 + 3x_2 \\geq 6 \\\\\n",
    "& x_1 + 2x_2 \\leq 3 \\\\\n",
    "& x_1,\\ x_2 \\geq 0.\n",
    "\\end{align*}"
   ]
  },
  {
   "cell_type": "markdown",
   "metadata": {},
   "source": [
    "Créons et affichons le tableau du simplexe. Pour ce faire, nous devons ajoutez deux variables de surplus pour les deux premières contraintes, et une variable d'écart pour la dernière contrainte. Ceci donne, en multipliant les deux premières contraintes par -1:"
   ]
  },
  {
   "cell_type": "code",
   "execution_count": 4,
   "metadata": {},
   "outputs": [
    {
     "data": {
      "text/plain": [
       "4×6 Array{Float64,2}:\n",
       " -3.0  -1.0  1.0  0.0  0.0  -3.0\n",
       " -4.0  -3.0  0.0  1.0  0.0  -6.0\n",
       "  1.0   2.0  0.0  0.0  1.0   3.0\n",
       "  2.0   1.0  0.0  0.0  0.0   0.0"
      ]
     },
     "execution_count": 4,
     "metadata": {},
     "output_type": "execute_result"
    }
   ],
   "source": [
    "A = [-3.0 -1 1 0 0; -4 -3 0 1 0; 1 2 0 0 1]\n",
    "b = [-3;-6;3]\n",
    "c = [2 1 0 0 0]\n",
    "z0 = 0\n",
    "S = [ A b ; c z0]"
   ]
  },
  {
   "cell_type": "markdown",
   "metadata": {},
   "source": [
    "Pivotons sur la première ligne. La comparaison entre la ligne des coûts réduits et la première ligne indique que l'élément pivot est alors l'élément (1,1)."
   ]
  },
  {
   "cell_type": "code",
   "execution_count": 5,
   "metadata": {},
   "outputs": [
    {
     "data": {
      "text/plain": [
       "4×6 Array{Float64,2}:\n",
       " 1.0   0.333333  -0.333333  -0.0  -0.0   1.0\n",
       " 0.0  -1.66667   -1.33333    1.0   0.0  -2.0\n",
       " 0.0   1.66667    0.333333   0.0   1.0   2.0\n",
       " 0.0   0.333333   0.666667   0.0   0.0  -2.0"
      ]
     },
     "execution_count": 5,
     "metadata": {},
     "output_type": "execute_result"
    }
   ],
   "source": [
    "pivot!(S,1,1)"
   ]
  },
  {
   "cell_type": "markdown",
   "metadata": {},
   "source": [
    "Nous devons partir à présent de la seconde ligne. Le pivot est (2,2)."
   ]
  },
  {
   "cell_type": "code",
   "execution_count": 6,
   "metadata": {},
   "outputs": [
    {
     "data": {
      "text/plain": [
       "4×6 Array{Float64,2}:\n",
       "  1.0  0.0  -0.6   0.2   0.0   0.6\n",
       " -0.0  1.0   0.8  -0.6  -0.0   1.2\n",
       "  0.0  0.0  -1.0   1.0   1.0   0.0\n",
       "  0.0  0.0   0.4   0.2   0.0  -2.4"
      ]
     },
     "execution_count": 6,
     "metadata": {},
     "output_type": "execute_result"
    }
   ],
   "source": [
    "pivot!(S,2,2)"
   ]
  },
  {
   "cell_type": "markdown",
   "metadata": {},
   "source": [
    "La solution est réalisable et les coûts réduits non-négatifs. Dès lors, nous avons terminé. La solution optimale est $x_1^* = 0.6$, $x_2^* = 1.2$, pour une valeur optimale de 2.4."
   ]
  },
  {
   "cell_type": "markdown",
   "metadata": {},
   "source": [
    "## Question 3 (20 pts)\n",
    "\n",
    "Résolvez à l'aide de l'algorithme branch and bound le problème\n",
    "\\begin{align*}\n",
    "\\max\\ z\\ & = 4x_1 - x_2 \\\\\n",
    "\\text{soumis à } & 7x_1 - 2x_2 \\leq 14 \\\\\n",
    "& x_2 \\leq 3 \\\\\n",
    "& 2x_1 - 2x_2 \\leq 3 \\\\\n",
    "& x_1 \\geq 0, x_2 \\geq 0 \\\\\n",
    "& x_1, x_2 \\text{ entiers.}\n",
    "\\end{align*}"
   ]
  },
  {
   "cell_type": "markdown",
   "metadata": {},
   "source": [
    "Affichons la solution désirée."
   ]
  },
  {
   "cell_type": "code",
   "execution_count": 7,
   "metadata": {},
   "outputs": [
    {
     "name": "stdout",
     "output_type": "stream",
     "text": [
      "Academic license - for non-commercial use only\n",
      "Max 4 x1 - x2\n",
      "Subject to\n",
      " constraint1 : 7 x1 - 2 x2 <= 14.0\n",
      " constraint2 : x2 <= 3.0\n",
      " constraint3 : 2 x1 - 2 x2 <= 3.0\n",
      " x1 >= 0.0\n",
      " x2 >= 0.0\n",
      " x1 integer\n",
      " x2 integer\n",
      "Gurobi Optimizer version 9.0.3 build v9.0.3rc0 (win64)\n",
      "Optimize a model with 3 rows, 2 columns and 5 nonzeros\n",
      "Model fingerprint: 0xa0c6d6d7\n",
      "Variable types: 0 continuous, 2 integer (0 binary)\n",
      "Coefficient statistics:\n",
      "  Matrix range     [1e+00, 7e+00]\n",
      "  Objective range  [1e+00, 4e+00]\n",
      "  Bounds range     [0e+00, 0e+00]\n",
      "  RHS range        [3e+00, 1e+01]\n",
      "Found heuristic solution: objective 4.0000000\n",
      "Presolve removed 3 rows and 2 columns\n",
      "Presolve time: 0.00s\n",
      "Presolve: All rows and columns removed\n",
      "\n",
      "Explored 0 nodes (0 simplex iterations) in 0.00 seconds\n",
      "Thread count was 1 (of 12 available processors)\n",
      "\n",
      "Solution count 2: 7 \n",
      "\n",
      "Optimal solution found (tolerance 1.00e-04)\n",
      "Best objective 7.000000000000e+00, best bound 7.000000000000e+00, gap 0.0000%\n",
      "\n",
      "User-callback calls 38, time in user-callback 0.00 sec\n"
     ]
    }
   ],
   "source": [
    "m = Model(with_optimizer(Gurobi.Optimizer))\n",
    "\n",
    "# Variables\n",
    "@variable(m, x1 >= 0, Int)\n",
    "@variable(m, x2 >= 0, Int)\n",
    "\n",
    "# Fonction objectif\n",
    "@objective(m, Max, 4x1 - x2)\n",
    "\n",
    "# Contraintes\n",
    "@constraint(m, constraint1, 7x1 -  2x2  <= 14)\n",
    "@constraint(m, constraint2,  x2  <= 3)\n",
    "@constraint(m, constraint3,  2x1 - 2x2  <= 3)\n",
    "\n",
    "# Modèle complet\n",
    "print(m)\n",
    "\n",
    "# Résoudre le problème\n",
    "status = optimize!(m)"
   ]
  },
  {
   "cell_type": "code",
   "execution_count": 8,
   "metadata": {},
   "outputs": [
    {
     "data": {
      "text/plain": [
       "2-element Array{Float64,1}:\n",
       " 2.0\n",
       " 1.0"
      ]
     },
     "execution_count": 8,
     "metadata": {},
     "output_type": "execute_result"
    }
   ],
   "source": [
    "x = [ value(x1); value(x2) ]"
   ]
  },
  {
   "cell_type": "markdown",
   "metadata": {},
   "source": [
    "Procédons à présent par branch & bound. La relaxation du problème donne"
   ]
  },
  {
   "cell_type": "code",
   "execution_count": 9,
   "metadata": {},
   "outputs": [
    {
     "name": "stdout",
     "output_type": "stream",
     "text": [
      "Academic license - for non-commercial use only\r\n",
      "Max 4 x1 - x2\n",
      "Subject to\n",
      " constraint1 : 7 x1 - 2 x2 <= 14.0\n",
      " constraint2 : x2 <= 3.0\n",
      " constraint3 : 2 x1 - 2 x2 <= 3.0\n",
      " x1 >= 0.0\n",
      " x2 >= 0.0\n",
      "Gurobi Optimizer version 9.0.3 build v9.0.3rc0 (win64)\r\n",
      "Optimize a model with 3 rows, 2 columns and 5 nonzeros\r\n",
      "Model fingerprint: 0xa0c41c97\r\n",
      "Coefficient statistics:\r\n",
      "  Matrix range     [1e+00, 7e+00]\r\n",
      "  Objective range  [1e+00, 4e+00]\r\n",
      "  Bounds range     [0e+00, 0e+00]\r\n",
      "  RHS range        [3e+00, 1e+01]\r\n",
      "Presolve removed 1 rows and 0 columns\r\n",
      "Presolve time: 0.00s\r\n",
      "Presolved: 2 rows, 2 columns, 4 nonzeros\r\n",
      "\r\n",
      "Iteration    Objective       Primal Inf.    Dual Inf.      Time\r\n",
      "       0    8.4305000e+00   1.350000e-02   0.000000e+00      0s\r\n",
      "       1    8.4285714e+00   0.000000e+00   0.000000e+00      0s\r\n",
      "\r\n",
      "Solved in 1 iterations and 0.00 seconds\r\n",
      "Optimal objective  8.428571429e+00\r\n",
      "\r\n",
      "User-callback calls 28, time in user-callback 0.00 sec\r\n"
     ]
    }
   ],
   "source": [
    "m = Model(with_optimizer(Gurobi.Optimizer))\n",
    "\n",
    "# Variables\n",
    "@variable(m, x1 >= 0)\n",
    "@variable(m, x2 >= 0)\n",
    "\n",
    "# Fonction objectif\n",
    "@objective(m, Max, 4x1 - x2)\n",
    "\n",
    "# Contraintes\n",
    "@constraint(m, constraint1, 7x1 -  2x2  <= 14)\n",
    "@constraint(m, constraint2,  x2  <= 3)\n",
    "@constraint(m, constraint3,  2x1 - 2x2  <= 3)\n",
    "\n",
    "# Modèle complet\n",
    "print(m)\n",
    "\n",
    "# Résoudre le problème\n",
    "status = optimize!(m)"
   ]
  },
  {
   "cell_type": "code",
   "execution_count": 10,
   "metadata": {},
   "outputs": [
    {
     "data": {
      "text/plain": [
       "Any[]"
      ]
     },
     "execution_count": 10,
     "metadata": {},
     "output_type": "execute_result"
    }
   ],
   "source": [
    "obj = []"
   ]
  },
  {
   "cell_type": "code",
   "execution_count": 11,
   "metadata": {},
   "outputs": [
    {
     "data": {
      "text/plain": [
       "sol_output (generic function with 1 method)"
      ]
     },
     "execution_count": 11,
     "metadata": {},
     "output_type": "execute_result"
    }
   ],
   "source": [
    "function sol_output()\n",
    "    if (termination_status(m) == MOI.INFEASIBLE)\n",
    "        println(\"Problème non réalisable\")\n",
    "\n",
    "        append!(obj, -Inf)\n",
    "    else\n",
    "        println(\"Solution optimale:\")\n",
    "        println(\"x1 = \", value(x1), \" x2 = \", value(x2))\n",
    "        println(\"Valeur optimale = \", objective_value(m))\n",
    "        \n",
    "        # On va enregistrer les valeurs objectifs trouvées.\n",
    "        append!(obj, objective_value(m))\n",
    "    end\n",
    "end"
   ]
  },
  {
   "cell_type": "code",
   "execution_count": 12,
   "metadata": {},
   "outputs": [
    {
     "name": "stdout",
     "output_type": "stream",
     "text": [
      "Solution optimale:\n",
      "x1 = 2.857142857142857 x2 = 3.0\n",
      "Valeur optimale = 8.428571428571429\n"
     ]
    },
    {
     "data": {
      "text/plain": [
       "1-element Array{Any,1}:\n",
       " 8.428571428571429"
      ]
     },
     "execution_count": 12,
     "metadata": {},
     "output_type": "execute_result"
    }
   ],
   "source": [
    "sol_output()"
   ]
  },
  {
   "cell_type": "markdown",
   "metadata": {},
   "source": [
    "Nous devons brancher sur x1."
   ]
  },
  {
   "cell_type": "code",
   "execution_count": 13,
   "metadata": {},
   "outputs": [
    {
     "name": "stdout",
     "output_type": "stream",
     "text": [
      "Max 4 x1 - x2\n",
      "Subject to\n",
      " constraint1 : 7 x1 - 2 x2 <= 14.0\n",
      " constraint2 : x2 <= 3.0\n",
      " constraint3 : 2 x1 - 2 x2 <= 3.0\n",
      " x1 >= 0.0\n",
      " x2 >= 0.0\n",
      " x1 <= 2.0\n",
      "Gurobi Optimizer version 9.0.3 build v9.0.3rc0 (win64)\r\n",
      "Optimize a model with 3 rows, 2 columns and 5 nonzeros\r\n",
      "Coefficient statistics:\r\n",
      "  Matrix range     [1e+00, 7e+00]\r\n",
      "  Objective range  [1e+00, 4e+00]\r\n",
      "  Bounds range     [2e+00, 2e+00]\r\n",
      "  RHS range        [3e+00, 1e+01]\r\n",
      "       0    8.4285714e+00   8.571429e-01   0.000000e+00      0s\r\n",
      "       2    7.5000000e+00   0.000000e+00   0.000000e+00      0s\r\n",
      "\r\n",
      "Solved in 2 iterations and 0.00 seconds\r\n",
      "Optimal objective  7.500000000e+00\r\n",
      "\r\n",
      "User-callback calls 46, time in user-callback 0.00 sec\r\n",
      "Solution optimale:\n",
      "x1 = 2.0 x2 = 0.5\n",
      "Valeur optimale = 7.5\n"
     ]
    },
    {
     "data": {
      "text/plain": [
       "2-element Array{Any,1}:\n",
       " 8.428571428571429\n",
       " 7.5"
      ]
     },
     "execution_count": 13,
     "metadata": {},
     "output_type": "execute_result"
    }
   ],
   "source": [
    "set_upper_bound(x1, 2)\n",
    "\n",
    "# Modèle complet\n",
    "print(m)\n",
    "\n",
    "# Résoudre le problème\n",
    "status = optimize!(m)\n",
    "\n",
    "sol_output()"
   ]
  },
  {
   "cell_type": "code",
   "execution_count": 14,
   "metadata": {},
   "outputs": [
    {
     "name": "stdout",
     "output_type": "stream",
     "text": [
      "Max 4 x1 - x2\n",
      "Subject to\n",
      " constraint1 : 7 x1 - 2 x2 <= 14.0\n",
      " constraint2 : x2 <= 3.0\n",
      " constraint3 : 2 x1 - 2 x2 <= 3.0\n",
      " x1 >= 3.0\n",
      " x2 >= 0.0\n",
      "Gurobi Optimizer version 9.0.3 build v9.0.3rc0 (win64)\r\n",
      "Optimize a model with 3 rows, 2 columns and 5 nonzeros\r\n",
      "Coefficient statistics:\r\n",
      "  Matrix range     [1e+00, 7e+00]\r\n",
      "  Objective range  [1e+00, 4e+00]\r\n",
      "  Bounds range     [3e+00, 3e+00]\r\n",
      "  RHS range        [3e+00, 1e+01]\r\n",
      "       0    3.0000000e+30   1.625000e+30   3.000000e+00      0s\r\n",
      "\r\n",
      "Solved in 2 iterations and 0.00 seconds\r\n",
      "Infeasible model\r\n",
      "\r\n",
      "User-callback calls 67, time in user-callback 0.00 sec\r\n",
      "Problème non réalisable\n"
     ]
    },
    {
     "data": {
      "text/plain": [
       "3-element Array{Any,1}:\n",
       "   8.428571428571429\n",
       "   7.5\n",
       " -Inf"
      ]
     },
     "execution_count": 14,
     "metadata": {},
     "output_type": "execute_result"
    }
   ],
   "source": [
    "delete_upper_bound(x1)\n",
    "set_lower_bound(x1, 3)\n",
    "\n",
    "# Modèle complet\n",
    "print(m)\n",
    "\n",
    "# Résoudre le problème\n",
    "status = optimize!(m)\n",
    "\n",
    "sol_output()"
   ]
  },
  {
   "cell_type": "markdown",
   "metadata": {},
   "source": [
    "Le problème n'est pas réalisable pour $x_1 \\geq 3$. Nous pouvons donc nous concentrer sur la $x_1 \\leq 2$.\n",
    "\n",
    "Nous branchons sur $x_2$."
   ]
  },
  {
   "cell_type": "code",
   "execution_count": 15,
   "metadata": {},
   "outputs": [
    {
     "name": "stdout",
     "output_type": "stream",
     "text": [
      "Max 4 x1 - x2\n",
      "Subject to\n",
      " constraint1 : 7 x1 - 2 x2 <= 14.0\n",
      " constraint2 : x2 <= 3.0\n",
      " constraint3 : 2 x1 - 2 x2 <= 3.0\n",
      " x2 >= 0.0\n",
      " x1 <= 2.0\n",
      " x2 <= 0.0\n",
      "Gurobi Optimizer version 9.0.3 build v9.0.3rc0 (win64)\r\n",
      "Optimize a model with 3 rows, 2 columns and 5 nonzeros\r\n",
      "Coefficient statistics:\r\n",
      "  Matrix range     [1e+00, 7e+00]\r\n",
      "  Objective range  [1e+00, 4e+00]\r\n",
      "  Bounds range     [2e+00, 2e+00]\r\n",
      "  RHS range        [3e+00, 1e+01]\r\n",
      "Iteration    Objective       Primal Inf.    Dual Inf.      Time\r\n",
      "       0    8.4285714e+00   3.857143e+00   0.000000e+00      0s\r\n",
      "       2    6.0000000e+00   0.000000e+00   0.000000e+00      0s\r\n",
      "\r\n",
      "Solved in 2 iterations and 0.00 seconds\r\n",
      "Optimal objective  6.000000000e+00\r\n",
      "\r\n",
      "User-callback calls 86, time in user-callback 0.00 sec\r\n",
      "Solution optimale:\n",
      "x1 = 1.5 x2 = 0.0\n",
      "Valeur optimale = 6.0\n"
     ]
    },
    {
     "data": {
      "text/plain": [
       "4-element Array{Any,1}:\n",
       "   8.428571428571429\n",
       "   7.5\n",
       " -Inf\n",
       "   6.0"
      ]
     },
     "execution_count": 15,
     "metadata": {},
     "output_type": "execute_result"
    }
   ],
   "source": [
    "delete_lower_bound(x1)\n",
    "set_upper_bound(x1, 2)\n",
    "set_upper_bound(x2, 0)\n",
    "\n",
    "# Modèle complet\n",
    "print(m)\n",
    "\n",
    "# Résoudre le problème\n",
    "status = optimize!(m)\n",
    "\n",
    "sol_output()"
   ]
  },
  {
   "cell_type": "code",
   "execution_count": 16,
   "metadata": {},
   "outputs": [
    {
     "name": "stdout",
     "output_type": "stream",
     "text": [
      "Max 4 x1 - x2\n",
      "Subject to\n",
      " constraint1 : 7 x1 - 2 x2 <= 14.0\n",
      " constraint2 : x2 <= 3.0\n",
      " constraint3 : 2 x1 - 2 x2 <= 3.0\n",
      " x2 >= 1.0\n",
      " x1 <= 2.0\n",
      " x2 <= 3.0\n",
      "Gurobi Optimizer version 9.0.3 build v9.0.3rc0 (win64)\r\n",
      "Optimize a model with 3 rows, 2 columns and 5 nonzeros\r\n",
      "Coefficient statistics:\r\n",
      "  Matrix range     [1e+00, 7e+00]\r\n",
      "  Objective range  [1e+00, 4e+00]\r\n",
      "  Bounds range     [1e+00, 3e+00]\r\n",
      "  RHS range        [3e+00, 1e+01]\r\n",
      "       0    1.5000000e+01   3.937500e+00   0.000000e+00      0s\r\n",
      "       1    7.0000000e+00   0.000000e+00   0.000000e+00      0s\r\n",
      "\r\n",
      "Solved in 1 iterations and 0.00 seconds\r\n",
      "Optimal objective  7.000000000e+00\r\n",
      "\r\n",
      "User-callback calls 103, time in user-callback 0.00 sec\r\n",
      "Solution optimale:\n",
      "x1 = 2.0 x2 = 1.0\n",
      "Valeur optimale = 7.0\n"
     ]
    },
    {
     "data": {
      "text/plain": [
       "5-element Array{Any,1}:\n",
       "   8.428571428571429\n",
       "   7.5\n",
       " -Inf\n",
       "   6.0\n",
       "   7.0"
      ]
     },
     "execution_count": 16,
     "metadata": {},
     "output_type": "execute_result"
    }
   ],
   "source": [
    "set_lower_bound(x2, 1)\n",
    "set_upper_bound(x2, 3)\n",
    "\n",
    "# Modèle complet\n",
    "print(m)\n",
    "\n",
    "# Résoudre le problème\n",
    "status = optimize!(m)\n",
    "\n",
    "sol_output()"
   ]
  },
  {
   "cell_type": "markdown",
   "metadata": {},
   "source": [
    "Avec $x_2 >= 1$, la solution est entière pour une valeur objectif de 7.\n",
    "\n",
    "Nous pouvons également élaguer la branche $x_2 <= 0$ comme la valeur objectif vaut alors 6, et il n'est pas possible d'atteindre une valeur plus grande en continuant à brancher.\n",
    "\n",
    "Il n'y a plus de branche non élaguée aussi nous avons terminé. La solution optimale est bien $x_1 = 2$, $x_2 = 1$."
   ]
  },
  {
   "cell_type": "markdown",
   "metadata": {},
   "source": [
    "## Question 4 (10 pts)\n",
    "\n",
    "Considérons le problème\n",
    "\\begin{align*}\n",
    "\\min\\ & -4x_1 - 14x_2 \\\\\n",
    "\\text{soumis à } & 2x_1 +7x_2 \\leq 21 \\\\\n",
    "& 7x1 +2x2 \\leq 21 \\\\\n",
    "& x1 \\geq 0, x2 \\geq 0 .\n",
    "\\end{align*}\n",
    "L'application de `Gurobi` donne la solution optimale x_1 = 0, x_2 = 3, tandis que le logiciel `Ipopt`, qui implémente une méthode de points intérieurs, donne la solution optimale x1 = 0.28155026155537355 x2 = 2.9195570979480405.\n",
    "\n",
    "Pouvez-vous expliquer d'où provient cette différence?\n",
    "\n",
    "Les deux logiciels donne pour solution duale optimale (-2, 0). Pouvez-vous vérifier que cette solution est effectivement optimale pour le problème dual, sans résoudre explicitement ce dernier problème?"
   ]
  },
  {
   "cell_type": "markdown",
   "metadata": {},
   "source": [
    "Construisons le problème sous forme standard."
   ]
  },
  {
   "cell_type": "code",
   "execution_count": 17,
   "metadata": {},
   "outputs": [
    {
     "data": {
      "text/plain": [
       "4-element Array{Int64,1}:\n",
       "  -4\n",
       " -14\n",
       "   0\n",
       "   0"
      ]
     },
     "execution_count": 17,
     "metadata": {},
     "output_type": "execute_result"
    }
   ],
   "source": [
    "A = [ 2 7 1 0 ; 7 2 0 1]\n",
    "b = [ 21; 21 ]\n",
    "c = [ -4; -14; 0; 0 ]"
   ]
  },
  {
   "cell_type": "markdown",
   "metadata": {},
   "source": [
    "La solution du simplexe est x_1 = 7/3, x_2 = 7/3. Si non appliquons l'algorithme de Merothra vu au cours, nous obtenons une solution différente:"
   ]
  },
  {
   "cell_type": "code",
   "execution_count": 18,
   "metadata": {},
   "outputs": [
    {
     "name": "stdout",
     "output_type": "stream",
     "text": [
      "x = [2.2446535127221634, 2.3586704249365242, 6.255453194316479e-16, 0.5700845610718075]\n",
      "Ax = [20.999999999999996, 21.0]\n",
      "z = c^Tx = -41.99999999999999\n"
     ]
    }
   ],
   "source": [
    "x = Mehrotra(A,b,c,1e-10,10,true)[1]\n",
    "\n",
    "println(\"x = \", x)\n",
    "println(\"Ax = \", A*x)\n",
    "println(\"z = c^Tx = \", dot(c,x))"
   ]
  },
  {
   "cell_type": "markdown",
   "metadata": {},
   "source": [
    "Appliquons Gurobi et IPopt."
   ]
  },
  {
   "cell_type": "code",
   "execution_count": 19,
   "metadata": {},
   "outputs": [
    {
     "name": "stdout",
     "output_type": "stream",
     "text": [
      "Academic license - for non-commercial use only\r\n",
      "Min -4 x1 - 14 x2\n",
      "Subject to\n",
      " constraint1 : 2 x1 + 7 x2 <= 21.0\n",
      " constraint2 : 7 x1 + 2 x2 <= 21.0\n",
      " x1 >= 0.0\n",
      " x2 >= 0.0\n",
      "Gurobi Optimizer version 9.0.3 build v9.0.3rc0 (win64)\r\n",
      "Optimize a model with 2 rows, 2 columns and 4 nonzeros\r\n",
      "Model fingerprint: 0x9712c6d2\r\n",
      "Coefficient statistics:\r\n",
      "  Matrix range     [2e+00, 7e+00]\r\n",
      "  Objective range  [4e+00, 1e+01]\r\n",
      "  Bounds range     [0e+00, 0e+00]\r\n",
      "  RHS range        [2e+01, 2e+01]\r\n",
      "Presolve time: 0.00s\r\n",
      "Presolved: 2 rows, 2 columns, 4 nonzeros\r\n",
      "\r\n",
      "Iteration    Objective       Primal Inf.    Dual Inf.      Time\r\n",
      "       0   -1.8000000e+31   2.250000e+30   1.800000e+01      0s\r\n",
      "       1   -4.2000000e+01   0.000000e+00   0.000000e+00      0s\r\n",
      "\r\n",
      "Solved in 1 iterations and 0.00 seconds\r\n",
      "Optimal objective -4.200000000e+01\r\n",
      "\r\n",
      "User-callback calls 26, time in user-callback 0.00 sec\r\n",
      "Optimal Solutions:\n",
      "x1 = 0.0 x2 = 3.0\n"
     ]
    }
   ],
   "source": [
    "m = Model(with_optimizer(Gurobi.Optimizer))\n",
    "\n",
    "# Variables\n",
    "@variable(m, x1 >= 0)\n",
    "@variable(m, x2 >= 0)\n",
    "\n",
    "# Fonction objectif\n",
    "@objective(m, Min, -4x1 -14x2)\n",
    "\n",
    "# Contraintes\n",
    "@constraint(m, constraint1, 2x1 + 7x2 <= 21)\n",
    "@constraint(m, constraint2, 7x1 + 2x2 <= 21)\n",
    "\n",
    "# Modèle complet\n",
    "print(m)\n",
    "\n",
    "# Résoudre le problème\n",
    "status = optimize!(m)\n",
    "\n",
    "println(\"Optimal Solutions:\")\n",
    "println(\"x1 = \", value(x1), \" x2 = \", value(x2))"
   ]
  },
  {
   "cell_type": "code",
   "execution_count": 20,
   "metadata": {},
   "outputs": [
    {
     "data": {
      "text/plain": [
       "-2.0"
      ]
     },
     "execution_count": 20,
     "metadata": {},
     "output_type": "execute_result"
    }
   ],
   "source": [
    "dual(constraint1)"
   ]
  },
  {
   "cell_type": "code",
   "execution_count": 21,
   "metadata": {},
   "outputs": [
    {
     "data": {
      "text/plain": [
       "0.0"
      ]
     },
     "execution_count": 21,
     "metadata": {},
     "output_type": "execute_result"
    }
   ],
   "source": [
    "dual(constraint2)"
   ]
  },
  {
   "cell_type": "code",
   "execution_count": 22,
   "metadata": {},
   "outputs": [
    {
     "name": "stdout",
     "output_type": "stream",
     "text": [
      "Min -4 x1 - 14 x2\n",
      "Subject to\n",
      " constraint1 : 2 x1 + 7 x2 <= 21.0\n",
      " constraint2 : 7 x1 + 2 x2 <= 21.0\n",
      " x1 >= 0.0\n",
      " x2 >= 0.0\n",
      "\n",
      "******************************************************************************\n",
      "This program contains Ipopt, a library for large-scale nonlinear optimization.\n",
      " Ipopt is released as open source code under the Eclipse Public License (EPL).\n",
      "         For more information visit http://projects.coin-or.org/Ipopt\n",
      "******************************************************************************\n",
      "\n",
      "This is Ipopt version 3.13.2, running with linear solver mumps.\n",
      "NOTE: Other linear solvers might be more efficient (see Ipopt documentation).\n",
      "\n",
      "Number of nonzeros in equality constraint Jacobian...:        0\n",
      "Number of nonzeros in inequality constraint Jacobian.:        4\n",
      "Number of nonzeros in Lagrangian Hessian.............:        0\n",
      "\n",
      "Total number of variables............................:        2\n",
      "                     variables with only lower bounds:        2\n",
      "                variables with lower and upper bounds:        0\n",
      "                     variables with only upper bounds:        0\n",
      "Total number of equality constraints.................:        0\n",
      "Total number of inequality constraints...............:        2\n",
      "        inequality constraints with only lower bounds:        0\n",
      "   inequality constraints with lower and upper bounds:        0\n",
      "        inequality constraints with only upper bounds:        2\n",
      "\n",
      "iter    objective    inf_pr   inf_du lg(mu)  ||d||  lg(rg) alpha_du alpha_pr  ls\n",
      "   0 -1.7999982e-01 0.00e+00 1.07e+00  -1.0 0.00e+00    -  0.00e+00 0.00e+00   0\n",
      "   1 -3.9590938e+00 0.00e+00 1.32e+01  -1.0 1.89e+00    -  6.98e-02 1.00e+00f  1\n",
      "   2 -3.0938080e+01 0.00e+00 8.70e+00  -1.0 3.86e+01    -  1.00e+00 3.49e-01f  1\n",
      "   3 -4.1889381e+01 0.00e+00 3.44e-01  -1.0 5.69e+00    -  8.90e-01 9.62e-01f  1\n",
      "   4 -4.1900195e+01 0.00e+00 1.00e-06  -1.0 1.06e+00    -  1.00e+00 1.00e+00f  1\n",
      "   5 -4.1997125e+01 0.00e+00 2.83e-08  -2.5 1.69e-01    -  1.00e+00 1.00e+00f  1\n",
      "   6 -4.1999850e+01 0.00e+00 1.50e-09  -3.8 2.89e-01    -  1.00e+00 1.00e+00f  1\n",
      "   7 -4.1999999e+01 0.00e+00 1.85e-11  -5.7 6.47e-02    -  1.00e+00 1.00e+00f  1\n",
      "   8 -4.2000000e+01 0.00e+00 2.52e-14  -8.6 7.11e-03    -  1.00e+00 1.00e+00f  1\n",
      "\n",
      "Number of Iterations....: 8\n",
      "\n",
      "                                   (scaled)                 (unscaled)\n",
      "Objective...............:  -4.2000000417494064e+01   -4.2000000417494064e+01\n",
      "Dual infeasibility......:   2.5181175461786473e-14    2.5181175461786473e-14\n",
      "Constraint violation....:   0.0000000000000000e+00    0.0000000000000000e+00\n",
      "Complementarity.........:   4.1512001960589331e-09    4.1512001960589331e-09\n",
      "Overall NLP error.......:   4.1512001960589331e-09    4.1512001960589331e-09\n",
      "\n",
      "\n",
      "Number of objective function evaluations             = 9\n",
      "Number of objective gradient evaluations             = 9\n",
      "Number of equality constraint evaluations            = 0\n",
      "Number of inequality constraint evaluations          = 9\n",
      "Number of equality constraint Jacobian evaluations   = 0\n",
      "Number of inequality constraint Jacobian evaluations = 1\n",
      "Number of Lagrangian Hessian evaluations             = 1\n",
      "Total CPU secs in IPOPT (w/o function evaluations)   =      1.842\n",
      "Total CPU secs in NLP function evaluations           =      0.094\n",
      "\n",
      "EXIT: Optimal Solution Found.\n",
      "Optimal Solutions:\n",
      "x1 = 0.28155026155537355 x2 = 2.9195570979480405\n"
     ]
    }
   ],
   "source": [
    "m = Model(with_optimizer(Ipopt.Optimizer))\n",
    "\n",
    "# Variables\n",
    "@variable(m, x1 >= 0)\n",
    "@variable(m, x2 >= 0)\n",
    "\n",
    "# Fonction objectif\n",
    "@objective(m, Min, -4x1 -14x2)\n",
    "\n",
    "# Contraintes\n",
    "@constraint(m, constraint1, 2x1 + 7x2 <= 21)\n",
    "@constraint(m, constraint2, 7x1 + 2x2 <= 21)\n",
    "\n",
    "# Modèle complet\n",
    "print(m)\n",
    "\n",
    "# Résoudre le problème\n",
    "status = optimize!(m)\n",
    "\n",
    "println(\"Optimal Solutions:\")\n",
    "println(\"x1 = \", value(x1), \" x2 = \", value(x2))"
   ]
  },
  {
   "cell_type": "code",
   "execution_count": 23,
   "metadata": {},
   "outputs": [
    {
     "data": {
      "text/plain": [
       "2-element Array{Float64,1}:\n",
       " 0.28155026155537355\n",
       " 2.9195570979480405"
      ]
     },
     "execution_count": 23,
     "metadata": {},
     "output_type": "execute_result"
    }
   ],
   "source": [
    "sol_iptopt = [ value.(x1);  value.(x2) ]"
   ]
  },
  {
   "cell_type": "code",
   "execution_count": 24,
   "metadata": {},
   "outputs": [
    {
     "data": {
      "text/plain": [
       "-2.0000000000432734"
      ]
     },
     "execution_count": 24,
     "metadata": {},
     "output_type": "execute_result"
    }
   ],
   "source": [
    "dual(constraint1)"
   ]
  },
  {
   "cell_type": "code",
   "execution_count": 25,
   "metadata": {},
   "outputs": [
    {
     "data": {
      "text/plain": [
       "-3.14697415402056e-10"
      ]
     },
     "execution_count": 25,
     "metadata": {},
     "output_type": "execute_result"
    }
   ],
   "source": [
    "dual(constraint2)"
   ]
  },
  {
   "cell_type": "markdown",
   "metadata": {},
   "source": [
    "La différence de solution vient du fait qu'un algorithme de point intérieur donne comme solution le centre analytique de la face optimale, tandis que l'algorithme du simplexe renvoit un point extrême. Or on remarque facilement ici que la solution n'est pas unique comme l'objectif est parallèle à la première contrainte, qui va former une face optimale. IPopt trouve une solution sur cette face optimale, tandis que Gurobi retourne un point extrême."
   ]
  },
  {
   "cell_type": "markdown",
   "metadata": {},
   "source": [
    "Problème dual:\n",
    "\\begin{align*}\n",
    "\\max \\ & 21y_1 + 21y_2 \\\\\n",
    " & 2y_1 + 7y_2 \\leq -4 \\\\\n",
    " & 7y_1 + 2y_2 \\leq -14 \\\\\n",
    " & y_1 \\leq 0, y_2 \\leq 0.\n",
    "\\end{align*}\n",
    "\n",
    "Les écarts de complémentarité donnent\n",
    "\\begin{align*}\n",
    "& 2x_1 +7x_2 \\leq 21 \\\\\n",
    "& 7x1 +2x2 \\leq 21 \\\\\n",
    "& x1 \\geq 0, x2 \\geq 0 \\\\\n",
    " & 2y_1 + 7y_2 \\leq -4 \\\\\n",
    " & 7y_1 + 2y_2 \\leq -14 \\\\\n",
    " & y_1 \\leq 0, y_2 \\leq 0 \\\\\n",
    " & x_1(2y_1 + 7y_2 + 4) = 0 \\\\\n",
    " & x_2(7y_1 + 2y_2 +14) = 0\n",
    "\\end{align*}\n",
    "Remarquons que si $x_1 \\ne 0$, $x_2 \\ne 0$, alors les deux équations duales doivent être actives, donnant la solution duale"
   ]
  },
  {
   "cell_type": "code",
   "execution_count": 26,
   "metadata": {},
   "outputs": [
    {
     "data": {
      "text/plain": [
       "2-element Array{Float64,1}:\n",
       " -2.0\n",
       "  0.0"
      ]
     },
     "execution_count": 26,
     "metadata": {},
     "output_type": "execute_result"
    }
   ],
   "source": [
    "D = [ 2 7 ; 7 2]\n",
    "d = [ -4 ; -14 ]\n",
    "D\\d"
   ]
  },
  {
   "cell_type": "markdown",
   "metadata": {},
   "source": [
    "Cette solution satisfait la dualité forte et est donc optimale.\n",
    "Si une des deux contraintes duales est inactive, la variable primale correspondante devrait valoir 0. Remarquons tout d'abord que les deux contraintes ne peuvent être inactives en même temps, car alors $x_1 = x_2 = 0$, mais la dualité forte ne tient plus.\n",
    "Si $x_1 = 0$, $x_2 > 0$, alors $x_2 \\leq 3$, et pour que la dualité forte tiennent, il faut $x_2 = 3$. Dès lors, $(0,3)$ est bien solution et l'objectif dual se réécrit $-42 - 6y_2$. La dualité forte implique $-14x_2 = -42-6y_2$, mais dès que $y_2 < 0$, on s'écarte de la valeur la plus basse possible, aussi $x_2 = 4$, $y_2 = 0$, $y_1 = -2$. Si $x_2 = 0$, $x_1 > 0$ et il faut $-4x_1 = -42-6y_1$. Nous ne pouvons atteindre 42 qu'avec $x_1 = 10.5$, $y_1 = 0$, mais alors la faisabilité primale est violée. La solution duale est donc unique.\n",
    "\n",
    "Nous pouvons aussi le voir en utilisant la forme standard du primal\n",
    "\\begin{align*}\n",
    "& 2x_1 +7x_2 + x_3 = 21 \\\\\n",
    "& 7x1 +2x2 + x_4 = 21 \\\\\n",
    "& x1 \\geq 0, x2 \\geq 0 \\\\\n",
    " & 2y_1 + 7y_2 \\leq -4 \\\\\n",
    " & 7y_1 + 2y_2 \\leq -14 \\\\\n",
    " & y_1 \\leq 0 \\\\\n",
    " & y_2 \\leq 0 \\\\\n",
    " & x_1(2y_1 + 7y_2 + 4) = 0 \\\\\n",
    " & x_2(7y_1 + 2y_2 +14) = 0 \\\\\n",
    " & x_3y_1 = 0 \\\\\n",
    " & x_4y_2 = 0\n",
    "\\end{align*}\n",
    "Si $x_1 > 0$, $x_2 > 0$, alors $y_1 = -2$, $y_2 = 0$, et donc $x_3 = 0$. Par contre, on ne peut pas déterminer une valeur unique pour $x_1$ et $x_2$ comme l'objectif primal est parallèle à la première contrainte.\n",
    "Si $x_1 = 0$, la valeur optimale est atteinte avec $x_2 = 3$, $x_3 = 0$, $x_4 = 15$. Dès lors $y_1 = -2$, $y_2 = 0$ et la dualité forte tient. On retrouve la même solution.\n",
    "Alors $x_2 > 0$, la valeur optimale est atteinte pour $x_1 = 10.5$ mais ceci viole la faisabilité primale."
   ]
  },
  {
   "cell_type": "code",
   "execution_count": 27,
   "metadata": {},
   "outputs": [
    {
     "data": {
      "text/plain": [
       "2-element Array{Float64,1}:\n",
       " 0.7\n",
       " 1.0"
      ]
     },
     "execution_count": 27,
     "metadata": {},
     "output_type": "execute_result"
    }
   ],
   "source": [
    "Δb = [0.7; 1]"
   ]
  },
  {
   "cell_type": "markdown",
   "metadata": {},
   "source": [
    "Nous devons déterminer la base optimale donnée par Gurobi.\n",
    "\n",
    "Sous forme standard, nous avons la solution $x_1 = 0$, $x_2 = 3$, $x_3 = 0$, $x_4 = 15$; autrement dit, la base est composée des deuxièmes et quatrièmes colonnes de la matrice $A$, avec"
   ]
  },
  {
   "cell_type": "code",
   "execution_count": 28,
   "metadata": {},
   "outputs": [
    {
     "data": {
      "text/plain": [
       "2×4 Array{Int64,2}:\n",
       " 2  7  1  0\n",
       " 7  2  0  1"
      ]
     },
     "execution_count": 28,
     "metadata": {},
     "output_type": "execute_result"
    }
   ],
   "source": [
    "A = [ 2 7 1 0 ; 7 2 0 1]"
   ]
  },
  {
   "cell_type": "markdown",
   "metadata": {},
   "source": [
    "Dès lors,"
   ]
  },
  {
   "cell_type": "code",
   "execution_count": 29,
   "metadata": {},
   "outputs": [
    {
     "data": {
      "text/plain": [
       "2×2 Array{Int64,2}:\n",
       " 7  0\n",
       " 2  1"
      ]
     },
     "execution_count": 29,
     "metadata": {},
     "output_type": "execute_result"
    }
   ],
   "source": [
    "B = A[:,[2,4]]"
   ]
  },
  {
   "cell_type": "markdown",
   "metadata": {},
   "source": [
    "Ainsi, la solution devient"
   ]
  },
  {
   "cell_type": "code",
   "execution_count": 30,
   "metadata": {},
   "outputs": [
    {
     "data": {
      "text/plain": [
       "2-element Array{Float64,1}:\n",
       " 0.09999999999999999\n",
       " 0.8"
      ]
     },
     "execution_count": 30,
     "metadata": {},
     "output_type": "execute_result"
    }
   ],
   "source": [
    "Δx = B\\Δb"
   ]
  },
  {
   "cell_type": "markdown",
   "metadata": {},
   "source": [
    "i.e. $x_1 = 0$, $x_2 = 3.1$, $x_3 = 0$, $x_4 = 15.8$. Vérifions-le avec Gurobi."
   ]
  },
  {
   "cell_type": "markdown",
   "metadata": {},
   "source": [
    "La variation de l'objectif est"
   ]
  },
  {
   "cell_type": "code",
   "execution_count": 31,
   "metadata": {},
   "outputs": [
    {
     "data": {
      "text/plain": [
       "-1.4"
      ]
     },
     "execution_count": 31,
     "metadata": {},
     "output_type": "execute_result"
    }
   ],
   "source": [
    "Δz = dot(c[[2,4]], Δx)"
   ]
  },
  {
   "cell_type": "code",
   "execution_count": 32,
   "metadata": {},
   "outputs": [
    {
     "name": "stdout",
     "output_type": "stream",
     "text": [
      "Academic license - for non-commercial use only\r\n",
      "Min -4 x1 - 14 x2\n",
      "Subject to\n",
      " constraint1 : 2 x1 + 7 x2 <= 21.7\n",
      " constraint2 : 7 x1 + 2 x2 <= 22.0\n",
      " x1 >= 0.0\n",
      " x2 >= 0.0\n",
      "Gurobi Optimizer version 9.0.3 build v9.0.3rc0 (win64)\r\n",
      "Optimize a model with 2 rows, 2 columns and 4 nonzeros\r\n",
      "Model fingerprint: 0xdd3e038c\r\n",
      "Coefficient statistics:\r\n",
      "  Matrix range     [2e+00, 7e+00]\r\n",
      "  Objective range  [4e+00, 1e+01]\r\n",
      "  Bounds range     [0e+00, 0e+00]\r\n",
      "  RHS range        [2e+01, 2e+01]\r\n",
      "Presolve time: 0.00s\r\n",
      "Presolved: 2 rows, 2 columns, 4 nonzeros\r\n",
      "\r\n",
      "Iteration    Objective       Primal Inf.    Dual Inf.      Time\r\n",
      "       0   -1.8000000e+31   2.250000e+30   1.800000e+01      0s\r\n",
      "       1   -4.3400000e+01   0.000000e+00   0.000000e+00      0s\r\n",
      "\r\n",
      "Solved in 1 iterations and 0.00 seconds\r\n",
      "Optimal objective -4.340000000e+01\r\n",
      "\r\n",
      "User-callback calls 26, time in user-callback 0.00 sec\r\n",
      "Optimal Solutions:\n",
      "x1 = 0.0 x2 = 3.1\n"
     ]
    }
   ],
   "source": [
    "m = Model(with_optimizer(Gurobi.Optimizer))\n",
    "\n",
    "# Variables\n",
    "@variable(m, x1 >= 0)\n",
    "@variable(m, x2 >= 0)\n",
    "\n",
    "# Fonction objectif\n",
    "@objective(m, Min, -4x1 -14x2)\n",
    "\n",
    "# Contraintes\n",
    "@constraint(m, constraint1, 2x1 + 7x2 <= 21.7)\n",
    "@constraint(m, constraint2, 7x1 + 2x2 <= 22)\n",
    "\n",
    "# Modèle complet\n",
    "print(m)\n",
    "\n",
    "# Résoudre le problème\n",
    "status = optimize!(m)\n",
    "\n",
    "println(\"Optimal Solutions:\")\n",
    "println(\"x1 = \", value(x1), \" x2 = \", value(x2))"
   ]
  },
  {
   "cell_type": "markdown",
   "metadata": {},
   "source": [
    "La solution diffère à nouveau de celle donnée par Ipopt, ce qui n'est pas surprenant vu que l'objectif et la première contrainte sont toujours parallèles."
   ]
  },
  {
   "cell_type": "code",
   "execution_count": 33,
   "metadata": {},
   "outputs": [
    {
     "name": "stdout",
     "output_type": "stream",
     "text": [
      "Min -4 x1 - 14 x2\n",
      "Subject to\n",
      " constraint1 : 2 x1 + 7 x2 <= 21.7\n",
      " constraint2 : 7 x1 + 2 x2 <= 22.0\n",
      " x1 >= 0.0\n",
      " x2 >= 0.0\n",
      "This is Ipopt version 3.13.2, running with linear solver mumps.\n",
      "NOTE: Other linear solvers might be more efficient (see Ipopt documentation).\n",
      "\n",
      "Number of nonzeros in equality constraint Jacobian...:        0\n",
      "Number of nonzeros in inequality constraint Jacobian.:        4\n",
      "Number of nonzeros in Lagrangian Hessian.............:        0\n",
      "\n",
      "Total number of variables............................:        2\n",
      "                     variables with only lower bounds:        2\n",
      "                variables with lower and upper bounds:        0\n",
      "                     variables with only upper bounds:        0\n",
      "Total number of equality constraints.................:        0\n",
      "Total number of inequality constraints...............:        2\n",
      "        inequality constraints with only lower bounds:        0\n",
      "   inequality constraints with lower and upper bounds:        0\n",
      "        inequality constraints with only upper bounds:        2\n",
      "\n",
      "iter    objective    inf_pr   inf_du lg(mu)  ||d||  lg(rg) alpha_du alpha_pr  ls\n",
      "   0 -1.7999982e-01 0.00e+00 1.07e+00  -1.0 0.00e+00    -  0.00e+00 0.00e+00   0\n",
      "   1 -3.9640044e+00 0.00e+00 1.32e+01  -1.0 1.89e+00    -  6.96e-02 1.00e+00f  1\n",
      "   2 -3.2017400e+01 0.00e+00 8.70e+00  -1.0 4.01e+01    -  1.00e+00 3.50e-01f  1\n",
      "   3 -4.3286174e+01 0.00e+00 3.51e-01  -1.0 5.86e+00    -  8.94e-01 9.61e-01f  1\n",
      "   4 -4.3300235e+01 0.00e+00 1.00e-06  -1.0 1.09e+00    -  1.00e+00 1.00e+00f  1\n",
      "   5 -4.3397124e+01 0.00e+00 2.83e-08  -2.5 1.78e-01    -  1.00e+00 1.00e+00f  1\n",
      "   6 -4.3399850e+01 0.00e+00 1.50e-09  -3.8 3.06e-01    -  1.00e+00 1.00e+00f  1\n",
      "   7 -4.3399999e+01 0.00e+00 1.84e-11  -5.7 6.84e-02    -  1.00e+00 1.00e+00f  1\n",
      "   8 -4.3400000e+01 0.00e+00 2.51e-14  -8.6 7.51e-03    -  1.00e+00 1.00e+00f  1\n",
      "\n",
      "Number of Iterations....: 8\n",
      "\n",
      "                                   (scaled)                 (unscaled)\n",
      "Objective...............:  -4.3400000431494071e+01   -4.3400000431494071e+01\n",
      "Dual infeasibility......:   2.5059035587193448e-14    2.5059035587193448e-14\n",
      "Constraint violation....:   0.0000000000000000e+00    0.0000000000000000e+00\n",
      "Complementarity.........:   4.1546234007601928e-09    4.1546234007601928e-09\n",
      "Overall NLP error.......:   4.1546234007601928e-09    4.1546234007601928e-09\n",
      "\n",
      "\n",
      "Number of objective function evaluations             = 9\n",
      "Number of objective gradient evaluations             = 9\n",
      "Number of equality constraint evaluations            = 0\n",
      "Number of inequality constraint evaluations          = 9\n",
      "Number of equality constraint Jacobian evaluations   = 0\n",
      "Number of inequality constraint Jacobian evaluations = 1\n",
      "Number of Lagrangian Hessian evaluations             = 1\n",
      "Total CPU secs in IPOPT (w/o function evaluations)   =      0.005\n",
      "Total CPU secs in NLP function evaluations           =      0.000\n",
      "\n",
      "EXIT: Optimal Solution Found.\n",
      "Optimal Solutions:\n",
      "x1 = 0.2921087445162392 x2 = 3.016540389530651\n"
     ]
    }
   ],
   "source": [
    "m = Model(with_optimizer(Ipopt.Optimizer))\n",
    "\n",
    "# Variables\n",
    "@variable(m, x1 >= 0)\n",
    "@variable(m, x2 >= 0)\n",
    "\n",
    "# Fonction objectif\n",
    "@objective(m, Min, -4x1 -14x2)\n",
    "\n",
    "# Contraintes\n",
    "@constraint(m, constraint1, 2x1 + 7x2 <= 21.7)\n",
    "@constraint(m, constraint2, 7x1 + 2x2 <= 22)\n",
    "\n",
    "# Modèle complet\n",
    "print(m)\n",
    "\n",
    "# Résoudre le problème\n",
    "status = optimize!(m)\n",
    "\n",
    "println(\"Optimal Solutions:\")\n",
    "println(\"x1 = \", value(x1), \" x2 = \", value(x2))"
   ]
  },
  {
   "cell_type": "markdown",
   "metadata": {},
   "source": [
    "Modifions à présent les coûts dans la fonction objectif, en considérant comme nouvel objectif\n",
    "$$\n",
    "\\min -3x_1 - 14 x_2.\n",
    "$$\n",
    "En supposant que la solution de base ne change pas, nous avons comme une variation nulle de l'objectif, comme $x_1 = 0$.\n",
    "\n",
    "Évidemment, nous ne pouvons pas immédiatement le déduire avec Ipopt, mais remarquons à présent que les deux solveurs s'accordent."
   ]
  },
  {
   "cell_type": "code",
   "execution_count": 34,
   "metadata": {},
   "outputs": [
    {
     "name": "stdout",
     "output_type": "stream",
     "text": [
      "Academic license - for non-commercial use only\r\n",
      "Min -3 x1 - 14 x2\n",
      "Subject to\n",
      " constraint1 : 2 x1 + 7 x2 <= 21.0\n",
      " constraint2 : 7 x1 + 2 x2 <= 21.0\n",
      " x1 >= 0.0\n",
      " x2 >= 0.0\n",
      "Gurobi Optimizer version 9.0.3 build v9.0.3rc0 (win64)\r\n",
      "Optimize a model with 2 rows, 2 columns and 4 nonzeros\r\n",
      "Model fingerprint: 0x9cd63989\r\n",
      "Coefficient statistics:\r\n",
      "  Matrix range     [2e+00, 7e+00]\r\n",
      "  Objective range  [3e+00, 1e+01]\r\n",
      "  Bounds range     [0e+00, 0e+00]\r\n",
      "  RHS range        [2e+01, 2e+01]\r\n",
      "Presolve time: 0.00s\r\n",
      "Presolved: 2 rows, 2 columns, 4 nonzeros\r\n",
      "\r\n",
      "Iteration    Objective       Primal Inf.    Dual Inf.      Time\r\n",
      "       0   -1.7000000e+31   2.250000e+30   1.700000e+01      0s\r\n",
      "       1   -4.2000000e+01   0.000000e+00   0.000000e+00      0s\r\n",
      "\r\n",
      "Solved in 1 iterations and 0.00 seconds\r\n",
      "Optimal objective -4.200000000e+01\r\n",
      "\r\n",
      "User-callback calls 26, time in user-callback 0.00 sec\r\n",
      "Optimal Solutions:\n",
      "x1 = 0.0 x2 = 3.0\n"
     ]
    }
   ],
   "source": [
    "m = Model(with_optimizer(Gurobi.Optimizer))\n",
    "\n",
    "# Variables\n",
    "@variable(m, x1 >= 0)\n",
    "@variable(m, x2 >= 0)\n",
    "\n",
    "# Fonction objectif\n",
    "@objective(m, Min, -3x1 -14x2)\n",
    "\n",
    "# Contraintes\n",
    "@constraint(m, constraint1, 2x1 + 7x2 <= 21)\n",
    "@constraint(m, constraint2, 7x1 + 2x2 <= 21)\n",
    "\n",
    "# Modèle complet\n",
    "print(m)\n",
    "\n",
    "# Résoudre le problème\n",
    "status = optimize!(m)\n",
    "\n",
    "println(\"Optimal Solutions:\")\n",
    "println(\"x1 = \", value(x1), \" x2 = \", value(x2))"
   ]
  },
  {
   "cell_type": "code",
   "execution_count": 35,
   "metadata": {},
   "outputs": [
    {
     "name": "stdout",
     "output_type": "stream",
     "text": [
      "Min -3 x1 - 14 x2\n",
      "Subject to\n",
      " constraint1 : 2 x1 + 7 x2 <= 21.0\n",
      " constraint2 : 7 x1 + 2 x2 <= 21.0\n",
      " x1 >= 0.0\n",
      " x2 >= 0.0\n",
      "This is Ipopt version 3.13.2, running with linear solver mumps.\n",
      "NOTE: Other linear solvers might be more efficient (see Ipopt documentation).\n",
      "\n",
      "Number of nonzeros in equality constraint Jacobian...:        0\n",
      "Number of nonzeros in inequality constraint Jacobian.:        4\n",
      "Number of nonzeros in Lagrangian Hessian.............:        0\n",
      "\n",
      "Total number of variables............................:        2\n",
      "                     variables with only lower bounds:        2\n",
      "                variables with lower and upper bounds:        0\n",
      "                     variables with only upper bounds:        0\n",
      "Total number of equality constraints.................:        0\n",
      "Total number of inequality constraints...............:        2\n",
      "        inequality constraints with only lower bounds:        0\n",
      "   inequality constraints with lower and upper bounds:        0\n",
      "        inequality constraints with only upper bounds:        2\n",
      "\n",
      "iter    objective    inf_pr   inf_du lg(mu)  ||d||  lg(rg) alpha_du alpha_pr  ls\n",
      "   0 -1.6999983e-01 0.00e+00 1.11e+00  -1.0 0.00e+00    -  0.00e+00 0.00e+00   0\n",
      "   1 -3.7885231e+00 0.00e+00 1.32e+01  -1.0 1.87e+00    -  6.97e-02 1.00e+00f  1\n",
      "   2 -2.5112964e+01 0.00e+00 9.73e+00  -1.0 3.88e+01    -  1.00e+00 2.73e-01f  1\n",
      "   3 -4.1802948e+01 0.00e+00 6.64e-01  -1.0 8.64e+00    -  7.22e-01 9.67e-01f  1\n",
      "   4 -4.1838425e+01 0.00e+00 1.00e-06  -1.0 2.36e-01    -  1.00e+00 1.00e+00f  1\n",
      "   5 -4.1990364e+01 0.00e+00 3.91e-04  -2.5 3.50e-01    -  9.94e-01 1.00e+00f  1\n",
      "   6 -4.1999697e+01 0.00e+00 1.50e-09  -3.8 4.18e-02    -  1.00e+00 1.00e+00f  1\n",
      "   7 -4.1999997e+01 0.00e+00 1.84e-11  -5.7 9.48e-04    -  1.00e+00 1.00e+00f  1\n",
      "   8 -4.2000000e+01 0.00e+00 2.60e-14  -8.6 1.17e-05    -  1.00e+00 1.00e+00f  1\n",
      "\n",
      "Number of Iterations....: 8\n",
      "\n",
      "                                   (scaled)                 (unscaled)\n",
      "Objective...............:  -4.2000000424986361e+01   -4.2000000424986361e+01\n",
      "Dual infeasibility......:   2.6022934358394694e-14    2.6022934358394694e-14\n",
      "Constraint violation....:   0.0000000000000000e+00    0.0000000000000000e+00\n",
      "Complementarity.........:   2.5076847847380909e-09    2.5076847847380909e-09\n",
      "Overall NLP error.......:   2.5076847847380909e-09    2.5076847847380909e-09\n",
      "\n",
      "\n",
      "Number of objective function evaluations             = 9\n",
      "Number of objective gradient evaluations             = 9\n",
      "Number of equality constraint evaluations            = 0\n",
      "Number of inequality constraint evaluations          = 9\n",
      "Number of equality constraint Jacobian evaluations   = 0\n",
      "Number of inequality constraint Jacobian evaluations = 1\n",
      "Number of Lagrangian Hessian evaluations             = 1\n",
      "Total CPU secs in IPOPT (w/o function evaluations)   =      0.005\n",
      "Total CPU secs in NLP function evaluations           =      0.000\n",
      "\n",
      "EXIT: Optimal Solution Found.\n",
      "Optimal Solutions:\n",
      "x1 = 0.0 x2 = 3.000000031961665\n"
     ]
    }
   ],
   "source": [
    "m = Model(with_optimizer(Ipopt.Optimizer))\n",
    "\n",
    "# Variables\n",
    "@variable(m, x1 >= 0)\n",
    "@variable(m, x2 >= 0)\n",
    "\n",
    "# Fonction objectif\n",
    "@objective(m, Min, -3x1 -14x2)\n",
    "\n",
    "# Contraintes\n",
    "@constraint(m, constraint1, 2x1 + 7x2 <= 21)\n",
    "@constraint(m, constraint2, 7x1 + 2x2 <= 21)\n",
    "\n",
    "# Modèle complet\n",
    "print(m)\n",
    "\n",
    "# Résoudre le problème\n",
    "status = optimize!(m)\n",
    "\n",
    "println(\"Optimal Solutions:\")\n",
    "println(\"x1 = \", value(x1), \" x2 = \", value(x2))"
   ]
  },
  {
   "cell_type": "markdown",
   "metadata": {},
   "source": [
    "La solution est en effet à présent unique."
   ]
  },
  {
   "cell_type": "markdown",
   "metadata": {},
   "source": [
    "## Question 5 (15 points)"
   ]
  },
  {
   "cell_type": "markdown",
   "metadata": {},
   "source": [
    "Considérons le problème\n",
    "\\begin{align*}\n",
    "\\min\\ & 2x_1 + 6x_2 + 4x_3 + x_4 \\\\\n",
    "\\mbox{t.q. }\n",
    "& x_1 + x_2 + x_3 + x_4 = 8 \\\\\n",
    "& x_1 + x_2 = 3 \\\\\n",
    "& 2x_3 + 3x_4 = 12 \\\\  \n",
    "& x_1 \\geq 0, x_2 \\geq 0, x_3 \\geq 0, x_4 \\geq 0.\n",
    "\\end{align*}\n",
    "Résolvez le problème à l'aide de l'algorithme primal-dual."
   ]
  },
  {
   "cell_type": "code",
   "execution_count": 36,
   "metadata": {},
   "outputs": [
    {
     "data": {
      "text/plain": [
       "(3, 4)"
      ]
     },
     "execution_count": 36,
     "metadata": {},
     "output_type": "execute_result"
    }
   ],
   "source": [
    "c = [ 2; 6; 4 ; 1]\n",
    "A = [ 1 1 1 1 ;\n",
    "      1 1 0 0 ;\n",
    "      0 0 2 3 ]\n",
    "b = [ 8; 3; 12 ]\n",
    "\n",
    "(m,n) = size(A)"
   ]
  },
  {
   "cell_type": "markdown",
   "metadata": {},
   "source": [
    "Nous allons résoudre le problème directement afin de vérifier la solution que nous recherchons."
   ]
  },
  {
   "cell_type": "code",
   "execution_count": 37,
   "metadata": {},
   "outputs": [
    {
     "name": "stdout",
     "output_type": "stream",
     "text": [
      "Academic license - for non-commercial use only\r\n",
      "Min 2 x[1] + 6 x[2] + 4 x[3] + x[4]\n",
      "Subject to\n",
      " x[1] + x[2] + x[3] + x[4] == 8.0\n",
      " x[1] + x[2] == 3.0\n",
      " 2 x[3] + 3 x[4] == 12.0\n",
      " x[1] >= 0.0\n",
      " x[2] >= 0.0\n",
      " x[3] >= 0.0\n",
      " x[4] >= 0.0\n"
     ]
    }
   ],
   "source": [
    "pr = Model(with_optimizer(Gurobi.Optimizer))\n",
    "\n",
    "@variable(pr, x[1:n] >= 0)\n",
    "\n",
    "for k = 1:m\n",
    "    @constraint(pr, sum(A[k,i]*x[i] for i = 1:n) == b[k])\n",
    "end\n",
    "\n",
    "@objective(pr, Min, sum(x[i]*c[i] for i = 1:n))\n",
    "\n",
    "print(pr)"
   ]
  },
  {
   "cell_type": "code",
   "execution_count": 38,
   "metadata": {},
   "outputs": [
    {
     "name": "stdout",
     "output_type": "stream",
     "text": [
      "Gurobi Optimizer version 9.0.3 build v9.0.3rc0 (win64)\r\n",
      "Optimize a model with 3 rows, 4 columns and 8 nonzeros\r\n",
      "Model fingerprint: 0xa8b7b631\r\n",
      "Coefficient statistics:\r\n",
      "  Matrix range     [1e+00, 3e+00]\r\n",
      "  Objective range  [1e+00, 6e+00]\r\n",
      "  Bounds range     [0e+00, 0e+00]\r\n",
      "  RHS range        [3e+00, 1e+01]\r\n",
      "Presolve removed 3 rows and 4 columns\r\n",
      "Presolve time: 0.00s\r\n",
      "Presolve: All rows and columns removed\r\n",
      "Iteration    Objective       Primal Inf.    Dual Inf.      Time\r\n",
      "       0    2.0000000e+01   0.000000e+00   0.000000e+00      0s\r\n",
      "\r\n",
      "Solved in 0 iterations and 0.00 seconds\r\n",
      "Optimal objective  2.000000000e+01\r\n",
      "\r\n",
      "User-callback calls 27, time in user-callback 0.00 sec\r\n"
     ]
    }
   ],
   "source": [
    "status = optimize!(pr)"
   ]
  },
  {
   "cell_type": "code",
   "execution_count": 39,
   "metadata": {},
   "outputs": [
    {
     "data": {
      "text/plain": [
       "4-element Array{Float64,1}:\n",
       " 3.0\n",
       " 0.0\n",
       " 3.0\n",
       " 2.0"
      ]
     },
     "execution_count": 39,
     "metadata": {},
     "output_type": "execute_result"
    }
   ],
   "source": [
    "value.(x)"
   ]
  },
  {
   "cell_type": "markdown",
   "metadata": {},
   "source": [
    "Appliquons à présent l'algorithme primal-dual."
   ]
  },
  {
   "cell_type": "code",
   "execution_count": 40,
   "metadata": {},
   "outputs": [
    {
     "data": {
      "text/plain": [
       "4×8 Array{Float64,2}:\n",
       "  1.0   1.0   1.0   1.0  1.0  0.0  0.0    8.0\n",
       "  1.0   1.0   0.0   0.0  0.0  1.0  0.0    3.0\n",
       "  0.0   0.0   2.0   3.0  0.0  0.0  1.0   12.0\n",
       " -2.0  -2.0  -3.0  -4.0  0.0  0.0  0.0  -23.0"
      ]
     },
     "execution_count": 40,
     "metadata": {},
     "output_type": "execute_result"
    }
   ],
   "source": [
    "Art = [[ A I b ] ; [ zeros(1,n) ones(1,m) 0 ]]\n",
    "Art[m+1,:] = Art[m+1,:] - sum(Art[i,:] for i = 1:m)\n",
    "s = c - transpose(A)*zeros(m)\n",
    "Art"
   ]
  },
  {
   "cell_type": "code",
   "execution_count": 41,
   "metadata": {},
   "outputs": [
    {
     "name": "stdout",
     "output_type": "stream",
     "text": [
      "[2.0 6.0 4.0 1.0]\n"
     ]
    }
   ],
   "source": [
    "println(s')"
   ]
  },
  {
   "cell_type": "markdown",
   "metadata": {},
   "source": [
    "$P = \\emptyset$"
   ]
  },
  {
   "cell_type": "code",
   "execution_count": 42,
   "metadata": {},
   "outputs": [
    {
     "data": {
      "text/plain": [
       "4"
      ]
     },
     "execution_count": 42,
     "metadata": {},
     "output_type": "execute_result"
    }
   ],
   "source": [
    "idx = findall(x -> x < 0, Art[m+1,1:n])\n",
    "j = idx[argmin(s[idx]./-Art[m+1,idx])]"
   ]
  },
  {
   "cell_type": "code",
   "execution_count": 43,
   "metadata": {},
   "outputs": [
    {
     "data": {
      "text/plain": [
       "4-element Array{Float64,1}:\n",
       " 1.5\n",
       " 5.5\n",
       " 3.25\n",
       " 0.0"
      ]
     },
     "execution_count": 43,
     "metadata": {},
     "output_type": "execute_result"
    }
   ],
   "source": [
    "s = s-s[j]/Art[m+1,j]*Art[m+1,1:n]"
   ]
  },
  {
   "cell_type": "markdown",
   "metadata": {},
   "source": [
    "$P = \\{ 4 \\}$"
   ]
  },
  {
   "cell_type": "code",
   "execution_count": 44,
   "metadata": {},
   "outputs": [
    {
     "data": {
      "text/plain": [
       "4×8 Array{Float64,2}:\n",
       "  1.0   1.0   0.333333  0.0  1.0  0.0  -0.333333   4.0\n",
       "  1.0   1.0   0.0       0.0  0.0  1.0   0.0        3.0\n",
       "  0.0   0.0   0.666667  1.0  0.0  0.0   0.333333   4.0\n",
       " -2.0  -2.0  -0.333333  0.0  0.0  0.0   1.33333   -7.0"
      ]
     },
     "execution_count": 44,
     "metadata": {},
     "output_type": "execute_result"
    }
   ],
   "source": [
    "pivot!(Art, 3, 4)"
   ]
  },
  {
   "cell_type": "code",
   "execution_count": 45,
   "metadata": {},
   "outputs": [
    {
     "data": {
      "text/plain": [
       "4-element Array{Float64,1}:\n",
       " 0.0\n",
       " 4.0\n",
       " 3.0\n",
       " 0.0"
      ]
     },
     "execution_count": 45,
     "metadata": {},
     "output_type": "execute_result"
    }
   ],
   "source": [
    "idx = findall(x -> x < 0, Art[m+1,1:n])\n",
    "j = idx[argmin(s[idx]./-Art[m+1,idx])]\n",
    "s= s-s[j]/Art[m+1,j]*Art[m+1,1:n]"
   ]
  },
  {
   "cell_type": "markdown",
   "metadata": {},
   "source": [
    "$P = \\{ 1, 4 \\}$"
   ]
  },
  {
   "cell_type": "code",
   "execution_count": 46,
   "metadata": {},
   "outputs": [
    {
     "data": {
      "text/plain": [
       "4×8 Array{Float64,2}:\n",
       " 0.0  0.0   0.333333  0.0  1.0  -1.0  -0.333333   1.0\n",
       " 1.0  1.0   0.0       0.0  0.0   1.0   0.0        3.0\n",
       " 0.0  0.0   0.666667  1.0  0.0   0.0   0.333333   4.0\n",
       " 0.0  0.0  -0.333333  0.0  0.0   2.0   1.33333   -1.0"
      ]
     },
     "execution_count": 46,
     "metadata": {},
     "output_type": "execute_result"
    }
   ],
   "source": [
    "pivot!(Art, 2, 1)"
   ]
  },
  {
   "cell_type": "code",
   "execution_count": 47,
   "metadata": {},
   "outputs": [
    {
     "data": {
      "text/plain": [
       "4-element Array{Float64,1}:\n",
       " 0.0\n",
       " 4.0\n",
       " 0.0\n",
       " 0.0"
      ]
     },
     "execution_count": 47,
     "metadata": {},
     "output_type": "execute_result"
    }
   ],
   "source": [
    "idx = findall(x -> x < 0, Art[m+1,1:n])\n",
    "j = idx[argmin(s[idx]./-Art[m+1,idx])]\n",
    "s= s-s[j]/Art[m+1,j]*Art[m+1,1:n]"
   ]
  },
  {
   "cell_type": "markdown",
   "metadata": {},
   "source": [
    "$P = \\{ 1, 3, 4 \\}$"
   ]
  },
  {
   "cell_type": "code",
   "execution_count": 48,
   "metadata": {},
   "outputs": [
    {
     "data": {
      "text/plain": [
       "4×8 Array{Float64,2}:\n",
       " 0.0  0.0  1.0  0.0   3.0  -3.0  -1.0  3.0\n",
       " 1.0  1.0  0.0  0.0   0.0   1.0   0.0  3.0\n",
       " 0.0  0.0  0.0  1.0  -2.0   2.0   1.0  2.0\n",
       " 0.0  0.0  0.0  0.0   1.0   1.0   1.0  2.22045e-16"
      ]
     },
     "execution_count": 48,
     "metadata": {},
     "output_type": "execute_result"
    }
   ],
   "source": [
    "pivot!(Art, 1, 3)"
   ]
  },
  {
   "cell_type": "markdown",
   "metadata": {},
   "source": [
    "Fin!\n",
    "\n",
    "Solution: (3, 0, 3, 2)"
   ]
  },
  {
   "cell_type": "markdown",
   "metadata": {},
   "source": [
    "## Question 6 (15 points)\n",
    "\n",
    "Considérons le problème de programmation linéaire suivant:\n",
    "\\begin{align*}\n",
    "\\min_x \\ & \\sum_{j = 1}^n c_j x_j \\\\\n",
    "\\mbox{t.q. } & \\sum_{j=1}^n a_jx_j \\leq b \\\\\n",
    "& x_j \\geq 0,\\ j = 1,\\ldots,n,\n",
    "\\end{align*}\n",
    "où nous retrouvons une seule contrainte. Supposons que $b > 0$, $a_j > 0$ et $c_j < 0$, $j = 1,\\ldots,n$. De plus,\n",
    "$$\n",
    "\\frac{c_1}{a_1} < \\frac{c_2}{a_2} < \\ldots < \\frac{c_n}{a_n}.\n",
    "$$\n",
    "\n",
    "- Écrivez le dual de ce problème.\n",
    "- Trouvez une solution optimale du problème dual (ceci se fait par inspection).\n",
    "- Déterminez une solution optimale du problème primal en utilisant la solution optimale du dual et les écarts complémentaires."
   ]
  },
  {
   "cell_type": "markdown",
   "metadata": {},
   "source": [
    "Le dual s'écrit\n",
    "\\begin{align*}\n",
    "\\max_{\\lambda} \\ & b\\lambda \\\\\n",
    "\\mbox{t.q. } & a_i\\lambda \\leq c_i,\\ i = 1,\\ldots,n \\\\\n",
    "& \\lambda \\leq 0\n",
    "\\end{align*}\n",
    "\n",
    "On en déduit immédiatement que\n",
    "$$\n",
    "\\lambda \\leq \\min \\left\\{ \\frac{c_i}{a_i},\\ i = 1,\\ldots,n \\right\\} = \\frac{c_1}{a_1} < 0,\n",
    "$$\n",
    "en vertu des hypothèses de l'énoncé.\n",
    "Comme le dual est un problème de maximisation, il suit directement que\n",
    "$$\n",
    "\\lambda^* = \\frac{c_1}{a_1},\n",
    "$$\n",
    "et la valeur optimale duale est\n",
    "$$\n",
    "\\frac{c_1b}{a_1}.\n",
    "$$\n",
    "\n",
    "Comme, par hypothèse,\n",
    "$$\n",
    "\\frac{c_1}{a_1} < \\frac{c_j}{a_j},\\ j = 2,\\ldots,n\n",
    "$$\n",
    "les contraintes duales sont inactives, sauf la première, et des écarts de complémentarité, on tire $x_i^* = 0$, $i = 2,\\ldots,n$.\n",
    "La contrainte primale se réduit alors à\n",
    "$$\n",
    "a_1 x_1 \\leq b,\n",
    "$$\n",
    "contrainte qui doit être active comme $\\lambda \\ne 0$.\n",
    "On en tire la solution optimale primale\n",
    "$$\n",
    "x_1^* = \\frac{b}{a_1}\n",
    "$$\n",
    "qui donne la valeur optimale\n",
    "$$\n",
    "\\frac{c_1b}{a_1}.\n",
    "$$\n",
    "La propriété de dualité forte est vérifiée.\n"
   ]
  }
 ],
 "metadata": {
  "kernelspec": {
   "display_name": "Julia 1.5.2",
   "language": "julia",
   "name": "julia-1.5"
  },
  "language_info": {
   "file_extension": ".jl",
   "mimetype": "application/julia",
   "name": "julia",
   "version": "1.5.2"
  }
 },
 "nbformat": 4,
 "nbformat_minor": 2
}
