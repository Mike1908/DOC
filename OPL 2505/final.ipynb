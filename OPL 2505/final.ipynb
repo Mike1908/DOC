{
 "cells": [
  {
   "cell_type": "markdown",
   "metadata": {},
   "source": [
    "# Examen Final Automne 2020"
   ]
  },
  {
   "cell_type": "markdown",
   "metadata": {},
   "source": [
    "Consignes:\n",
    "- L'examen dure 3 heures. Les réponses peuvent être complétées sur le notebook ou hors ligne. Dans le dernier cas, veuillez déposer des photos ou des scans de l'examen sur studium. 15 minutes supplémentaires seront accordées pour le remise de l'examen.\n",
    "- L'examen est à cours ouvert. Vous pouvez aussi vous inspirer des bloc-notes vus au cours pour compléter les parties Julia qui l'exigent.\n",
    "- Si la réponse à une sous-question dépend de points précédents que vous n'avez pu résoudre, mais que vous avez l'idée du raisonnement pour cette sous-question, écrivez ce raisonnement.\n",
    "- N'hésitez pas à utiliser Julia pour vous aider dans les calculs."
   ]
  },
  {
   "cell_type": "markdown",
   "metadata": {},
   "source": [
    "## Question 1 (15 points)\n",
    "\n",
    "Considérez le problème suivant\n",
    "\\begin{align*}\n",
    "\\max_x\\ & z = 2 x_1 - 4 x_2 \\\\\n",
    "\\mbox{t.q } & x_1 - x_2 \\leq 1 \\\\\n",
    "& x_1, x_2 \\geq 0.\n",
    "\\end{align*}\n",
    "\n",
    "- Écrivez le problème dual.\n",
    "- Utilisez les écarts complémentaires et la solution optimale du problème dual pour déterminer une solution optimale du primal.\n",
    "- Pour quelles valeurs de $c_1$, le coefficient de $x_1$ dans l'objectif primal, le problème dual n’a pas de solution réalisable? Pour ces valeurs de $c_1$, qu’arrive-t-il pour le problème primal?"
   ]
  },
  {
   "cell_type": "code",
   "execution_count": null,
   "metadata": {},
   "outputs": [],
   "source": []
  },
  {
   "cell_type": "markdown",
   "metadata": {},
   "source": [
    "## Question 2 (15 points)\n",
    "\n",
    "Utilisez la méthode duale du simplexe pour résoudre\n",
    "\\begin{align*}\n",
    "\\min_x \\ & 2x_1 + x_2 \\\\\n",
    "\\mbox{t.q. } & 3x_1 + x_2 \\geq 3 \\\\\n",
    "& 4x_1 + 3x_2 \\geq 6 \\\\\n",
    "& x_1 + 2x_2 \\leq 3 \\\\\n",
    "& x_1,\\ x_2 \\geq 0.\n",
    "\\end{align*}\n",
    "Les opérations de mise à jour du tableau du simplexe devront être effectuées à l'aide de Julia."
   ]
  },
  {
   "cell_type": "code",
   "execution_count": null,
   "metadata": {},
   "outputs": [],
   "source": []
  },
  {
   "cell_type": "markdown",
   "metadata": {},
   "source": [
    "## Question 3 (15 points)\n",
    "\n",
    "Résolvez à l'aide de l'algorithme branch and bound le problème\n",
    "\\begin{align*}\n",
    "\\max\\ z\\ & = 4x_1 - x_2 \\\\\n",
    "\\text{soumis à } & 7x_1 - 2x_2 \\leq 14 \\\\\n",
    "& x_2 \\leq 3 \\\\\n",
    "& 2x_1 - 2x_2 \\leq 3 \\\\\n",
    "& x_1 \\geq 0, x_2 \\geq 0 \\\\\n",
    "& x_1, x_2 \\text{ entiers.}\n",
    "\\end{align*}"
   ]
  },
  {
   "cell_type": "code",
   "execution_count": null,
   "metadata": {},
   "outputs": [],
   "source": []
  },
  {
   "cell_type": "markdown",
   "metadata": {},
   "source": [
    "## Question 4 (25 points)\n",
    "\n",
    "Considérons le problème\n",
    "\\begin{align*}\n",
    "\\min\\ & -4x_1 - 14x_2 \\\\\n",
    "\\text{soumis à } & 2x_1 +7x_2 \\leq 21 \\\\\n",
    "& 7x1 +2x2 \\leq 21 \\\\\n",
    "& x1 \\geq 0, x2 \\geq 0 .\n",
    "\\end{align*}\n",
    "L'application de `Gurobi` donne la solution optimale x_1 = 0, x_2 = 3, tandis que le logiciel `Ipopt`, qui implémente une méthode de points intérieurs primale-duale, donne la solution optimale x1 = 0.28155026155537355 x2 = 2.9195570979480405.\n",
    "\n",
    "- Pouvez-vous expliquer d'où provient cette différence?\n",
    "- Mettez le problème sous forme standard et formez le dual associé au problème standardisé. À l'aide des écarts complémentaires, déterminez l'ensemble de solutions duales. Si cet ensemble est un singleton, montrez-le.\n",
    "- Restons avec la forme standard. La norme des conditions de complémentarité, i.e.\n",
    "$$\n",
    "\\sum_{i = 1}^n x_i s_i,\n",
    "$$\n",
    "où $n$ est la longueur de $x$ et $s$ est le vecteur des variables d'écart duales, est souvent utilisée comme critère d'arrêt d'une méthode de points intérieurs primale-duale. En d'autres, on s'arrête si $\\sum_{i = 1}^n x_i s_i < \\epsilon$, avec $\\epsilon > 0$ suffisamment petit. Pouvez-vous expliquer pourquoi on utilise cette quantité comme critère d'arrêt?\n",
    "- Modifions le terme de droite $b$ en $b = (21.7, 22)$. En utilisant la solution duale calculée au point précédent, et en supposant que la base optimale obtenue par Gurobi est encore optimale, prédisez la nouvelle solution optimale que devrait donner `Gurobi` (sans appeler `Gurobi`), ainsi que la nouvelle valeur optimale. À nouveau, si nous appelons `Ipopt`, nous obtenons une solution différente. Est-ce normal?\n",
    "- Reprenons $b = (21, 21)$, mais modifions les coefficients de la fonction objectif pour obtenir le programme\n",
    "\\begin{align*}\n",
    "\\min\\ & -3x_1 - 14x_2 \\\\\n",
    "\\text{soumis à } & 2x_1 +7x_2 \\leq 21 \\\\\n",
    "& 7x1 +2x2 \\leq 21 \\\\\n",
    "& x1 \\geq 0, x2 \\geq 0 .\n",
    "\\end{align*}\n",
    "Supposons que la base optimale à nouveau ne change pas, et donc la solution donnée par `Gurobi` est $x_1 = 0$, $x_2 = 3$. Quelle est la variation de la valeur optimale? Cette fois-ci, si nous appelons `Ipopt`, nous obtenons également la solution $x_1 = 0$, $x_2 = 3$. Pouvez-vous expliquer pourquoi? "
   ]
  },
  {
   "cell_type": "code",
   "execution_count": null,
   "metadata": {},
   "outputs": [],
   "source": []
  },
  {
   "cell_type": "markdown",
   "metadata": {},
   "source": [
    "## Question 5 (15 points)\n",
    "\n",
    "Considérons le problème\n",
    "\\begin{align*}\n",
    "\\min\\ & 2x_1 + 6x_2 + 4x_3 + x_4 \\\\\n",
    "\\mbox{t.q. }\n",
    "& x_1 + x_2 + x_3 + x_4 = 8 \\\\\n",
    "& x_1 + x_2 = 3 \\\\\n",
    "& 2x_3 + 3x_4 = 12 \\\\  \n",
    "& x_1 \\geq 0, x_2 \\geq 0, x_3 \\geq 0, x_4 \\geq 0.\n",
    "\\end{align*}\n",
    "Résolvez le problème à l'aide de l'algorithme primal-dual."
   ]
  },
  {
   "cell_type": "code",
   "execution_count": null,
   "metadata": {},
   "outputs": [],
   "source": []
  },
  {
   "cell_type": "markdown",
   "metadata": {},
   "source": [
    "## Question 6 (15 points)\n",
    "\n",
    "Considérons le problème de programmation linéaire suivant:\n",
    "\\begin{align*}\n",
    "\\min_x \\ & \\sum_{j = 1}^n c_j x_j \\\\\n",
    "\\mbox{t.q. } & \\sum_{j=1}^n a_jx_j \\leq b \\\\\n",
    "& x_j \\geq 0,\\ j = 1,\\ldots,n,\n",
    "\\end{align*}\n",
    "où nous retrouvons une seule contrainte. Supposons que $b > 0$, $a_j > 0$ et $c_j < 0$, $j = 1,\\ldots,n$. De plus,\n",
    "$$\n",
    "\\frac{c_1}{a_1} < \\frac{c_2}{a_2} < \\ldots < \\frac{c_n}{a_n}.\n",
    "$$\n",
    "\n",
    "- Écrivez le dual de ce problème.\n",
    "- Trouvez une solution optimale du problème dual (ceci se fait par inspection).\n",
    "- Déterminez une solution optimale du problème primal en utilisant la solution optimale du dual et les écarts complémentaires."
   ]
  },
  {
   "cell_type": "code",
   "execution_count": null,
   "metadata": {},
   "outputs": [],
   "source": []
  }
 ],
 "metadata": {
  "kernelspec": {
   "display_name": "Julia 1.4.1",
   "language": "julia",
   "name": "julia-1.4"
  },
  "language_info": {
   "file_extension": ".jl",
   "mimetype": "application/julia",
   "name": "julia",
   "version": "1.4.1"
  }
 },
 "nbformat": 4,
 "nbformat_minor": 2
}
