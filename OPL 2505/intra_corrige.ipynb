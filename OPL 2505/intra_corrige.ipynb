{
 "cells": [
  {
   "cell_type": "markdown",
   "metadata": {},
   "source": [
    "# Examen Intra Automne 2020"
   ]
  },
  {
   "cell_type": "markdown",
   "metadata": {},
   "source": [
    "## Question 1 (5 pts)\n",
    "\n",
    "Est-il possible d'avoir une solution optimale qui ne soit pas une solution de base?"
   ]
  },
  {
   "cell_type": "markdown",
   "metadata": {},
   "source": [
    "**Oui**. Le théorème fondamental de la programmation linéaire nous dit que si une solution optimale existe, alors une solution de base optimale existe, mais il ne nous dit pas que toute solution optimale est également une solution de base.\n",
    "\n",
    "Prenons par exemple le programme\n",
    "\\begin{align*}\n",
    "\\min_x \\ & x_1 + x_2 \\\\\n",
    "\\mbox{t.q. } & x_1 + x_2 = 1 \\\\\n",
    "& x_1 \\geq 0, x_2 \\geq 0.\n",
    "\\end{align*}\n",
    "Alors toute combinaison convexe des 2 solutions de base optimales $(1,0)$ et $(0,1)$ est également solution optimale. Ainsi, $(0.5, 0.5)$ est une solution optimale, mais n'est pas une solution de base."
   ]
  },
  {
   "cell_type": "markdown",
   "metadata": {},
   "source": [
    "## Question 2 (5 pts)\n",
    "\n",
    "Dans la procédure du simplexe, le choix de la variable sortante se fait toujours en\n",
    "considérant du coût réduit le plus négatif."
   ]
  },
  {
   "cell_type": "markdown",
   "metadata": {},
   "source": [
    "**Non**. L'énoncé a ici deux erreurs. La première est le choix de la variable. C'est le variable entrante, non sortante, qui s'opère en regardant les coûts réduits négatifs. De plus, n'importe quel variable avec un coût réduit négatif est candidate pour entrer dans la base, pas seulement celle avec le coût réduit le plus négatif.\n",
    "\n",
    "Soit le programme\n",
    "\\begin{align*}\n",
    "\\min_x \\ & c^Tx \\\\\n",
    "\\mbox{t.q. } & Ax = b \\\\\n",
    "& x \\geq 0.\n",
    "\\end{align*}\n",
    "Le choix de la variable entrante $x_j$ se fait en choisissant $j \\in \\arg\\min \\{ y_{ik}/y_{i0} \\,|\\, y_{ik} > 0, \\ 1 \\leq i \\leq m \\}$, où $y_0 = B^{-1}b$, $y_k = B^{-1}a_k$, avec $B$ la base courante et $a_k$ la $k^e$ colonne de la matrice de contraintes $A$. $y_{ik}$ représente la $i^e$ composante de $y_k$."
   ]
  },
  {
   "cell_type": "markdown",
   "metadata": {},
   "source": [
    "## Question 3 (30 pts)\n",
    "\n",
    "Soit le problème\n",
    "\\begin{align*}\n",
    "\\min\\ & x_1 - x_2 \\\\\n",
    "\\mbox{tel que }  & 2x_1 + x_2 \\geq 2 \\\\\n",
    "& x_1 + 3x_2 \\leq 3  \\\\\n",
    "& x_1, x_2 \\geq 0\n",
    "\\end{align*}\n",
    "\n",
    " - Résolvez-le (selon la méthode de votre choix).\n",
    " - Donnez la base optimale et son inverse.\n",
    " - Formulez le problème dual."
   ]
  },
  {
   "cell_type": "markdown",
   "metadata": {},
   "source": [
    "Commençons par résoudre le problème. Comme nous pouvons utiliser la méthode de notre choix, nous allons considérer une résolution numérique et une résolution manuelle. Pour l'approche numérique, nous utiliserons la librairie `JuMP` et le solveur `Clp`."
   ]
  },
  {
   "cell_type": "code",
   "execution_count": 9,
   "metadata": {},
   "outputs": [
    {
     "name": "stdout",
     "output_type": "stream",
     "text": [
      "Min x[1] - x[2]\n",
      "Subject to\n",
      " 2 x[1] + x[2] >= 2.0\n",
      " x[1] + 3 x[2] <= 3.0\n",
      " x[1] >= 0.0\n",
      " x[2] >= 0.0\n",
      "\n"
     ]
    }
   ],
   "source": [
    "using LinearAlgebra, Clp, JuMP\n",
    "\n",
    "m = Model(Clp.Optimizer)\n",
    "@variable(m, x[1:2] >= 0)\n",
    "@constraint(m, 2x[1] + x[2] >= 2)\n",
    "@constraint(m, x[1] + 3x[2] <= 3)\n",
    "\n",
    "@objective(m, Min, x[1] - x[2])\n",
    "\n",
    "println(m)"
   ]
  },
  {
   "cell_type": "code",
   "execution_count": 10,
   "metadata": {},
   "outputs": [
    {
     "name": "stdout",
     "output_type": "stream",
     "text": [
      "Coin0506I Presolve 0 (-2) rows, 0 (-2) columns and 0 (-4) elements\n",
      "Clp3002W Empty problem - 0 rows, 0 columns and 0 elements\n",
      "Clp0000I Optimal - objective value -0.2\n",
      "Coin0511I After Postsolve, objective -0.2, infeasibilities - dual 0 (0), primal 0 (0)\n",
      "Clp0032I Optimal objective -0.2 - 0 iterations time 0.002, Presolve 0.00\n"
     ]
    }
   ],
   "source": [
    "optimize!(m)"
   ]
  },
  {
   "cell_type": "markdown",
   "metadata": {},
   "source": [
    "La solution est"
   ]
  },
  {
   "cell_type": "code",
   "execution_count": 11,
   "metadata": {},
   "outputs": [
    {
     "data": {
      "text/plain": [
       "2-element Array{Float64,1}:\n",
       " 0.6\n",
       " 0.7999999999999999"
      ]
     },
     "execution_count": 11,
     "metadata": {},
     "output_type": "execute_result"
    }
   ],
   "source": [
    "value.(x)"
   ]
  },
  {
   "cell_type": "markdown",
   "metadata": {},
   "source": [
    "Nous pouvons confirmer cete value en résolvant le programme à la main.\n",
    "\n",
    "Mettons tout d'abord le problème sous forme standard, en introduisant une variable de surplus, $x_3$, dans la première contrainte et une variable d'écart, $x_4$, dans la seconde:\n",
    "\\begin{align*}\n",
    "\\min\\ & x_1 - x_2 \\\\\n",
    "\\mbox{tel que }  & 2x_1 + x_2 - x_3 = 2 \\\\\n",
    "& x_1 + 3x_2 + x_4 = 3  \\\\\n",
    "& x_1, x_2, x_3, x_4 \\geq 0\n",
    "\\end{align*}\n",
    "La variable $x_4$ est la seule variable isolée du problème.\n",
    "La problème ne se présente pas sous forme canonique, et nous ne pouvons identifier directement une base réalisable.\n",
    "Nous allons procéder avec une méthode à deux phases.\n",
    "\n",
    "### Phase 1\n",
    "\n",
    "Comme $x_4$ est déjà isolée, il suffit d'ajouter une variable artificielle à la première contrainte, menant au problème artificiel\n",
    "\\begin{align*}\n",
    "\\min\\ & y \\\\\n",
    "\\mbox{tel que }  & 2x_1 + x_2 - x_3 + y = 2 \\\\\n",
    "& x_1 + 3x_2 + x_4 = 3  \\\\\n",
    "& x_1, x_2, x_3, x_4, y \\geq 0\n",
    "\\end{align*}\n",
    "Nous allons le résoudre par la méthode du simplexe sous forme tableau.\n",
    "Le tableau initial donne\n",
    "$$\n",
    "\\begin{matrix}\n",
    "2 & 1 & -1 & 0 & 1 & 2 \\\\\n",
    "1 & 3 & 0 & 1 & 0 & 3 \\\\\n",
    "0 & 0 & 0 & 0 & 1 & 0\n",
    "\\end{matrix}\n",
    "$$\n",
    "Nous devons annuler le coût réduit associé à $y$, ce qui donne\n",
    "$$\n",
    "\\begin{matrix}\n",
    "2 & 1 & -1 & 0 & 1 & 2 \\\\\n",
    "1 & 3 & 0 & 1 & 0 & 3 \\\\\n",
    "-2 & -1 & 1 & 0 & 0 & -2\n",
    "\\end{matrix}\n",
    "$$\n",
    "Nous sommes en présence de deux coûts réduits négatifs.\n",
    "En utilisant la règle empirique du cours réduit le plus négatif, nous décidons de faire entrer $x_1$ dans la base.\n",
    "En comparant la première colonne de la matrice de contraintes et le terme de droite, nous voyons que $y$ sort de la base.\n",
    "Ceci donne\n",
    "$$\n",
    "\\begin{matrix}\n",
    "1 & \\frac{1}{2} & -\\frac{1}{2} & 0 & \\frac{1}{2} & 1 \\\\\n",
    "0 & \\frac{5}{2} & \\frac{1}{2} & 1 & -\\frac{1}{2} & 2 \\\\\n",
    "0 & 0 & 0 & 0 & 1 & 0\n",
    "\\end{matrix}\n",
    "$$\n",
    "Il n'y a plus de coût réduit négatif, nous avons terminé la résolution du problème artificiel, et la variable artificielle est à présent hors base et donc nulle. Par conséquent, le problème est réalisable et nous pouvons passer à la phase 2.\n",
    "\n",
    "### Phase 2\n",
    "\n",
    "Nous partons du tableau du simplexe obtenu à la fin de la phase précédente, en incluant cette fois les coefficients de la fonction objectif dans la ligne des coûts.\n",
    "$$\n",
    "\\begin{matrix}\n",
    "1 & \\frac{1}{2} & -\\frac{1}{2} & 0 & 1 \\\\\n",
    "0 & \\frac{5}{2} & \\frac{1}{2} & 1 & 2 \\\\\n",
    "1 & -1 & 0 & 0 & 0\n",
    "\\end{matrix}\n",
    "$$\n",
    "En annulant les coûts réduits des variables de base, nous obtenons\n",
    "$$\n",
    "\\begin{matrix}\n",
    "1 & \\frac{1}{2} & -\\frac{1}{2} & 0 & 1 \\\\\n",
    "0 & \\frac{5}{2} & \\frac{1}{2} & 1 & 2 \\\\\n",
    "0 & -\\frac{3}{2} & \\frac{1}{2} & 0  & -1\n",
    "\\end{matrix}\n",
    "$$\n",
    "À partir de là, nous pouvons appliquer le simplexe classique, ce qui donne l'itération\n",
    "$$\n",
    "\\begin{matrix}\n",
    "1 & 0 & -\\frac{3}{5} & -\\frac{1}{5} & \\frac{3}{5} \\\\\n",
    "0 & 1 & \\frac{1}{5} & \\frac{2}{5} & \\frac{4}{5} \\\\\n",
    "0 & 0 & \\frac{4}{5} & \\frac{3}{5}  & \\frac{1}{5}\n",
    "\\end{matrix}\n",
    "$$\n",
    "Il n'y a plus de coût réduit négatif, aussi nous avons convergé et la solution optimale est $x_1 = \\frac{3}{5}$, $x_2 = \\frac{4}{5}$, $x_3 = 0$ et $x_4 = 0$. La valeur optimale correspondante est $-\\frac{1}{5}$.\n",
    "\n",
    "Nous retrouvons (heureusement!) la solution obtenue avec la résolution numérique."
   ]
  },
  {
   "cell_type": "markdown",
   "metadata": {},
   "source": [
    "La base optimale est constituée des colonnes associées à $x_1$ et $x_2$, soit\n",
    "$$\n",
    "B = \\begin{pmatrix}\n",
    "2 & 1 \\\\ 1 & 3\n",
    "\\end{pmatrix}\n",
    "$$\n",
    "Nous pouvons directement lire l'inverse de $B$ du dernier tableau, comme les troisième et quatrième colonnes de la matrice initiale des contraintes donnent la matrice\n",
    "$$\n",
    "\\begin{pmatrix}\n",
    "-1 & 0 \\\\\n",
    "0 & 1\n",
    "\\end{pmatrix}\n",
    "$$\n",
    "qui multiplié par elle-même donne la matrice identité.\n",
    "Nous partons dès lors des colonnes associées à $x_3$ et $x_4$, qui correspondent à une itération du simplexe à\n",
    "$$\n",
    "B^{-1}\n",
    "\\begin{pmatrix}\n",
    "-1 & 0 \\\\\n",
    "0 & 1\n",
    "\\end{pmatrix}\n",
    "$$\n",
    "et en la multipliant par $\\begin{pmatrix}\n",
    "\t-1 & 0 \\\\\n",
    "\t0 & 1\n",
    "\\end{pmatrix}$, i.e. en prenant l'opposé de la première colonne, donne $B^{-1}$.\n",
    "Ainsi,\n",
    "$$\n",
    "B^{-1} =\n",
    "\\begin{pmatrix}\n",
    "\\frac{3}{5} & -\\frac{1}{5} \\\\ -\\frac{1}{5} & \\frac{2}{5}\n",
    "\\end{pmatrix}\n",
    "$$"
   ]
  },
  {
   "cell_type": "markdown",
   "metadata": {},
   "source": [
    "Nous pouvons le vérifier numériquement, d'autant que nous n'avons pas accès au tableau du simplexe avec l'approche numérique."
   ]
  },
  {
   "cell_type": "code",
   "execution_count": 12,
   "metadata": {},
   "outputs": [
    {
     "data": {
      "text/plain": [
       "2×2 Array{Float64,2}:\n",
       "  0.6  -0.2\n",
       " -0.2   0.4"
      ]
     },
     "execution_count": 12,
     "metadata": {},
     "output_type": "execute_result"
    }
   ],
   "source": [
    "B = [ 2 1 ; 1 3 ]\n",
    "inv(B)"
   ]
  },
  {
   "cell_type": "markdown",
   "metadata": {},
   "source": [
    "Le problème dual est\n",
    "\\begin{align*}\n",
    "\\max\\ & 2\\lambda_1 + 3\\lambda_2 \\\\\n",
    "\\mbox{tel que }\n",
    "& 2\\lambda_1 + \\lambda_2 \\leq 1 \\\\\n",
    "& \\lambda_1 + 3\\lambda_2 \\leq -1  \\\\\n",
    "& \\lambda_1 \\geq 0 \\\\\n",
    "& \\lambda_2 \\leq 0\n",
    "\\end{align*}\n",
    "Il est à noter ici que $\\lambda_1$ et $\\lambda_2$ sont de signes opposés, comme dans le primal, les sens des inégalités des deux contraintes sont contraires."
   ]
  },
  {
   "cell_type": "markdown",
   "metadata": {},
   "source": [
    "## Question 4 (30 pts)\n",
    "\n",
    "En utilisant la forme **révisée** du simplexe, trouvez une solution réalisable au système suivant:\n",
    "\\begin{align*}\n",
    "x_1 + 2x_2 - x_3 + x_4 &= 3 \\\\\n",
    "2x_1 + 4x_2 + x_3 + 2x_4 &= 12.\n",
    "\\end{align*}\n",
    "\n",
    "Veuillez présenter chaque itération, en explicitant comment est choisi le pivot, et en mettant à jour le tableau du simplexe révisé à l'aide de Julia."
   ]
  },
  {
   "cell_type": "markdown",
   "metadata": {},
   "source": [
    "Nous devons tout d'abord reformuler le système linéaire comme un problème d'optimisation linéaire, tel quel demandé dans l'énoncé. Si le système linéaire admet une solution $x \\geq 0$, celle-ci peut être obtenue directement avec la Phase I du simplexe, ou en d'autres termes, en résolvant le programme linéaire obtenu en introduisant les variables artificielles $x_5$ et $x_6$:\n",
    "\\begin{align*}\n",
    "\\min_{x} \\ & x_5 + x_6 \\\\\n",
    "\\mbox{t.q. } & x_1 + 2x_2 - x_3 + x_4 + x_5 = 3 \\\\\n",
    "& 2x_1 + 4x_2 + x_3 + 2x_4 + x_6 = 12 \\\\\n",
    "& x \\geq 0.\n",
    "\\end{align*}\n",
    "Nous allons le résoudre avec le simplexe révisé, comme exigé.\n",
    "\n",
    "Afin de faciliter les calculs avec Julia, nous introduisons la matrice $A$ et les vecteurs $c$ et $b$."
   ]
  },
  {
   "cell_type": "code",
   "execution_count": 33,
   "metadata": {},
   "outputs": [
    {
     "data": {
      "text/plain": [
       "6-element Array{Int64,1}:\n",
       " 0\n",
       " 0\n",
       " 0\n",
       " 0\n",
       " 1\n",
       " 1"
      ]
     },
     "execution_count": 33,
     "metadata": {},
     "output_type": "execute_result"
    }
   ],
   "source": [
    "A = [ 1 2 -1 4 1 0 ; 2 4 1 2 0 1 ]\n",
    "b = [ 3 ; 12 ]\n",
    "c = [ 0 ; 0 ; 0 ; 0 ; 1 ; 1]"
   ]
  },
  {
   "cell_type": "markdown",
   "metadata": {},
   "source": [
    "Le premier tableau est\n",
    "$$\n",
    "\\begin{matrix}\n",
    "& x_5 & x_6 & b \\\\\n",
    "x_5 & 1 & 0 & 3 \\\\\n",
    "x_6 & 0 & 1 & 12 \\\\\n",
    "\\end{matrix}\n",
    "$$\n",
    "Calculons les coûts réduits. Pour ce faire, nous prenons la base initiale qui n'est autre que la matrice identité et calculons le vecteur $\\lambda$ associé, ainsi que le vecteur des coûts réduits. Nous organisons ici les calculs pour avoir des vecteurs colonnes au lieu de vecteurs lignes, en ajoutant des opérations de transposition."
   ]
  },
  {
   "cell_type": "code",
   "execution_count": 106,
   "metadata": {},
   "outputs": [
    {
     "data": {
      "text/plain": [
       "6-element Array{Float64,1}:\n",
       " -3.0\n",
       " -6.0\n",
       "  0.0\n",
       " -3.0\n",
       "  0.0\n",
       "  0.0"
      ]
     },
     "execution_count": 106,
     "metadata": {},
     "output_type": "execute_result"
    }
   ],
   "source": [
    "B = zeros(2,2)+I\n",
    "Binv = B\n",
    "λ = -transpose(Binv)*c[5:6]\n",
    "r = c+transpose(A)*λ"
   ]
  },
  {
   "cell_type": "markdown",
   "metadata": {},
   "source": [
    "Nous voyons qu'il a trois coûts réduits négatifs. En choisissant le coût le plus négatif, nous faisons entrer $x_2$. La colonne correspondante dans le nouveau tableau du simplexe sera"
   ]
  },
  {
   "cell_type": "code",
   "execution_count": 107,
   "metadata": {},
   "outputs": [
    {
     "data": {
      "text/plain": [
       "2-element Array{Float64,1}:\n",
       " 2.0\n",
       " 4.0"
      ]
     },
     "execution_count": 107,
     "metadata": {},
     "output_type": "execute_result"
    }
   ],
   "source": [
    "y = Binv*A[:,2]"
   ]
  },
  {
   "cell_type": "markdown",
   "metadata": {},
   "source": [
    "Ceci mène au tableau\n",
    "$$\n",
    "\\begin{matrix}\n",
    "& x_5 & x_6 & b & y \\\\\n",
    "x_5 & 1 & 0 & 3 & 2 \\\\\n",
    "x_6 & 0 & 1 & 12 & 4 \\\\\n",
    "\\end{matrix}\n",
    "$$\n",
    "Nous choissons le pivot en divisant élément par élément $b$ par $y$:"
   ]
  },
  {
   "cell_type": "code",
   "execution_count": 108,
   "metadata": {},
   "outputs": [
    {
     "data": {
      "text/plain": [
       "2-element Array{Float64,1}:\n",
       " 1.5\n",
       " 3.0"
      ]
     },
     "execution_count": 108,
     "metadata": {},
     "output_type": "execute_result"
    }
   ],
   "source": [
    "b./y"
   ]
  },
  {
   "cell_type": "markdown",
   "metadata": {},
   "source": [
    "La variable de sortie correspond à pivoter sur la première ligne ce qui conduit à faire sortir $x_5$ de la base. Nous allons synthétiser le tableau du simplexe révisé en stockant les deux dernières colonnes de $A$, $b$ et $y$, et nous effectuerons le pivot sur cette matrice."
   ]
  },
  {
   "cell_type": "code",
   "execution_count": 109,
   "metadata": {},
   "outputs": [
    {
     "data": {
      "text/plain": [
       "2×4 Array{Float64,2}:\n",
       " 1.0  0.0   3.0  2.0\n",
       " 0.0  1.0  12.0  4.0"
      ]
     },
     "execution_count": 109,
     "metadata": {},
     "output_type": "execute_result"
    }
   ],
   "source": [
    "R = [A[:,5:6] b y]"
   ]
  },
  {
   "cell_type": "markdown",
   "metadata": {},
   "source": [
    "Ceci permettrant de toujour pivoter sur la dernière colonne, mais nous devrons choisir la ligne du pivot. Nous automatisons le pivot avec la fonction"
   ]
  },
  {
   "cell_type": "code",
   "execution_count": 110,
   "metadata": {},
   "outputs": [
    {
     "data": {
      "text/plain": [
       "pivot! (generic function with 1 method)"
      ]
     },
     "execution_count": 110,
     "metadata": {},
     "output_type": "execute_result"
    }
   ],
   "source": [
    "function pivot!(A::Matrix, i::Int, j::Int)\n",
    "    (m, n) = size(A)\n",
    "    A[i, :] = A[i, :] / A[i, j]\n",
    "    for k in 1:m\n",
    "        if k != i\n",
    "            A[k, :] -= A[i, :]*A[k, j]\n",
    "        end\n",
    "    end\n",
    "    return A\n",
    "end"
   ]
  },
  {
   "cell_type": "markdown",
   "metadata": {},
   "source": [
    "Muni de cette fonction, il devient aisé de pivoter, ce qui donner dans notre cas"
   ]
  },
  {
   "cell_type": "code",
   "execution_count": 112,
   "metadata": {},
   "outputs": [
    {
     "data": {
      "text/plain": [
       "2×4 Array{Float64,2}:\n",
       "  0.5  0.0  1.5  1.0\n",
       " -2.0  1.0  6.0  0.0"
      ]
     },
     "execution_count": 112,
     "metadata": {},
     "output_type": "execute_result"
    }
   ],
   "source": [
    "pivot!(R, 1, 4)"
   ]
  },
  {
   "cell_type": "markdown",
   "metadata": {},
   "source": [
    "Cela donne immédiatement le nouveau tableau du simplexe révisé\n",
    "$$\n",
    "\\begin{matrix}\n",
    "& x_5 & x_6 & b \\\\\n",
    "x_2 & 0.5 & 0 & 1.5 \\\\\n",
    "x_6 & -2 & 1 & 6 \\\\\n",
    "\\end{matrix}\n",
    "$$"
   ]
  },
  {
   "cell_type": "markdown",
   "metadata": {},
   "source": [
    "La nouvelle matrice inverse se lit en prenant les deux premières colonnes de $R$ et nous calculons les coûts réduits comme"
   ]
  },
  {
   "cell_type": "code",
   "execution_count": 114,
   "metadata": {},
   "outputs": [
    {
     "data": {
      "text/plain": [
       "6-element Array{Float64,1}:\n",
       "  0.0\n",
       "  0.0\n",
       " -3.0\n",
       "  0.0\n",
       "  3.0\n",
       "  0.0"
      ]
     },
     "execution_count": 114,
     "metadata": {},
     "output_type": "execute_result"
    }
   ],
   "source": [
    "r = c-transpose(A)*(transpose(R[:,1:2])*c[[2,6]])"
   ]
  },
  {
   "cell_type": "markdown",
   "metadata": {},
   "source": [
    "Nous pouvons davantage automatiser le code avec la fonction reducedcosts."
   ]
  },
  {
   "cell_type": "code",
   "execution_count": 121,
   "metadata": {},
   "outputs": [
    {
     "data": {
      "text/plain": [
       "reducedcosts (generic function with 1 method)"
      ]
     },
     "execution_count": 121,
     "metadata": {},
     "output_type": "execute_result"
    }
   ],
   "source": [
    "function reducedcosts(c::Vector, A::Matrix, R::Matrix, idx::Vector)\n",
    "    (m,n) = size(A)\n",
    "    return c-transpose(A)*(transpose(R[:,1:m])*c[idx])\n",
    "end"
   ]
  },
  {
   "cell_type": "code",
   "execution_count": 122,
   "metadata": {},
   "outputs": [
    {
     "data": {
      "text/plain": [
       "6-element Array{Float64,1}:\n",
       "  0.0\n",
       "  0.0\n",
       " -3.0\n",
       "  0.0\n",
       "  3.0\n",
       "  0.0"
      ]
     },
     "execution_count": 122,
     "metadata": {},
     "output_type": "execute_result"
    }
   ],
   "source": [
    "r = reducedcosts(c,A,R,[2,6])"
   ]
  },
  {
   "cell_type": "markdown",
   "metadata": {},
   "source": [
    "À nouveau, nous trouvons un coût réduit négatif, ce qui conduit à faire entrer $x_3$ dans la base. Nous calculons le vecteur $y_3 = B^{-1}$, que nous intégrons directement comme dernière colonne de $R$."
   ]
  },
  {
   "cell_type": "code",
   "execution_count": 123,
   "metadata": {},
   "outputs": [
    {
     "data": {
      "text/plain": [
       "2-element Array{Float64,1}:\n",
       " -0.5\n",
       "  3.0"
      ]
     },
     "execution_count": 123,
     "metadata": {},
     "output_type": "execute_result"
    }
   ],
   "source": [
    "R[:,4] = R[:,1:2]*A[:,3]"
   ]
  },
  {
   "cell_type": "markdown",
   "metadata": {},
   "source": [
    "Nous sélectionnons à nouveau le pivot en divisant composante par composante la colonne du terme de droite avec la dernière colonne de $R$."
   ]
  },
  {
   "cell_type": "code",
   "execution_count": 124,
   "metadata": {},
   "outputs": [
    {
     "data": {
      "text/plain": [
       "2-element Array{Float64,1}:\n",
       " -3.0\n",
       "  2.0"
      ]
     },
     "execution_count": 124,
     "metadata": {},
     "output_type": "execute_result"
    }
   ],
   "source": [
    "R[:,3]./R[:,4]"
   ]
  },
  {
   "cell_type": "markdown",
   "metadata": {},
   "source": [
    "Comme nous ne devons considérons que les termes non-négatifs (et finis), cela revient à choisir le second élément, autrement dit $x_6$ sort de la base. Nous pivotons donc sur la deuxième ligne pour obtenir le nouveau tableau"
   ]
  },
  {
   "cell_type": "code",
   "execution_count": 125,
   "metadata": {},
   "outputs": [
    {
     "data": {
      "text/plain": [
       "2×4 Array{Float64,2}:\n",
       "  0.166667  0.166667  2.5  0.0\n",
       " -0.666667  0.333333  2.0  1.0"
      ]
     },
     "execution_count": 125,
     "metadata": {},
     "output_type": "execute_result"
    }
   ],
   "source": [
    "pivot!(R, 2, 4)"
   ]
  },
  {
   "cell_type": "markdown",
   "metadata": {},
   "source": [
    "Cela donne immédiatement le tableau du simplexe révisé\n",
    "$$\n",
    "\\begin{matrix}\n",
    "& x_5 & x_6 & b \\\\\n",
    "x_2 & 1/6 & 1/6 & 2.5 \\\\\n",
    "x_3 & -2/3 & 1/3 & 2 \\\\\n",
    "\\end{matrix}\n",
    "$$"
   ]
  },
  {
   "cell_type": "markdown",
   "metadata": {},
   "source": [
    "Les coûts réduits deviennent"
   ]
  },
  {
   "cell_type": "code",
   "execution_count": 128,
   "metadata": {},
   "outputs": [
    {
     "data": {
      "text/plain": [
       "6-element Array{Float64,1}:\n",
       " 0.0\n",
       " 0.0\n",
       " 0.0\n",
       " 0.0\n",
       " 1.0\n",
       " 1.0"
      ]
     },
     "execution_count": 128,
     "metadata": {},
     "output_type": "execute_result"
    }
   ],
   "source": [
    "r = reducedcosts(c,A,R,[2,3])"
   ]
  },
  {
   "cell_type": "markdown",
   "metadata": {},
   "source": [
    "Il n'y a plus de coût réduit négatif, aussi avons-nous résolu notre problème artificiel. Comme $x_5 = x_6 = 0$, nous avons trouvé une solution réalisable au système d'équations initial, avec $x_1 = x_4 = 0$, $x_2 = 2.5$ et $x_3 = 2$."
   ]
  },
  {
   "cell_type": "markdown",
   "metadata": {},
   "source": [
    "## Question 5 (30 pts)\n",
    "\n",
    "Considérons le problème\n",
    "\\begin{align*}\n",
    "\\min_x \\ & z = 2x_1 + 4x_2 + x_3  + x_4 \\\\\n",
    "\\mbox{sujet à }\n",
    "& x_1 + 3x_2 + x_4 \\leq 4 \\\\\n",
    "& 2x_1 +  x_2 + x_4 \\leq 3 \\\\\n",
    "& x_2 + 4x_3 + x_4 \\leq 3 \\\\\n",
    "& x_j \\geq 0, j = 1,2,3,4.\n",
    "\\end{align*}\n",
    "\n",
    " - Est-il nécessaire d'employer une Phase I pour initialiser le simplexe? Identifiez la solution et la base optimales.\n",
    " - De combien peut-on changer $b = (4, 3, 3)$ sans changer de base optimale?\n",
    " - De combien peut-on changer $c = (2, 4, 1, 1)$ sans changer de base optimale?\n",
    " - Que  se  passe-t-il au  niveau du coût  optimal (valeur optimale de $z$ pour de petits changements dans $b$? Et pour de petits changements dans c?"
   ]
  },
  {
   "cell_type": "markdown",
   "metadata": {},
   "source": [
    "Il n'est pas nécessaire d'employer ici une phase I comme la mise sous forme standard du problème donne directement un système sous forme canonique:\n",
    "Considérons le problème\n",
    "\\begin{align*}\n",
    "\\min_x \\ & z = 2x_1 + 4x_2 + x_3  + x_4 \\\\\n",
    "\\mbox{sujet à }\n",
    "& x_1 + 3x_2 + x_4 + s_1 = 4 \\\\\n",
    "& 2x_1 +  x_2 + x_4 + s_2 = 3 \\\\\n",
    "& x_2 + 4x_3 + x_4 + s_3 = 3 \\\\\n",
    "& x \\geq 0,\\ s \\geq 0,\n",
    "\\end{align*}\n",
    "où $s$ est un vecteur de variables d'écarts.\n",
    "\n",
    "Comme $z$ est bornée inférieurement par 0, et $z = 0$ si $x = 0$, on voit directement que $x = 0$ est solution optimale, avec $s = (4, 3, 3)$. La base optimale est formée des trois dernières colonnes de la matrice de contraintes du problème sous forme standard, ce qui n'est rien d'autre que la matrice identité."
   ]
  },
  {
   "cell_type": "markdown",
   "metadata": {},
   "source": [
    "Tant que $b$ et $c$ restent non-négatifs, $x = 0$ reste solution optimale. Il suit immédiatement que change $b$ en $b + \\Delta b$ ou $c$ en $c + \\Delta c$ ne changera pas la base optimale si $\\Delta b \\geq (-4, -3, -3)$ et $\\Delta c \\geq (-2, -4, -1, -1)$, où les inégalités doivent se lire composante par composante."
   ]
  },
  {
   "cell_type": "markdown",
   "metadata": {},
   "source": [
    "Dès lors, pour des petits changements dans $b$ et/ou $c$, $x = 0$ reste optimal, et la valeur optimale reste également inchangée, avec la valeur 0."
   ]
  }
 ],
 "metadata": {
  "kernelspec": {
   "display_name": "Julia 1.4.1",
   "language": "julia",
   "name": "julia-1.4"
  },
  "language_info": {
   "file_extension": ".jl",
   "mimetype": "application/julia",
   "name": "julia",
   "version": "1.4.1"
  }
 },
 "nbformat": 4,
 "nbformat_minor": 2
}
