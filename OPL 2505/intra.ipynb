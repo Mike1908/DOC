{
 "cells": [
  {
   "cell_type": "markdown",
   "metadata": {},
   "source": [
    "# Examen Intra Automne 2020"
   ]
  },
  {
   "cell_type": "markdown",
   "metadata": {},
   "source": [
    "## Question 1 (5 pts)\n",
    "\n",
    "Est-il possible d'avoir une solution optimale qui ne soit pas une solution de base?"
   ]
  },
  {
   "cell_type": "code",
   "execution_count": null,
   "metadata": {},
   "outputs": [],
   "source": []
  },
  {
   "cell_type": "markdown",
   "metadata": {},
   "source": [
    "## Question 2 (5 pts)\n",
    "\n",
    "Dans la procédure du simplexe, le choix de la variable sortante se fait toujours en\n",
    "considérant du coût réduit le plus négatif."
   ]
  },
  {
   "cell_type": "code",
   "execution_count": null,
   "metadata": {},
   "outputs": [],
   "source": []
  },
  {
   "cell_type": "markdown",
   "metadata": {},
   "source": [
    "## Question 3 (30 pts)\n",
    "\n",
    "Soit le problème\n",
    "\\begin{align*}\n",
    "\\min\\ & x_1 - x_2 \\\\\n",
    "\\mbox{tel que }  & 2x_1 + x_2 \\geq 2 \\\\\n",
    "& x_1 + 3x_2 \\leq 3  \\\\\n",
    "& x_1, x_2 \\geq 0\n",
    "\\end{align*}\n",
    "\n",
    " - Résolvez-le (selon la méthode de votre choix).\n",
    " - Donnez la base optimale et son inverse.\n",
    " - Formulez le problème dual."
   ]
  },
  {
   "cell_type": "code",
   "execution_count": null,
   "metadata": {},
   "outputs": [],
   "source": []
  },
  {
   "cell_type": "markdown",
   "metadata": {},
   "source": [
    "## Question 4 (30 pts)\n",
    "\n",
    "En utilisant la forme **révisée** du simplexe, trouvez une solution réalisable au système suivant:\n",
    "\\begin{align*}\n",
    "x_1 + 2x_2 - x_3 + x_4 &= 3 \\\\\n",
    "2x_1 + 4x_2 + x_3 + 2x_4 &= 12.\n",
    "\\end{align*}\n",
    "\n",
    "Veuillez présenter chaque itération, en explicitant comment est choisi le pivot, et en mettant à jour le tableau du simplexe révisé à l'aide de Julia."
   ]
  },
  {
   "cell_type": "code",
   "execution_count": null,
   "metadata": {},
   "outputs": [],
   "source": []
  },
  {
   "cell_type": "markdown",
   "metadata": {},
   "source": [
    "## Question 5 (30 pts)\n",
    "\n",
    "Considérons le problème\n",
    "\\begin{align*}\n",
    "\\min_x \\ & z = 2x_1 + 4x_2 + x_3  + x_4 \\\\\n",
    "\\mbox{sujet à }\n",
    "& x_1 + 3x_2 + x_4 \\leq 4 \\\\\n",
    "& 2x_1 +  x_2 + x_4 \\leq 3 \\\\\n",
    "& x_2 + 4x_3 + x_4 \\leq 3 \\\\\n",
    "& x_j \\geq 0, j = 1,2,3,4.\n",
    "\\end{align*}\n",
    "\n",
    " - Est-il nécessaire d'employer une Phase I pour initialiser le simplexe? Identifiez la solution et la base optimales.\n",
    " - De combien peut-on changer $b = (4, 3, 3)$ sans changer de base optimale?\n",
    " - De combien peut-on changer $c = (2, 4, 1, 1)$ sans changer de base optimale?\n",
    " - Que  se  passe-t-il au  niveau du coût  optimal (valeur optimale de $z$ pour de petits changements dans $b$? Et pour de petits changements dans c?"
   ]
  },
  {
   "cell_type": "code",
   "execution_count": null,
   "metadata": {},
   "outputs": [],
   "source": []
  }
 ],
 "metadata": {
  "kernelspec": {
   "display_name": "Julia 1.4.1",
   "language": "julia",
   "name": "julia-1.4"
  },
  "language_info": {
   "file_extension": ".jl",
   "mimetype": "application/julia",
   "name": "julia",
   "version": "1.4.1"
  }
 },
 "nbformat": 4,
 "nbformat_minor": 2
}
