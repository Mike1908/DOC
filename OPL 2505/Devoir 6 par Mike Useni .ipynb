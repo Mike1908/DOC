{
 "cells": [
  {
   "cell_type": "markdown",
   "metadata": {},
   "source": [
    "# Devoir 6  par Mike Useni \n",
    "## Exercice 1"
   ]
  },
  {
   "cell_type": "markdown",
   "metadata": {},
   "source": [
    "\\begin{align}\n",
    "    \\text{Min} & x_1\\\\ \\\\\n",
    "    \\text{t.q } & x_1 + x_2 = 1 \\\\\n",
    "            & x_1, x_2\\geq 0\n",
    "\\end{align}"
   ]
  },
  {
   "cell_type": "markdown",
   "metadata": {},
   "source": [
    "### a)"
   ]
  },
  {
   "cell_type": "markdown",
   "metadata": {},
   "source": [
    "Forme standare\n",
    "\\begin{align}\n",
    "    \\text{Max} & - x_1\\\\ \\\\\n",
    "    \\text{t.q } & x_1 + x_2 + x_3 = 1 \\\\\n",
    "            & x_1, x_2\\geq 0\n",
    "\\end{align}"
   ]
  },
  {
   "cell_type": "markdown",
   "metadata": {},
   "source": [
    "Phases 1"
   ]
  },
  {
   "cell_type": "markdown",
   "metadata": {},
   "source": [
    "$$\n",
    "\\begin{array}{c|ccc|c}\n",
    "    & x_1 & x_2 & x_3 & b \\\\\n",
    "    \\hline\n",
    "    x_3 & 1 & 1 & 1 & 1\\\\\n",
    "    \\hline\n",
    "    & -1 & -1 & 0 & 0 \n",
    "\\end{array}\n",
    "$$"
   ]
  },
  {
   "cell_type": "markdown",
   "metadata": {},
   "source": [
    "$$\n",
    "\\begin{array}{c|ccc|c}\n",
    "    & x_1 & x_2 & x_3 & b \\\\\n",
    "    \\hline\n",
    "    x_1 & 1 & 1 & 1 & 1\\\\\n",
    "    \\hline\n",
    "    & 0 & 0 & 0 & 1 \n",
    "\\end{array}\n",
    "$$"
   ]
  },
  {
   "cell_type": "markdown",
   "metadata": {},
   "source": [
    "Phases 2"
   ]
  },
  {
   "cell_type": "markdown",
   "metadata": {},
   "source": [
    "$$\n",
    "\\begin{array}{c|cc|c}\n",
    "    & x_1 & x_2  & b \\\\\n",
    "    \\hline\n",
    "    x_1 & 1 & 1 & 1\\\\\n",
    "    \\hline\n",
    "    & 0 & -1 & -1 \n",
    "\\end{array}\n",
    "$$"
   ]
  },
  {
   "cell_type": "markdown",
   "metadata": {},
   "source": [
    "$$\n",
    "\\begin{array}{c|cc|c}\n",
    "    & x_1 & x_2  & b \\\\\n",
    "    \\hline\n",
    "    x_1 & 1 & 1 & 1\\\\\n",
    "    \\hline\n",
    "    & 1 & 0 & 0 \n",
    "\\end{array}\n",
    "$$"
   ]
  },
  {
   "cell_type": "markdown",
   "metadata": {},
   "source": [
    "La solution optimale est Z = 0  $$ x_1 = 0 $$ $$ x_2 = 1$$ "
   ]
  },
  {
   "cell_type": "markdown",
   "metadata": {},
   "source": [
    "la solution du dual est y = 0."
   ]
  },
  {
   "cell_type": "markdown",
   "metadata": {},
   "source": [
    "### b)"
   ]
  },
  {
   "cell_type": "markdown",
   "metadata": {},
   "source": [
    "\\begin{align}\n",
    "            & x_1s_1 = \\mu\\\\\n",
    "            & x_2s_2 = \\mu\\\\\n",
    "            & s_1 + x_2 = 1 \\\\\n",
    "            & y_1 + s_1 = 1 \\\\\n",
    "            & y_1 + s_2 = 0 \\\\\n",
    "\\end{align}"
   ]
  },
  {
   "cell_type": "markdown",
   "metadata": {},
   "source": [
    "on sait que $x_1 = 1$ alors :"
   ]
  },
  {
   "cell_type": "markdown",
   "metadata": {},
   "source": [
    "\\begin{align}\n",
    "    & x_2 = 0 \\\\\n",
    "    & \\mu = 0 \\\\\n",
    "    & s_1 = 0 \\\\\n",
    "    & y_1 = 1 \\\\\n",
    "    & s_2 = -1 \\\\\n",
    "\\end{align}"
   ]
  },
  {
   "cell_type": "markdown",
   "metadata": {},
   "source": [
    "### c)"
   ]
  },
  {
   "cell_type": "markdown",
   "metadata": {},
   "source": [
    "la solution en (b) ne peut pas etre atteinte."
   ]
  },
  {
   "cell_type": "markdown",
   "metadata": {},
   "source": [
    "### d)"
   ]
  },
  {
   "cell_type": "markdown",
   "metadata": {},
   "source": [
    "## Exercice 2"
   ]
  },
  {
   "cell_type": "markdown",
   "metadata": {},
   "source": [
    "#### Iteration 1"
   ]
  },
  {
   "cell_type": "markdown",
   "metadata": {},
   "source": [
    "\\begin{align}\n",
    "    \\text{Min} & -5x_1 - 4x_2\\\\ \\\\\n",
    "    \\text{t.q } & 3x_1 + 4x_2 \\leq 10 \\\\\n",
    "            & x_1, x_2\\geq 0 \\\\\n",
    "\\end{align}"
   ]
  },
  {
   "cell_type": "markdown",
   "metadata": {},
   "source": [
    "solution : $x_1=3.33$, $x_2=0$ et z = -16.67"
   ]
  },
  {
   "cell_type": "markdown",
   "metadata": {},
   "source": [
    "#### Iteration 2"
   ]
  },
  {
   "cell_type": "markdown",
   "metadata": {},
   "source": [
    "Nous branchons sur $x_1$ pour créer deux problèmes, le premier avec $x_1 \\leq 3$, l'autre avec $x_1 \\geq 4$."
   ]
  },
  {
   "cell_type": "markdown",
   "metadata": {},
   "source": [
    "\\begin{align}\n",
    "    \\text{Min} & -5x_1 - 4x_2\\\\ \\\\\n",
    "    \\text{t.q } & 3x_1 + 4x_2 \\leq 10 \\\\\n",
    "            & x_1\\leq 3 \\\\\n",
    "            & x_1, x_2\\geq 0 \\\\\n",
    "\\end{align}"
   ]
  },
  {
   "cell_type": "markdown",
   "metadata": {},
   "source": [
    "solution : $x_1=3$, $x_2=0.25$ et z = -16"
   ]
  },
  {
   "cell_type": "markdown",
   "metadata": {},
   "source": [
    "La solution n'est pas entière et il est possible de trouver une meilleure solution au problème initial."
   ]
  },
  {
   "cell_type": "markdown",
   "metadata": {},
   "source": [
    "#### Iteration 3"
   ]
  },
  {
   "cell_type": "markdown",
   "metadata": {},
   "source": [
    "Nous branchons sur $x_1$ pour créer deux problèmes, le premier avec $x_2 \\leq 0$, l'autre avec $x_2 \\geq 1$."
   ]
  },
  {
   "cell_type": "markdown",
   "metadata": {},
   "source": [
    "\\begin{align}\n",
    "    \\text{Min} & -5x_1 - 4x_2\\\\ \\\\\n",
    "    \\text{t.q } & 3x_1 + 4x_2 \\leq 10 \\\\\n",
    "            & x_2\\leq 0 \\\\\n",
    "            & x_1, x_2\\geq 0 \\\\\n",
    "\\end{align}"
   ]
  },
  {
   "cell_type": "markdown",
   "metadata": {},
   "source": [
    "solution : $x_1=3$, $x_2=0$ et z = -15"
   ]
  },
  {
   "cell_type": "markdown",
   "metadata": {},
   "source": [
    "La solution est entière, pour une valeur objectif de -15, égale à la meilleure valeur actuellement connue."
   ]
  },
  {
   "cell_type": "markdown",
   "metadata": {},
   "source": [
    "#### Iteration 4"
   ]
  },
  {
   "cell_type": "markdown",
   "metadata": {},
   "source": [
    "Pour Le problème"
   ]
  },
  {
   "cell_type": "markdown",
   "metadata": {},
   "source": [
    "\\begin{align}\n",
    "    \\text{Min} & -5x_1 - 4x_2\\\\ \\\\\n",
    "    \\text{t.q } & 3x_1 + 4x_2 \\leq 10 \\\\\n",
    "            & x_2\\geq 1 \\\\\n",
    "            & x_1, x_2\\geq 0 \\\\\n",
    "\\end{align}"
   ]
  },
  {
   "cell_type": "markdown",
   "metadata": {},
   "source": [
    "solution : $x_1=2$, $x_2=1$ et z = -14"
   ]
  },
  {
   "cell_type": "markdown",
   "metadata": {},
   "source": [
    "La solution est entière, pour une valeur objectif de -14, égale à la nouvelle meilleure valeur connue."
   ]
  },
  {
   "cell_type": "markdown",
   "metadata": {},
   "source": [
    "#### Iteration 5"
   ]
  },
  {
   "cell_type": "markdown",
   "metadata": {},
   "source": [
    "\\begin{align}\n",
    "    \\text{Min} & -5x_1 - 4x_2\\\\ \\\\\n",
    "    \\text{t.q } & 3x_1 + 4x_2 \\leq 10 \\\\\n",
    "            & x_2\\geq 4 \\\\\n",
    "            & x_1, x_2\\geq 0 \\\\\n",
    "\\end{align}"
   ]
  },
  {
   "cell_type": "markdown",
   "metadata": {},
   "source": [
    "solution : impossible "
   ]
  },
  {
   "cell_type": "markdown",
   "metadata": {},
   "source": [
    "Il n'y a plus de noeud à élaguer aussi non pouvons conclure. La valeur optimale est -14, atteinte en (2,1)."
   ]
  },
  {
   "cell_type": "code",
   "execution_count": null,
   "metadata": {},
   "outputs": [],
   "source": []
  }
 ],
 "metadata": {
  "kernelspec": {
   "display_name": "Julia 1.5.1",
   "language": "julia",
   "name": "julia-1.5"
  },
  "language_info": {
   "file_extension": ".jl",
   "mimetype": "application/julia",
   "name": "julia",
   "version": "1.5.1"
  }
 },
 "nbformat": 4,
 "nbformat_minor": 2
}
