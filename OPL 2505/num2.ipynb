{
 "cells": [
  {
   "cell_type": "markdown",
   "metadata": {},
   "source": [
    "# Implémentation basique du simplexe"
   ]
  },
  {
   "cell_type": "code",
   "execution_count": 1,
   "metadata": {},
   "outputs": [
    {
     "data": {
      "text/plain": [
       "simplex_method (generic function with 1 method)"
      ]
     },
     "execution_count": 1,
     "metadata": {},
     "output_type": "execute_result"
    }
   ],
   "source": [
    "## https://github.com/chkwon/jpor_codes/blob/master/chap5/simplex_method.jl\n",
    "## Slightly modified to avoid the inversion operation\n",
    "\n",
    "using LinearAlgebra, Combinatorics, Printf\n",
    "\n",
    "mutable struct SimplexTableau\n",
    "    z_c     ::Array{Float64} # z_j - c_j\n",
    "    Y       ::Array{Float64} # inv(B) * A\n",
    "    x_B     ::Array{Float64} # inv(B) * b\n",
    "    obj     ::Float64        # c_B * x_B\n",
    "    b_idx   ::Array{Int64}   # indices for basic variables x_B\n",
    "end\n",
    "function is_nonnegative(x::Vector)\n",
    "    return length( x[ x .< 0] ) == 0\n",
    "end\n",
    "\n",
    "function is_nonpositive(z::Array)\n",
    "    return length( z[ z .> 0] ) == 0\n",
    "end\n",
    "\n",
    "function initial_BFS(A, b)\n",
    "    m, n = size(A)\n",
    "\n",
    "    comb = collect(combinations(1:n, m))\n",
    "    for i in length(comb):-1:1\n",
    "      b_idx = comb[i]\n",
    "      B = A[:, b_idx]\n",
    "      if rank(B) == m        \n",
    "        x_B = B\\b\n",
    "        if is_nonnegative(x_B)\n",
    "          return b_idx, x_B, B\n",
    "        end\n",
    "      end\n",
    "    end\n",
    "\n",
    "    error(\"Infeasible\")\n",
    "end\n",
    "\n",
    "function print_tableau(t::SimplexTableau)\n",
    "    m, n = size(t.Y)\n",
    "\n",
    "    hline0 = repeat(\"-\", 6)\n",
    "    hline1 = repeat(\"-\", 7*n)\n",
    "    hline2 = repeat(\"-\", 7)\n",
    "    hline = join([hline0, \"+\", hline1, \"+\", hline2])\n",
    "\n",
    "    println(hline)\n",
    "\n",
    "    @printf(\"%6s|\", \"\")\n",
    "    for j in 1:length(t.z_c)\n",
    "      @printf(\"%6.2f \", t.z_c[j])\n",
    "    end\n",
    "    @printf(\"| %6.2f\\n\", t.obj)\n",
    "\n",
    "    println(hline)\n",
    "\n",
    "    for i in 1:m\n",
    "      @printf(\"x[%2d] |\", t.b_idx[i])\n",
    "      for j in 1:n\n",
    "        @printf(\"%6.2f \", t.Y[i,j])\n",
    "      end\n",
    "      @printf(\"| %6.2f\\n\", t.x_B[i])\n",
    "    end\n",
    "\n",
    "    println(hline)\n",
    "end\n",
    "\n",
    "function pivoting!(t::SimplexTableau)\n",
    "    m, n = size(t.Y)\n",
    "\n",
    "    entering, exiting = pivot_point(t)\n",
    "    println(\"Pivoting: entering = x_$entering, exiting = x_$(t.b_idx[exiting])\")\n",
    "\n",
    "    # Pivoting: exiting-row, entering-column\n",
    "    # updating exiting-row\n",
    "    coef = t.Y[exiting, entering]\n",
    "    t.Y[exiting, :] /= coef\n",
    "    t.x_B[exiting] /= coef\n",
    "\n",
    "    # updating other rows of Y\n",
    "    for i in setdiff(1:m, exiting)\n",
    "      coef = t.Y[i, entering]\n",
    "      t.Y[i, :] -= coef * t.Y[exiting, :]\n",
    "      t.x_B[i] -= coef * t.x_B[exiting]\n",
    "    end\n",
    "\n",
    "    # updating the row for the reduced costs\n",
    "    coef = t.z_c[entering]\n",
    "    t.z_c -= coef * t.Y[exiting, :]'\n",
    "    t.obj -= coef * t.x_B[exiting]\n",
    "\n",
    "    # Updating b_idx\n",
    "    t.b_idx[ findfirst(t.b_idx .== t.b_idx[exiting]) ] = entering\n",
    "end\n",
    "\n",
    "function pivot_point(t::SimplexTableau)\n",
    "    # Finding the entering variable index\n",
    "    entering = findfirst( t.z_c .> 0)[2]\n",
    "    if entering == 0\n",
    "      error(\"Optimal\")\n",
    "    end\n",
    "\n",
    "    # min ratio test / finding the exiting variable index\n",
    "    pos_idx = findall( t.Y[:, entering] .> 0 )\n",
    "    if length(pos_idx) == 0\n",
    "      error(\"Unbounded\")\n",
    "    end\n",
    "    exiting = pos_idx[ argmin( t.x_B[pos_idx] ./ t.Y[pos_idx, entering] ) ]\n",
    "\n",
    "    return entering, exiting\n",
    "end\n",
    "\n",
    "function initialize(c, A, b)\n",
    "    c = Array{Float64}(c)\n",
    "    A = Array{Float64}(A)\n",
    "    b = Array{Float64}(b)\n",
    "\n",
    "    m, n = size(A)\n",
    "\n",
    "    # Finding an initial BFS\n",
    "    b_idx, x_B, B = initial_BFS(A,b)\n",
    "\n",
    "    Y = B\\A\n",
    "    c_B = c[b_idx]\n",
    "    obj = dot(c_B, x_B)\n",
    "\n",
    "    # z_c is a row vector\n",
    "    z_c = zeros(1,n)\n",
    "    n_idx = setdiff(1:n, b_idx)\n",
    "    λ = B\\c_B\n",
    "    z_c[n_idx] = λ' * A[:,n_idx] - c[n_idx]'\n",
    "\n",
    "    return SimplexTableau(z_c, Y, x_B, obj, b_idx)\n",
    "end\n",
    "\n",
    "function is_optimal(t::SimplexTableau)\n",
    "    return is_nonpositive(t.z_c)\n",
    "end\n",
    "\n",
    "function simplex_method(c, A, b)\n",
    "    tableau = initialize(c, A, b)\n",
    "    #print_tableau(tableau)\n",
    "\n",
    "    while !is_optimal(tableau)\n",
    "      pivoting!(tableau)\n",
    "      #print_tableau(tableau)\n",
    "    end\n",
    "\n",
    "    opt_x = zeros(length(c))\n",
    "    opt_x[tableau.b_idx] = tableau.x_B\n",
    "\n",
    "    return opt_x, tableau.obj\n",
    "end"
   ]
  },
  {
   "cell_type": "markdown",
   "metadata": {},
   "source": [
    "## Phase 1\n",
    "\n",
    "Notre solution utilisera la phase 1 pour créer un tableau initiale du simplexe. Ceci ce fera en 3 étapes\n",
    "\n",
    "    1 créer le problème de phase 1\n",
    "    2 résoudre le problème de phase 1\n",
    "    3 aller chercher l'information dans le tableau optimale du simplexe pour créer le tableau du simplexe du problème original"
   ]
  },
  {
   "cell_type": "code",
   "execution_count": 2,
   "metadata": {},
   "outputs": [
    {
     "data": {
      "text/plain": [
       "phase1 (generic function with 1 method)"
      ]
     },
     "execution_count": 2,
     "metadata": {},
     "output_type": "execute_result"
    }
   ],
   "source": [
    "function phase1(c,A,b)\n",
    "    \n",
    "    # Étape 1, créer le problème de phase 1\n",
    "    m,n = size(A)\n",
    "    c = Array{Float64}(c)\n",
    "    A = Array{Float64}(A)\n",
    "    b = Array{Float64}(b)\n",
    "    #on ajoute de façon naive une variable artificiel pour chaque contrainte\n",
    "    Aphase1 = [A I]\n",
    "    # on doit minimiser la somme des variables artificiel\n",
    "    cphase1 = [zeros(n)' ones(m)']\n",
    "    # on initialise la valeur l'objectif à 0.0\n",
    "    objphase1 = 0.0\n",
    "    #on sait que la base initiale contient les  variables artificiels [n+1, n+2,..., n+m]\n",
    "    b_idxphase1 = [n+1:n+m;]\n",
    "    # la solution de base, composée des variables artificielles, vaut initialement le terme de droite\n",
    "    x_Bphase1 = copy(b)\n",
    "    \n",
    "    # Dans la forme standard, le vecteur c devrait contenir un 0 sous les variable de base\n",
    "    # On sait que dans la forme actuel, le couts réduits sous les variable de base sont 1.\n",
    "    # On met donc les coûts réduits de base à 0 en soustrayant chaque ligne de la matrice.\n",
    "    for k in 1:m\n",
    "        cphase1[1,:] -= Aphase1[k, :]\n",
    "        objphase1 -= b[k]\n",
    "    end\n",
    "    \n",
    "    # On a maintenant tous ce qu'il faut pour créer le tableau du  simplexe!!!\n",
    "    stphase1 = SimplexTableau(-cphase1, Aphase1, x_Bphase1, -objphase1, b_idxphase1)\n",
    "    print_tableau(stphase1)\n",
    "       \n",
    "    # Partie 2: résoudre le problème de phase 1\n",
    "    while !is_optimal(stphase1)\n",
    "      pivoting!(stphase1)\n",
    "      print_tableau(stphase1)\n",
    "    end\n",
    "    \n",
    "    # On a maintenant un tableau optimal, il ne reste qu'à faire quelque vérification\n",
    "    # le problème est-il réalisable ?\n",
    "    @assert stphase1.obj <= eps() \"infeasible, obj phase1 = $(stphase1.obj)\"\n",
    "    \n",
    "    # Partie 3: aller chercher l'information dans le tableau du simplexe de phase 1.\n",
    "    cphase2 = copy(c)\n",
    "    objphase2 = 0.0\n",
    "    \n",
    "    # On va retirer les contraintes redondantes, ceci ne sera pas évalué dans la correction.\n",
    "    Y = zeros(0, n)\n",
    "    b_phase2 = zeros(0)\n",
    "    b_idx = Int[]\n",
    "    # Pour toutes les contraintes\n",
    "    for (k, bk) in enumerate(stphase1.b_idx)\n",
    "        #si la variable de base associé à la contrainte n'est pas une variable de phase 1\n",
    "        if bk != n+1:n+m\n",
    "            push!(b_idx, bk)\n",
    "            Y = [Y; stphase1.Y[k, 1:n]']\n",
    "            push!(b_phase2, stphase1.x_B[k])\n",
    "            objphase2 -= cphase2[1,bk]*b_phase2[end]\n",
    "            cphase2[1,:] -= cphase2[1,bk]*Y[end, 1:n]\n",
    "        #si la variable de base associé à la contrainte est pas une variable de phase 1\n",
    "        else\n",
    "            #on n'ajoute pas la contrainte et on retire indique qu'on a retirer une ligne\n",
    "            println(\"line $k removed\")\n",
    "        end\n",
    "    end\n",
    "\n",
    "    # Il ne reste qu'à retourner le résultat!!\n",
    "    tableau = SimplexTableau(-cphase2, Y, b_phase2, -objphase2, b_idx)\n",
    "    print_tableau(tableau)\n",
    "\n",
    "    return tableau\n",
    "end"
   ]
  },
  {
   "cell_type": "code",
   "execution_count": 3,
   "metadata": {},
   "outputs": [
    {
     "data": {
      "text/plain": [
       "simplex_method2 (generic function with 1 method)"
      ]
     },
     "execution_count": 3,
     "metadata": {},
     "output_type": "execute_result"
    }
   ],
   "source": [
    "function simplex_method2(c, A, b)\n",
    "    tableau = phase1(c, A, b)\n",
    "    print_tableau(tableau)\n",
    "\n",
    "    while !is_optimal(tableau)\n",
    "      pivoting!(tableau)\n",
    "      print_tableau(tableau)\n",
    "    end\n",
    "    print_tableau(tableau)\n",
    "    opt_x = zeros(length(c))\n",
    "    opt_x[tableau.b_idx] = tableau.x_B\n",
    "\n",
    "    return opt_x, tableau.obj\n",
    "end"
   ]
  },
  {
   "cell_type": "markdown",
   "metadata": {},
   "source": [
    "## Exemple"
   ]
  },
  {
   "cell_type": "code",
   "execution_count": 4,
   "metadata": {},
   "outputs": [
    {
     "name": "stdout",
     "output_type": "stream",
     "text": [
      "Pivoting: entering = x_1, exiting = x_5\n",
      "Pivoting: entering = x_2, exiting = x_7\n",
      "Pivoting: entering = x_4, exiting = x_6\n"
     ]
    },
    {
     "data": {
      "text/plain": [
       "-5.051724137931035"
      ]
     },
     "execution_count": 4,
     "metadata": {},
     "output_type": "execute_result"
    }
   ],
   "source": [
    "c = reshape([-3; -2; -1; -5; 0; 0; 0], 1, 7)\n",
    "A = [7 3 4 1 1 0 0 ;\n",
    "     2 1 1 5 0 1 0 ;\n",
    "     1 4 5 2 0 0 1 ]\n",
    "b = [7; 3; 8]\n",
    "\n",
    "x, obj = simplex_method(c, A, b)\n",
    "obj"
   ]
  },
  {
   "cell_type": "code",
   "execution_count": 5,
   "metadata": {},
   "outputs": [
    {
     "name": "stdout",
     "output_type": "stream",
     "text": [
      "------+----------------------------------------------------------------------+-------\n",
      "      | 10.00   8.00  10.00   8.00   1.00   1.00   1.00  -0.00  -0.00  -0.00 |  18.00\n",
      "------+----------------------------------------------------------------------+-------\n",
      "x[ 8] |  7.00   3.00   4.00   1.00   1.00   0.00   0.00   1.00   0.00   0.00 |   7.00\n",
      "x[ 9] |  2.00   1.00   1.00   5.00   0.00   1.00   0.00   0.00   1.00   0.00 |   3.00\n",
      "x[10] |  1.00   4.00   5.00   2.00   0.00   0.00   1.00   0.00   0.00   1.00 |   8.00\n",
      "------+----------------------------------------------------------------------+-------\n",
      "Pivoting: entering = x_1, exiting = x_8\n",
      "------+----------------------------------------------------------------------+-------\n",
      "      |  0.00   3.71   4.29   6.57  -0.43   1.00   1.00  -1.43  -0.00  -0.00 |   8.00\n",
      "------+----------------------------------------------------------------------+-------\n",
      "x[ 1] |  1.00   0.43   0.57   0.14   0.14   0.00   0.00   0.14   0.00   0.00 |   1.00\n",
      "x[ 9] |  0.00   0.14  -0.14   4.71  -0.29   1.00   0.00  -0.29   1.00   0.00 |   1.00\n",
      "x[10] |  0.00   3.57   4.43   1.86  -0.14   0.00   1.00  -0.14   0.00   1.00 |   7.00\n",
      "------+----------------------------------------------------------------------+-------\n",
      "Pivoting: entering = x_2, exiting = x_10\n",
      "------+----------------------------------------------------------------------+-------\n",
      "      |  0.00   0.00  -0.32   4.64  -0.28   1.00  -0.04  -1.28  -0.00  -1.04 |   0.72\n",
      "------+----------------------------------------------------------------------+-------\n",
      "x[ 1] |  1.00   0.00   0.04  -0.08   0.16   0.00  -0.12   0.16   0.00  -0.12 |   0.16\n",
      "x[ 9] |  0.00   0.00  -0.32   4.64  -0.28   1.00  -0.04  -0.28   1.00  -0.04 |   0.72\n",
      "x[ 2] |  0.00   1.00   1.24   0.52  -0.04   0.00   0.28  -0.04   0.00   0.28 |   1.96\n",
      "------+----------------------------------------------------------------------+-------\n",
      "Pivoting: entering = x_4, exiting = x_9\n",
      "------+----------------------------------------------------------------------+-------\n",
      "      |  0.00   0.00   0.00   0.00   0.00   0.00  -0.00  -1.00  -1.00  -1.00 |  -0.00\n",
      "------+----------------------------------------------------------------------+-------\n",
      "x[ 1] |  1.00   0.00   0.03   0.00   0.16   0.02  -0.12   0.16   0.02  -0.12 |   0.17\n",
      "x[ 4] |  0.00   0.00  -0.07   1.00  -0.06   0.22  -0.01  -0.06   0.22  -0.01 |   0.16\n",
      "x[ 2] |  0.00   1.00   1.28   0.00  -0.01  -0.11   0.28  -0.01  -0.11   0.28 |   1.88\n",
      "------+----------------------------------------------------------------------+-------\n",
      "Pivoting: entering = x_3, exiting = x_2\n",
      "------+----------------------------------------------------------------------+-------\n",
      "      |  0.00  -0.00   0.00   0.00   0.00   0.00  -0.00  -1.00  -1.00  -1.00 |  -0.00\n",
      "------+----------------------------------------------------------------------+-------\n",
      "x[ 1] |  1.00  -0.03   0.00   0.00   0.16   0.02  -0.13   0.16   0.02  -0.13 |   0.12\n",
      "x[ 4] |  0.00   0.05   0.00   1.00  -0.06   0.21   0.01  -0.06   0.21   0.01 |   0.26\n",
      "x[ 3] |  0.00   0.78   1.00   0.00  -0.01  -0.09   0.22  -0.01  -0.09   0.22 |   1.47\n",
      "------+----------------------------------------------------------------------+-------\n",
      "Pivoting: entering = x_5, exiting = x_1\n",
      "------+----------------------------------------------------------------------+-------\n",
      "      | -0.00  -0.00   0.00   0.00   0.00   0.00  -0.00  -1.00  -1.00  -1.00 |  -0.00\n",
      "------+----------------------------------------------------------------------+-------\n",
      "x[ 5] |  6.43  -0.17   0.00   0.00   1.00   0.13  -0.83   1.00   0.13  -0.83 |   0.78\n",
      "x[ 4] |  0.39   0.04   0.00   1.00   0.00   0.22  -0.04   0.00   0.22  -0.04 |   0.30\n",
      "x[ 3] |  0.04   0.78   1.00   0.00   0.00  -0.09   0.22   0.00  -0.09   0.22 |   1.48\n",
      "------+----------------------------------------------------------------------+-------\n",
      "Pivoting: entering = x_6, exiting = x_4\n",
      "------+----------------------------------------------------------------------+-------\n",
      "      | -0.00  -0.00   0.00  -0.00   0.00   0.00  -0.00  -1.00  -1.00  -1.00 |  -0.00\n",
      "------+----------------------------------------------------------------------+-------\n",
      "x[ 5] |  6.20  -0.20   0.00  -0.60   1.00   0.00  -0.80   1.00   0.00  -0.80 |   0.60\n",
      "x[ 6] |  1.80   0.20   0.00   4.60   0.00   1.00  -0.20   0.00   1.00  -0.20 |   1.40\n",
      "x[ 3] |  0.20   0.80   1.00   0.40   0.00   0.00   0.20   0.00   0.00   0.20 |   1.60\n",
      "------+----------------------------------------------------------------------+-------\n",
      "------+-------------------------------------------------+-------\n",
      "      |  2.80   1.20  -0.00   4.60  -0.00  -0.00  -0.20 |  -1.60\n",
      "------+-------------------------------------------------+-------\n",
      "x[ 5] |  6.20  -0.20   0.00  -0.60   1.00   0.00  -0.80 |   0.60\n",
      "x[ 6] |  1.80   0.20   0.00   4.60   0.00   1.00  -0.20 |   1.40\n",
      "x[ 3] |  0.20   0.80   1.00   0.40   0.00   0.00   0.20 |   1.60\n",
      "------+-------------------------------------------------+-------\n",
      "------+-------------------------------------------------+-------\n",
      "      |  2.80   1.20  -0.00   4.60  -0.00  -0.00  -0.20 |  -1.60\n",
      "------+-------------------------------------------------+-------\n",
      "x[ 5] |  6.20  -0.20   0.00  -0.60   1.00   0.00  -0.80 |   0.60\n",
      "x[ 6] |  1.80   0.20   0.00   4.60   0.00   1.00  -0.20 |   1.40\n",
      "x[ 3] |  0.20   0.80   1.00   0.40   0.00   0.00   0.20 |   1.60\n",
      "------+-------------------------------------------------+-------\n",
      "Pivoting: entering = x_1, exiting = x_5\n",
      "------+-------------------------------------------------+-------\n",
      "      |  0.00   1.29  -0.00   4.87  -0.45  -0.00   0.16 |  -1.87\n",
      "------+-------------------------------------------------+-------\n",
      "x[ 1] |  1.00  -0.03   0.00  -0.10   0.16   0.00  -0.13 |   0.10\n",
      "x[ 6] |  0.00   0.26   0.00   4.77  -0.29   1.00   0.03 |   1.23\n",
      "x[ 3] |  0.00   0.81   1.00   0.42  -0.03   0.00   0.23 |   1.58\n",
      "------+-------------------------------------------------+-------\n",
      "Pivoting: entering = x_2, exiting = x_3\n",
      "------+-------------------------------------------------+-------\n",
      "      |  0.00   0.00  -1.60   4.20  -0.40  -0.00  -0.20 |  -4.40\n",
      "------+-------------------------------------------------+-------\n",
      "x[ 1] |  1.00   0.00   0.04  -0.08   0.16   0.00  -0.12 |   0.16\n",
      "x[ 6] |  0.00   0.00  -0.32   4.64  -0.28   1.00  -0.04 |   0.72\n",
      "x[ 2] |  0.00   1.00   1.24   0.52  -0.04   0.00   0.28 |   1.96\n",
      "------+-------------------------------------------------+-------\n",
      "Pivoting: entering = x_4, exiting = x_6\n",
      "------+-------------------------------------------------+-------\n",
      "      |  0.00   0.00  -1.31   0.00  -0.15  -0.91  -0.16 |  -5.05\n",
      "------+-------------------------------------------------+-------\n",
      "x[ 1] |  1.00   0.00   0.03   0.00   0.16   0.02  -0.12 |   0.17\n",
      "x[ 4] |  0.00   0.00  -0.07   1.00  -0.06   0.22  -0.01 |   0.16\n",
      "x[ 2] |  0.00   1.00   1.28   0.00  -0.01  -0.11   0.28 |   1.88\n",
      "------+-------------------------------------------------+-------\n",
      "------+-------------------------------------------------+-------\n",
      "      |  0.00   0.00  -1.31   0.00  -0.15  -0.91  -0.16 |  -5.05\n",
      "------+-------------------------------------------------+-------\n",
      "x[ 1] |  1.00   0.00   0.03   0.00   0.16   0.02  -0.12 |   0.17\n",
      "x[ 4] |  0.00   0.00  -0.07   1.00  -0.06   0.22  -0.01 |   0.16\n",
      "x[ 2] |  0.00   1.00   1.28   0.00  -0.01  -0.11   0.28 |   1.88\n",
      "------+-------------------------------------------------+-------\n"
     ]
    },
    {
     "data": {
      "text/plain": [
       "-5.051724137931034"
      ]
     },
     "execution_count": 5,
     "metadata": {},
     "output_type": "execute_result"
    }
   ],
   "source": [
    "c = reshape([-3; -2; -1; -5; 0; 0; 0], 1, 7)\n",
    "A = [7 3 4 1 1 0 0 ;\n",
    "     2 1 1 5 0 1 0 ;\n",
    "     1 4 5 2 0 0 1 ]\n",
    "b = [7; 3; 8]\n",
    "\n",
    "x, obj = simplex_method2(c, A, b)\n",
    "obj"
   ]
  },
  {
   "cell_type": "code",
   "execution_count": 6,
   "metadata": {},
   "outputs": [
    {
     "data": {
      "text/plain": [
       "7-element Array{Float64,1}:\n",
       " 0.17241379310344832\n",
       " 1.8793103448275859\n",
       " 0.0\n",
       " 0.15517241379310345\n",
       " 0.0\n",
       " 0.0\n",
       " 0.0"
      ]
     },
     "execution_count": 6,
     "metadata": {},
     "output_type": "execute_result"
    }
   ],
   "source": [
    "x"
   ]
  },
  {
   "cell_type": "markdown",
   "metadata": {},
   "source": [
    "# Résoudre le problème en question 1"
   ]
  },
  {
   "cell_type": "code",
   "execution_count": 7,
   "metadata": {},
   "outputs": [
    {
     "data": {
      "text/plain": [
       "3-element Array{Int64,1}:\n",
       " 3\n",
       " 4\n",
       " 2"
      ]
     },
     "execution_count": 7,
     "metadata": {},
     "output_type": "execute_result"
    }
   ],
   "source": [
    "A = [[1 0 1 0; 0 1  2 1; 0 0 0 1] -I]\n",
    "c = reshape([[0,3,4,5] ; zeros(3)], 1, 7)\n",
    "b = [3,4,2]"
   ]
  },
  {
   "cell_type": "code",
   "execution_count": 8,
   "metadata": {},
   "outputs": [
    {
     "name": "stdout",
     "output_type": "stream",
     "text": [
      "------+----------------------------------------------------------------------+-------\n",
      "      |  1.00   1.00   3.00   2.00  -1.00  -1.00  -1.00  -0.00  -0.00  -0.00 |   9.00\n",
      "------+----------------------------------------------------------------------+-------\n",
      "x[ 8] |  1.00   0.00   1.00   0.00  -1.00   0.00   0.00   1.00   0.00   0.00 |   3.00\n",
      "x[ 9] |  0.00   1.00   2.00   1.00   0.00  -1.00   0.00   0.00   1.00   0.00 |   4.00\n",
      "x[10] |  0.00   0.00   0.00   1.00   0.00   0.00  -1.00   0.00   0.00   1.00 |   2.00\n",
      "------+----------------------------------------------------------------------+-------\n",
      "Pivoting: entering = x_1, exiting = x_8\n",
      "------+----------------------------------------------------------------------+-------\n",
      "      |  0.00   1.00   2.00   2.00   0.00  -1.00  -1.00  -1.00  -0.00  -0.00 |   6.00\n",
      "------+----------------------------------------------------------------------+-------\n",
      "x[ 1] |  1.00   0.00   1.00   0.00  -1.00   0.00   0.00   1.00   0.00   0.00 |   3.00\n",
      "x[ 9] |  0.00   1.00   2.00   1.00   0.00  -1.00   0.00   0.00   1.00   0.00 |   4.00\n",
      "x[10] |  0.00   0.00   0.00   1.00   0.00   0.00  -1.00   0.00   0.00   1.00 |   2.00\n",
      "------+----------------------------------------------------------------------+-------\n",
      "Pivoting: entering = x_2, exiting = x_9\n",
      "------+----------------------------------------------------------------------+-------\n",
      "      |  0.00   0.00   0.00   1.00   0.00   0.00  -1.00  -1.00  -1.00  -0.00 |   2.00\n",
      "------+----------------------------------------------------------------------+-------\n",
      "x[ 1] |  1.00   0.00   1.00   0.00  -1.00   0.00   0.00   1.00   0.00   0.00 |   3.00\n",
      "x[ 2] |  0.00   1.00   2.00   1.00   0.00  -1.00   0.00   0.00   1.00   0.00 |   4.00\n",
      "x[10] |  0.00   0.00   0.00   1.00   0.00   0.00  -1.00   0.00   0.00   1.00 |   2.00\n",
      "------+----------------------------------------------------------------------+-------\n",
      "Pivoting: entering = x_4, exiting = x_10\n",
      "------+----------------------------------------------------------------------+-------\n",
      "      |  0.00   0.00   0.00   0.00   0.00   0.00   0.00  -1.00  -1.00  -1.00 |   0.00\n",
      "------+----------------------------------------------------------------------+-------\n",
      "x[ 1] |  1.00   0.00   1.00   0.00  -1.00   0.00   0.00   1.00   0.00   0.00 |   3.00\n",
      "x[ 2] |  0.00   1.00   2.00   0.00   0.00  -1.00   1.00   0.00   1.00  -1.00 |   2.00\n",
      "x[ 4] |  0.00   0.00   0.00   1.00   0.00   0.00  -1.00   0.00   0.00   1.00 |   2.00\n",
      "------+----------------------------------------------------------------------+-------\n",
      "------+-------------------------------------------------+-------\n",
      "      | -0.00  -0.00   2.00  -0.00  -0.00  -3.00  -2.00 |  16.00\n",
      "------+-------------------------------------------------+-------\n",
      "x[ 1] |  1.00   0.00   1.00   0.00  -1.00   0.00   0.00 |   3.00\n",
      "x[ 2] |  0.00   1.00   2.00   0.00   0.00  -1.00   1.00 |   2.00\n",
      "x[ 4] |  0.00   0.00   0.00   1.00   0.00   0.00  -1.00 |   2.00\n",
      "------+-------------------------------------------------+-------\n",
      "------+-------------------------------------------------+-------\n",
      "      | -0.00  -0.00   2.00  -0.00  -0.00  -3.00  -2.00 |  16.00\n",
      "------+-------------------------------------------------+-------\n",
      "x[ 1] |  1.00   0.00   1.00   0.00  -1.00   0.00   0.00 |   3.00\n",
      "x[ 2] |  0.00   1.00   2.00   0.00   0.00  -1.00   1.00 |   2.00\n",
      "x[ 4] |  0.00   0.00   0.00   1.00   0.00   0.00  -1.00 |   2.00\n",
      "------+-------------------------------------------------+-------\n",
      "Pivoting: entering = x_3, exiting = x_2\n",
      "------+-------------------------------------------------+-------\n",
      "      | -0.00  -1.00   0.00  -0.00  -0.00  -2.00  -3.00 |  14.00\n",
      "------+-------------------------------------------------+-------\n",
      "x[ 1] |  1.00  -0.50   0.00   0.00  -1.00   0.50  -0.50 |   2.00\n",
      "x[ 3] |  0.00   0.50   1.00   0.00   0.00  -0.50   0.50 |   1.00\n",
      "x[ 4] |  0.00   0.00   0.00   1.00   0.00   0.00  -1.00 |   2.00\n",
      "------+-------------------------------------------------+-------\n",
      "------+-------------------------------------------------+-------\n",
      "      | -0.00  -1.00   0.00  -0.00  -0.00  -2.00  -3.00 |  14.00\n",
      "------+-------------------------------------------------+-------\n",
      "x[ 1] |  1.00  -0.50   0.00   0.00  -1.00   0.50  -0.50 |   2.00\n",
      "x[ 3] |  0.00   0.50   1.00   0.00   0.00  -0.50   0.50 |   1.00\n",
      "x[ 4] |  0.00   0.00   0.00   1.00   0.00   0.00  -1.00 |   2.00\n",
      "------+-------------------------------------------------+-------\n"
     ]
    },
    {
     "data": {
      "text/plain": [
       "([2.0, 0.0, 1.0, 2.0, 0.0, 0.0, 0.0], 14.0)"
      ]
     },
     "execution_count": 8,
     "metadata": {},
     "output_type": "execute_result"
    }
   ],
   "source": [
    "x, obj = simplex_method2(c, A, b)"
   ]
  },
  {
   "cell_type": "markdown",
   "metadata": {},
   "source": [
    "## Seconde version\n",
    "\n",
    "Une version plus compacte suit. Pour ce faire, nous modifions légèrement le code du simplexe en permettant de passer directement les indices de la base."
   ]
  },
  {
   "cell_type": "code",
   "execution_count": 9,
   "metadata": {},
   "outputs": [
    {
     "data": {
      "text/plain": [
       "simplex_method (generic function with 2 methods)"
      ]
     },
     "execution_count": 9,
     "metadata": {},
     "output_type": "execute_result"
    }
   ],
   "source": [
    "function initialize(c, A, b, b_idx)\n",
    "    c = Array{Float64}(c)\n",
    "    A = Array{Float64}(A)\n",
    "    b = Array{Float64}(b)\n",
    "\n",
    "    m, n = size(A)\n",
    "\n",
    "    # We do not call initial_BFS anymore\n",
    "    B = A[:, b_idx]\n",
    "    x_B = B\\b\n",
    "\n",
    "    Y = B\\A\n",
    "    c_B = c[b_idx]\n",
    "    obj = dot(c_B, x_B)\n",
    "\n",
    "    # z_c is a row vector\n",
    "    z_c = zeros(1,n)\n",
    "    n_idx = setdiff(1:n, b_idx)\n",
    "    λ = B'\\c_B\n",
    "    z_c[n_idx] = λ' * A[:,n_idx] - c[n_idx]'\n",
    "    \n",
    "    return SimplexTableau(z_c, Y, x_B, obj, b_idx)\n",
    "end\n",
    "\n",
    "function simplex_method(c, A, b, b_idx = [])\n",
    "    # b_idx is either empty if no basis is known, or contain the indexes of the columns forming the basis\n",
    "    if b_idx == []\n",
    "        # Finding an initial BFS\n",
    "        b_idx, x_B, B = initial_BFS(A,b)\n",
    "        println(b_idx)\n",
    "    end\n",
    "    tableau = initialize(c, A, b, b_idx)\n",
    "    # print_tableau(tableau)\n",
    "\n",
    "    while !is_optimal(tableau)\n",
    "      pivoting!(tableau)\n",
    "      # print_tableau(tableau)\n",
    "    end\n",
    "\n",
    "    opt_x = zeros(length(c))\n",
    "    opt_x[tableau.b_idx] = tableau.x_B\n",
    "    \n",
    "    return opt_x, tableau.obj, tableau.b_idx\n",
    "  end\n"
   ]
  },
  {
   "cell_type": "markdown",
   "metadata": {},
   "source": [
    "Les codes de phase 1 et de la méthodes à deux phases suivent."
   ]
  },
  {
   "cell_type": "code",
   "execution_count": 10,
   "metadata": {},
   "outputs": [
    {
     "data": {
      "text/plain": [
       "phaseI (generic function with 1 method)"
      ]
     },
     "execution_count": 10,
     "metadata": {},
     "output_type": "execute_result"
    }
   ],
   "source": [
    "# Phase I\n",
    "\n",
    "function phaseI(c, A, b)\n",
    "    m, n = size(A)\n",
    "    b_idx = [ i for i = n+1:n+m]\n",
    "    x, obj, b_idx = simplex_method([zeros(1,n) ones(1,m)], [A I], b, b_idx)\n",
    "    feasible = true\n",
    "    \n",
    "    tol = 1e-8\n",
    "    if (obj > tol)\n",
    "        println(\"Problème non réalisable\")\n",
    "        feasible = false\n",
    "    end\n",
    "    \n",
    "    return feasible, b_idx\n",
    "end"
   ]
  },
  {
   "cell_type": "code",
   "execution_count": 11,
   "metadata": {},
   "outputs": [
    {
     "data": {
      "text/plain": [
       "simplex_twophases (generic function with 1 method)"
      ]
     },
     "execution_count": 11,
     "metadata": {},
     "output_type": "execute_result"
    }
   ],
   "source": [
    "function simplex_twophases(c, A, b)\n",
    "    \n",
    "    x = []; obj = Inf\n",
    "    feasible, b_idx = phaseI(c, A, b)\n",
    "    \n",
    "    if (feasible)\n",
    "        println(\"Problème réalisable\")\n",
    "        x, obj, b_idx = simplex_method(c, A, b, b_idx)\n",
    "    end\n",
    "    \n",
    "    return x, obj, b_idx\n",
    "\n",
    "end    "
   ]
  },
  {
   "cell_type": "code",
   "execution_count": 12,
   "metadata": {},
   "outputs": [
    {
     "name": "stdout",
     "output_type": "stream",
     "text": [
      "Pivoting: entering = x_1, exiting = x_8\n",
      "Pivoting: entering = x_2, exiting = x_9\n",
      "Pivoting: entering = x_4, exiting = x_10\n",
      "Problème réalisable\n",
      "Pivoting: entering = x_3, exiting = x_2\n"
     ]
    },
    {
     "data": {
      "text/plain": [
       "([2.0, 0.0, 1.0, 2.0, 0.0, 0.0, 0.0], 14.0, [1, 3, 4])"
      ]
     },
     "execution_count": 12,
     "metadata": {},
     "output_type": "execute_result"
    }
   ],
   "source": [
    "x, obj, b_idx = simplex_twophases(c, A, b)"
   ]
  },
  {
   "cell_type": "code",
   "execution_count": null,
   "metadata": {},
   "outputs": [],
   "source": []
  }
 ],
 "metadata": {
  "kernelspec": {
   "display_name": "Julia 1.5.0",
   "language": "julia",
   "name": "julia-1.5"
  },
  "language_info": {
   "file_extension": ".jl",
   "mimetype": "application/julia",
   "name": "julia",
   "version": "1.5.0"
  }
 },
 "nbformat": 4,
 "nbformat_minor": 2
}
