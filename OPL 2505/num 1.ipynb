{
 "cells": [
  {
   "cell_type": "markdown",
   "metadata": {},
   "source": [
    "# 1.\n",
    "\\begin{align*}\n",
    "\\min\\ & 3x_2+ 4x_3 + 5x_4 \\\\\n",
    "\\text{t.q. } & x_1+x_3\\geq 3 \\\\\n",
    "& x_2+2x_3+x_4\\geq 4 \\\\\n",
    "& x_4 \\geq 2 \\\\\n",
    "& x_i\\geq 0, i= 1,2,3,4\n",
    "\\end{align*}\n",
    "\n",
    "### a) résoudre avec la méthode du simplexe duale\n",
    "\n",
    "On va évidement effectuer nos calculs avec Julia. On code la fonction `pivot!(M, i, j)` qui fait un pivot sur la matrice `A` sur l'élément `i, j`. La matrice `st` contient toutes l'information nécéssaire à l'algorithme du simplex. La  dernière colonne contiendra les termes de droite et la dernière ligne contiendra les coûts réduits ainsi que la valeur de la fonction objective."
   ]
  },
  {
   "cell_type": "code",
   "execution_count": 1,
   "metadata": {},
   "outputs": [],
   "source": [
    "using LinearAlgebra, Suppressor"
   ]
  },
  {
   "cell_type": "code",
   "execution_count": 2,
   "metadata": {},
   "outputs": [
    {
     "data": {
      "text/plain": [
       "pivot! (generic function with 1 method)"
      ]
     },
     "execution_count": 2,
     "metadata": {},
     "output_type": "execute_result"
    }
   ],
   "source": [
    "function pivot!(M, i, j)\n",
    "    @assert M[i,j] != 0\n",
    "    M[i, :] /= M[i,j]\n",
    "    m, n = size(M)\n",
    "    for k in setdiff(1:m, i)\n",
    "        M[k,:] -=  M[k,j]*M[i,:]\n",
    "    end\n",
    "    M\n",
    "end"
   ]
  },
  {
   "cell_type": "code",
   "execution_count": 3,
   "metadata": {},
   "outputs": [
    {
     "data": {
      "text/plain": [
       "4×8 Array{Rational,2}:\n",
       " 1//1  0//1  1//1  0//1  -1//1   0//1   0//1  3//1\n",
       " 0//1  1//1  2//1  1//1   0//1  -1//1   0//1  4//1\n",
       " 0//1  0//1  0//1  1//1   0//1   0//1  -1//1  2//1\n",
       " 0//1  3//1  4//1  5//1   0//1   0//1   0//1  0//1"
      ]
     },
     "execution_count": 3,
     "metadata": {},
     "output_type": "execute_result"
    }
   ],
   "source": [
    "A = [1 0 1 0; 0 1  2 1; 0 0 0 1]\n",
    "c = [0,3,4,5]\n",
    "b = [3,4,2]\n",
    "M = [A -I]\n",
    "\n",
    "st = Rational[M b; c' zeros(Int, 3)' 0]"
   ]
  },
  {
   "cell_type": "code",
   "execution_count": 4,
   "metadata": {},
   "outputs": [
    {
     "name": "stdout",
     "output_type": "stream",
     "text": [
      "Base = [5, 6, 7]\n"
     ]
    },
    {
     "data": {
      "text/plain": [
       "4×8 Array{Rational,2}:\n",
       " -1//1   0//1  -1//1   0//1  1//1  0//1  0//1  -3//1\n",
       "  0//1  -1//1  -2//1  -1//1  0//1  1//1  0//1  -4//1\n",
       "  0//1   0//1   0//1  -1//1  0//1  0//1  1//1  -2//1\n",
       "  0//1   3//1   4//1   5//1  0//1  0//1  0//1   0//1"
      ]
     },
     "execution_count": 4,
     "metadata": {},
     "output_type": "execute_result"
    }
   ],
   "source": [
    "B_idx = [5,6,7]\n",
    "println(\"Base = $B_idx\")\n",
    "pivot!(st, 1, 5)\n",
    "pivot!(st, 2, 6)\n",
    "pivot!(st, 3, 7)"
   ]
  },
  {
   "cell_type": "markdown",
   "metadata": {},
   "source": [
    "On décide de choisir (arbitrairement) comme variante sortante celle avec le terme de droite le plus négatif. la seconde variable de base va donc sortir. On va faire entrer $x_3$ dans la base."
   ]
  },
  {
   "cell_type": "code",
   "execution_count": 5,
   "metadata": {},
   "outputs": [
    {
     "name": "stdout",
     "output_type": "stream",
     "text": [
      "Base = [5, 3, 7]"
     ]
    },
    {
     "data": {
      "text/plain": [
       "4×8 Array{Rational,2}:\n",
       " -1//1  1//2  0//1   1//2  1//1  -1//2  0//1  -1//1\n",
       "  0//1  1//2  1//1   1//2  0//1  -1//2  0//1   2//1\n",
       "  0//1  0//1  0//1  -1//1  0//1   0//1  1//1  -2//1\n",
       "  0//1  1//1  0//1   3//1  0//1   2//1  0//1  -8//1"
      ]
     },
     "execution_count": 5,
     "metadata": {},
     "output_type": "execute_result"
    },
    {
     "name": "stdout",
     "output_type": "stream",
     "text": [
      "\n"
     ]
    }
   ],
   "source": [
    "B_idx[2] = 3\n",
    "println(\"Base = $B_idx\")\n",
    "pivot!(st, 2, 3)"
   ]
  },
  {
   "cell_type": "code",
   "execution_count": 6,
   "metadata": {},
   "outputs": [
    {
     "name": "stdout",
     "output_type": "stream",
     "text": [
      "Base = [5, 3, 4]"
     ]
    },
    {
     "data": {
      "text/plain": [
       "4×8 Array{Rational,2}:\n",
       " -1//1  1//2  0//1  0//1  1//1  -1//2   1//2   -2//1\n",
       "  0//1  1//2  1//1  0//1  0//1  -1//2   1//2    1//1\n",
       "  0//1  0//1  0//1  1//1  0//1   0//1  -1//1    2//1\n",
       "  0//1  1//1  0//1  0//1  0//1   2//1   3//1  -14//1"
      ]
     },
     "execution_count": 6,
     "metadata": {},
     "output_type": "execute_result"
    },
    {
     "name": "stdout",
     "output_type": "stream",
     "text": [
      "\n"
     ]
    }
   ],
   "source": [
    "B_idx[3] = 4\n",
    "println(\"Base = $B_idx\")\n",
    "pivot!(st, 3, 4)"
   ]
  },
  {
   "cell_type": "code",
   "execution_count": 7,
   "metadata": {},
   "outputs": [
    {
     "name": "stdout",
     "output_type": "stream",
     "text": [
      "Base = [1, 3, 4]"
     ]
    },
    {
     "data": {
      "text/plain": [
       "4×8 Array{Rational,2}:\n",
       " 1//1  -1//2  0//1  0//1  -1//1   1//2  -1//2    2//1\n",
       " 0//1   1//2  1//1  0//1   0//1  -1//2   1//2    1//1\n",
       " 0//1   0//1  0//1  1//1   0//1   0//1  -1//1    2//1\n",
       " 0//1   1//1  0//1  0//1   0//1   2//1   3//1  -14//1"
      ]
     },
     "execution_count": 7,
     "metadata": {},
     "output_type": "execute_result"
    },
    {
     "name": "stdout",
     "output_type": "stream",
     "text": [
      "\n"
     ]
    }
   ],
   "source": [
    "B_idx[1] = 1\n",
    "println(\"Base = $B_idx\")\n",
    "pivot!(st, 1, 1)"
   ]
  },
  {
   "cell_type": "code",
   "execution_count": 8,
   "metadata": {},
   "outputs": [
    {
     "name": "stdout",
     "output_type": "stream",
     "text": [
      "xstar = Rational[2//1, 0//1, 1//1, 2//1, 0//1, 0//1, 0//1]\n",
      "vstar = (xstar[1:4])' * c = 14//1\n"
     ]
    }
   ],
   "source": [
    "xstar = zeros(Rational, 7)\n",
    "xstar[B_idx] = st[1:3, end]\n",
    "@show xstar\n",
    "@show vstar = xstar[1:4]'*c;"
   ]
  },
  {
   "cell_type": "markdown",
   "metadata": {},
   "source": [
    "Il est si facile de vérifier nos résultats qu'il serait idiot de ne pas le faire!!!"
   ]
  },
  {
   "cell_type": "code",
   "execution_count": 9,
   "metadata": {},
   "outputs": [
    {
     "name": "stderr",
     "output_type": "stream",
     "text": [
      "┌ Info: Precompiling JuMP [4076af6c-e467-56ae-b986-b466b2749572]\n",
      "└ @ Base loading.jl:1260\n",
      "┌ Info: Precompiling Clp [e2554f3b-3117-50c0-817c-e040a3ddf72d]\n",
      "└ @ Base loading.jl:1260\n"
     ]
    },
    {
     "data": {
      "text/latex": [
       "$$ \\begin{alignat*}{1}\\min\\quad & 3 x_{2} + 4 x_{3} + 5 x_{4}\\\\\n",
       "\\text{Subject to} \\quad & x_{1} + x_{3} \\geq 3.0\\\\\n",
       " & x_{2} + 2 x_{3} + x_{4} \\geq 4.0\\\\\n",
       " & x_{4} \\geq 2.0\\\\\n",
       " & x_{1} \\geq 0.0\\\\\n",
       " & x_{2} \\geq 0.0\\\\\n",
       " & x_{3} \\geq 0.0\\\\\n",
       " & x_{4} \\geq 0.0\\\\\n",
       "\\end{alignat*}\n",
       " $$"
      ],
      "text/plain": [
       "A JuMP Model\n",
       "Minimization problem with:\n",
       "Variables: 4\n",
       "Objective function type: GenericAffExpr{Float64,VariableRef}\n",
       "`GenericAffExpr{Float64,VariableRef}`-in-`MathOptInterface.GreaterThan{Float64}`: 3 constraints\n",
       "`VariableRef`-in-`MathOptInterface.GreaterThan{Float64}`: 4 constraints\n",
       "Model mode: AUTOMATIC\n",
       "CachingOptimizer state: EMPTY_OPTIMIZER\n",
       "Solver name: Clp\n",
       "Names registered in the model: c1, c2, c3, x"
      ]
     },
     "execution_count": 9,
     "metadata": {},
     "output_type": "execute_result"
    }
   ],
   "source": [
    "using JuMP, Clp\n",
    "m = Model(Clp.Optimizer)\n",
    "@variable(m, x[1:4] >= 0)\n",
    "@constraint(m, c1, x[1]+x[3]>=3)\n",
    "@constraint(m, c2, x[2]+2x[3]+x[4]>=4)\n",
    "@constraint(m, c3, x[4]>=2)\n",
    "@objective(m, Min, 3x[2]+4x[3]+5x[4])\n",
    "m"
   ]
  },
  {
   "cell_type": "code",
   "execution_count": 10,
   "metadata": {},
   "outputs": [
    {
     "name": "stdout",
     "output_type": "stream",
     "text": [
      "xstar2 = value.(x) = [2.0, 0.0, 1.0, 2.0]\n",
      "vstar2 = objective_value(m) = 14.0\n"
     ]
    }
   ],
   "source": [
    "@suppress optimize!(m)\n",
    "@show xstar2 = value.(x)\n",
    "@show vstar2 = objective_value(m);"
   ]
  },
  {
   "cell_type": "markdown",
   "metadata": {},
   "source": [
    "### Bref.\n",
    "\n",
    "On a la même solution.\n",
    "\n",
    "### b) Déterminer une solution optimale  du dual avec la théorie des écarts complémentaires."
   ]
  },
  {
   "cell_type": "code",
   "execution_count": 11,
   "metadata": {},
   "outputs": [
    {
     "data": {
      "text/plain": [
       "7-element Array{Rational,1}:\n",
       " 2//1\n",
       " 0//1\n",
       " 1//1\n",
       " 2//1\n",
       " 0//1\n",
       " 0//1\n",
       " 0//1"
      ]
     },
     "execution_count": 11,
     "metadata": {},
     "output_type": "execute_result"
    }
   ],
   "source": [
    "xstar"
   ]
  },
  {
   "cell_type": "markdown",
   "metadata": {},
   "source": [
    "comme $x^*_1\\neq 0$, $x^*_3\\neq 0$, $x^*_4\\neq 0$, $\\Rightarrow \\lambda^Ta_i = c_i, i = 1,2,4$"
   ]
  },
  {
   "cell_type": "code",
   "execution_count": 12,
   "metadata": {},
   "outputs": [
    {
     "data": {
      "text/plain": [
       "3-element Array{Float64,1}:\n",
       " 0.0\n",
       " 2.0\n",
       " 3.0"
      ]
     },
     "execution_count": 12,
     "metadata": {},
     "output_type": "execute_result"
    }
   ],
   "source": [
    "indexs = [1,3,4]\n",
    "Mtmp = A[:,indexs]'\n",
    "λs = Mtmp\\c[indexs]"
   ]
  },
  {
   "cell_type": "markdown",
   "metadata": {},
   "source": [
    "Encore une fois,  il  est facile de vérifier nos  résultats. Le dual sera un problème de maximisation avec comme objectif\n",
    "\n",
    "$$\n",
    "\\max_\\lambda 3\\lambda_1 + 4\\lambda_2+2\\lambda_3\n",
    "$$\n",
    "\n",
    "Notre solution à la valeur:"
   ]
  },
  {
   "cell_type": "code",
   "execution_count": 13,
   "metadata": {},
   "outputs": [
    {
     "data": {
      "text/plain": [
       "14"
      ]
     },
     "execution_count": 13,
     "metadata": {},
     "output_type": "execute_result"
    }
   ],
   "source": [
    "dot([3,4,2],[0, 2, 3]) "
   ]
  },
  {
   "cell_type": "markdown",
   "metadata": {},
   "source": [
    "ce qui est cohérent considérant la dualité forte!!!"
   ]
  },
  {
   "cell_type": "markdown",
   "metadata": {},
   "source": [
    "On peut continuer et nous amuser, on sait que \n",
    "\n",
    "$$\n",
    "r_D^T = c_D^T - \\lambda^T D \\Rightarrow \\lambda^T D = c_D^T - r_D^T \\Rightarrow D^T\\lambda = c_D - r_D\\Rightarrow \\lambda = (D^T)^{-1}(c_D - r_D)\n",
    "$$"
   ]
  },
  {
   "cell_type": "code",
   "execution_count": 14,
   "metadata": {},
   "outputs": [
    {
     "data": {
      "text/plain": [
       "3×4 Array{Int64,2}:\n",
       " 0  -1   0   0\n",
       " 1   0  -1   0\n",
       " 0   0   0  -1"
      ]
     },
     "execution_count": 14,
     "metadata": {},
     "output_type": "execute_result"
    }
   ],
   "source": [
    "D_idx = [2, 5, 6, 7] \n",
    "D = [A -I][:, D_idx]"
   ]
  },
  {
   "cell_type": "code",
   "execution_count": 15,
   "metadata": {},
   "outputs": [
    {
     "data": {
      "text/plain": [
       "3-element Array{Float64,1}:\n",
       " -0.0\n",
       "  1.9999999999999996\n",
       "  3.0"
      ]
     },
     "execution_count": 15,
     "metadata": {},
     "output_type": "execute_result"
    }
   ],
   "source": [
    "λs = (D')\\([c; zeros(3)][D_idx] - st[end, D_idx])"
   ]
  },
  {
   "cell_type": "markdown",
   "metadata": {},
   "source": [
    "ou encore, en utilisant $\\lambda^T = c_B^TB^{-1} \\Rightarrow \\lambda = (B^{-1})^Tc_B$"
   ]
  },
  {
   "cell_type": "code",
   "execution_count": 16,
   "metadata": {},
   "outputs": [
    {
     "data": {
      "text/plain": [
       "3×3 Array{Rational{Int64},2}:\n",
       " 1//1  -1//2   1//2\n",
       " 0//1   1//2  -1//2\n",
       " 0//1   0//1   1//1"
      ]
     },
     "execution_count": 16,
     "metadata": {},
     "output_type": "execute_result"
    }
   ],
   "source": [
    "B_inv = -st[1:3, 5:7]"
   ]
  },
  {
   "cell_type": "code",
   "execution_count": 17,
   "metadata": {},
   "outputs": [
    {
     "data": {
      "text/plain": [
       "3-element Array{Rational{Int64},1}:\n",
       " 0//1\n",
       " 2//1\n",
       " 3//1"
      ]
     },
     "execution_count": 17,
     "metadata": {},
     "output_type": "execute_result"
    }
   ],
   "source": [
    "B_inv'*c[B_idx]"
   ]
  },
  {
   "cell_type": "markdown",
   "metadata": {},
   "source": [
    "Malheureusement, seule la première méthode est la bonne car il était clairement indiqué d'utiliser les écarts complémentaire."
   ]
  },
  {
   "cell_type": "markdown",
   "metadata": {},
   "source": [
    "### c) en modifiant la deuxième contrainte en \n",
    "\n",
    "$$\n",
    "x_2 + 2x_3+x_4 \\geq 4.1\n",
    "$$\n"
   ]
  },
  {
   "cell_type": "code",
   "execution_count": 18,
   "metadata": {},
   "outputs": [
    {
     "data": {
      "text/plain": [
       "3×3 Array{Rational{Int64},2}:\n",
       " 1//1  -1//2   1//2\n",
       " 0//1   1//2  -1//2\n",
       " 0//1   0//1   1//1"
      ]
     },
     "execution_count": 18,
     "metadata": {},
     "output_type": "execute_result"
    }
   ],
   "source": [
    "B_inv = -st[1:3, 5:7]"
   ]
  },
  {
   "cell_type": "markdown",
   "metadata": {},
   "source": [
    "Le signe négatif vient du fait que la matrice initiale contient l'opposé de l'identité, non l'identité, en raison des variables de surplus."
   ]
  },
  {
   "cell_type": "code",
   "execution_count": 19,
   "metadata": {},
   "outputs": [
    {
     "data": {
      "text/plain": [
       "0.19999999999999996"
      ]
     },
     "execution_count": 19,
     "metadata": {},
     "output_type": "execute_result"
    }
   ],
   "source": [
    "Δb = [0, 1/10, 0]\n",
    "Δz = λs'*Δb"
   ]
  },
  {
   "cell_type": "markdown",
   "metadata": {},
   "source": [
    "on se rappel que la solution optimale était 14"
   ]
  },
  {
   "cell_type": "code",
   "execution_count": 20,
   "metadata": {},
   "outputs": [
    {
     "data": {
      "text/plain": [
       "14.2"
      ]
     },
     "execution_count": 20,
     "metadata": {},
     "output_type": "execute_result"
    }
   ],
   "source": [
    "14+Δz"
   ]
  },
  {
   "cell_type": "markdown",
   "metadata": {},
   "source": [
    "On peut aussi obtenir la réponse en regardent la variation de la solution optimale."
   ]
  },
  {
   "cell_type": "code",
   "execution_count": 21,
   "metadata": {},
   "outputs": [
    {
     "data": {
      "text/plain": [
       "3-element Array{Float64,1}:\n",
       " -0.05\n",
       "  0.05\n",
       "  0.0"
      ]
     },
     "execution_count": 21,
     "metadata": {},
     "output_type": "execute_result"
    }
   ],
   "source": [
    "Δx = B_inv*Δb"
   ]
  },
  {
   "cell_type": "markdown",
   "metadata": {},
   "source": [
    "La variation de la fonction objectif est alors"
   ]
  },
  {
   "cell_type": "code",
   "execution_count": 22,
   "metadata": {},
   "outputs": [
    {
     "data": {
      "text/plain": [
       "0.2"
      ]
     },
     "execution_count": 22,
     "metadata": {},
     "output_type": "execute_result"
    }
   ],
   "source": [
    "Δz = dot(c[B_idx], Δx)"
   ]
  },
  {
   "cell_type": "markdown",
   "metadata": {},
   "source": [
    "ce qui est conforme à la réponse précédent."
   ]
  }
 ],
 "metadata": {
  "kernelspec": {
   "display_name": "Julia 1.4.1",
   "language": "julia",
   "name": "julia-1.4"
  },
  "language_info": {
   "file_extension": ".jl",
   "mimetype": "application/julia",
   "name": "julia",
   "version": "1.4.1"
  }
 },
 "nbformat": 4,
 "nbformat_minor": 4
}
