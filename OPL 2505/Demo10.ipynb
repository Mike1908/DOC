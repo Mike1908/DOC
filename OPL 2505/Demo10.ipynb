{
 "cells": [
  {
   "cell_type": "markdown",
   "metadata": {},
   "source": [
    "# Démonstration 10"
   ]
  },
  {
   "cell_type": "markdown",
   "metadata": {},
   "source": [
    "## 1. Algorithmes de points intérieurs"
   ]
  },
  {
   "cell_type": "code",
   "execution_count": null,
   "metadata": {},
   "outputs": [],
   "source": [
    "using LinearAlgebra\n",
    "using JuMP, Clp"
   ]
  },
  {
   "cell_type": "code",
   "execution_count": null,
   "metadata": {},
   "outputs": [],
   "source": [
    "# Klee-Minty problem\n",
    "\n",
    "n = 3\n",
    "\n",
    "m = Model(with_optimizer(Clp.Optimizer))\n",
    "\n",
    "@variable(m, x[1:n] >= 0)\n",
    "for i in 1:n\n",
    "   @constraint(m, 2*sum(10^(i-j)*x[j] for j = 1:i-1)+x[i] <= 100^(i-1))\n",
    "end\n",
    "@objective(m, Max, sum(10^(n-j)*x[j] for j = 1:n))\n",
    "\n",
    "print(m)"
   ]
  },
  {
   "cell_type": "code",
   "execution_count": null,
   "metadata": {},
   "outputs": [],
   "source": [
    "status = optimize!(m)"
   ]
  },
  {
   "cell_type": "code",
   "execution_count": null,
   "metadata": {},
   "outputs": [],
   "source": [
    "value.(x)"
   ]
  },
  {
   "cell_type": "code",
   "execution_count": null,
   "metadata": {},
   "outputs": [],
   "source": [
    "c = [[-10^(n-i) for i = 1:n]; [0 for i = 1:n]]\n",
    "b = [100^(i-1) for i = 1:n]\n",
    "A = [1 [0*i for i in 1:n-1]']\n",
    "for i = 2:n\n",
    "    A = [A; [[2*10^(i-j) for j in 1:i-1]' 1 [0 for i = 1:n-i]']]\n",
    "end\n",
    "B = A\n",
    "A = [A I]\n",
    "x = [0.5]\n",
    "for i = 2:n\n",
    "    x = [ x ; (0.5*b[i]-dot(A[i,1:i-1],x[1:i-1]))]\n",
    "end\n",
    "x = [ x; b-B*x ]\n",
    "A*x"
   ]
  },
  {
   "cell_type": "code",
   "execution_count": null,
   "metadata": {},
   "outputs": [],
   "source": [
    "m, n = size(A)\n",
    "y = [-1 for i = 1:m]\n",
    "s = c-A'y"
   ]
  },
  {
   "cell_type": "code",
   "execution_count": null,
   "metadata": {},
   "outputs": [],
   "source": [
    "x"
   ]
  },
  {
   "cell_type": "code",
   "execution_count": null,
   "metadata": {},
   "outputs": [],
   "source": [
    "y"
   ]
  },
  {
   "cell_type": "code",
   "execution_count": null,
   "metadata": {},
   "outputs": [],
   "source": [
    "## Adapted from https://github.com/chkwon/jpor_codes/blob/master/chap7/primal_path_following.jl\n",
    "\n",
    "function primal_path_following(c,A,b,x0;\n",
    "            mu=0.9, alpha=0.9, epsilon=1e-9, max_iter=1000)\n",
    "  # Initialization\n",
    "  x = x0\n",
    "  n = length(x)\n",
    "  m = length(b)\n",
    "  e = ones(n,1)\n",
    "\n",
    "  # Preparing variables for the trajectories\n",
    "  trace = copy(x)\n",
    "    \n",
    "  for i=1:max_iter\n",
    "    # Computing\n",
    "    invX = Diagonal(1 ./ x)\n",
    "    mu = alpha * mu\n",
    "\n",
    "    # Solving the linear system\n",
    "    LHS = [ mu*invX^2       -A'     ;\n",
    "               A          zeros(m,m)  ]\n",
    "    RHS = [ mu*invX*e - c ;\n",
    "            zeros(m,1) ]\n",
    "    sol = LHS \\ RHS\n",
    "\n",
    "    # Update\n",
    "    d = sol[1:n]\n",
    "    p = sol[n+1:end]\n",
    "    x = x + d\n",
    "    s = c - A'*p\n",
    "\n",
    "    # Recording the trajectories of x1 and x2\n",
    "    trace = [trace x]\n",
    "\n",
    "    # Optimality check\n",
    "    if dot(x,s) < epsilon\n",
    "      break\n",
    "    end\n",
    "  end\n",
    "\n",
    "  return trace\n",
    "end"
   ]
  },
  {
   "cell_type": "code",
   "execution_count": null,
   "metadata": {},
   "outputs": [],
   "source": [
    "x0 = x\n",
    "trajectory = primal_path_following(c, A, b, x0)"
   ]
  },
  {
   "cell_type": "markdown",
   "metadata": {},
   "source": [
    "L'implantation du chemin primale échoue comme le pas est trop long, de sorte que les contraintes de non-négativité ne sont pas satisfaites."
   ]
  },
  {
   "cell_type": "code",
   "execution_count": null,
   "metadata": {},
   "outputs": [],
   "source": [
    "function primaldual_path_following(c,A,b,x,y,s, μ = 100, α = 0.1, γ=0.1, epsilon=1e-9, max_iter=1000)\n",
    "\n",
    "    for ν = 1:10\n",
    "\n",
    "        iter = max_iter\n",
    "\n",
    "        for k = 1:max_iter\n",
    "            \n",
    "            X = diagm(x)\n",
    "            S = diagm(s)\n",
    "        H = [ zeros(n,n) A' I ;\n",
    "              A zeros(m,m) zeros(m,n);\n",
    "              S zeros(n,m) X ]\n",
    "        t = [ zeros(n) ; zeros(m); μ*ones(n)-X*S*ones(n) ]\n",
    "        Δ = H\\t\n",
    "        α = 0.01\n",
    "        new = [x; y; s]+α*Δ\n",
    "        x = new[1:n]\n",
    "        y = new[n+1:n+m]\n",
    "        s = new[n+m+1:2*n+m]\n",
    "        if (norm(x.*s-μ*ones(n)) <= 1/10^(ν/2))\n",
    "            iter = k\n",
    "            break\n",
    "        end\n",
    "\n",
    "        end\n",
    "\n",
    "        println(ν, \". \", iter, \" \", x.*s)\n",
    "        μ = γ*μ\n",
    "\n",
    "    end\n",
    "    \n",
    "    return x\n",
    "end"
   ]
  },
  {
   "cell_type": "code",
   "execution_count": null,
   "metadata": {},
   "outputs": [],
   "source": [
    "primaldual_path_following(c,A,b,x0,y,s)"
   ]
  },
  {
   "cell_type": "markdown",
   "metadata": {},
   "source": [
    "On converge, mais c'est extrêmement lent!"
   ]
  },
  {
   "cell_type": "markdown",
   "metadata": {},
   "source": [
    "## Question 2\n",
    "\n",
    "Nous considérons un problème de programmation linéaire sous forme standard et\n",
    "nous supposons que les ensemble réalisables du primal et du dual ont des\n",
    "intérieurs non vides. Montrer que si l'ensemble réalisable du primal est borné,\n",
    "alors l'ensemble réalisable du dual ne peut pas être borné. Est-il possible\n",
    "d'avoir des ensembles réalisables non bornés pour le primal et le dual?\n",
    "\n",
    "Soit $\\left(x(\\mu), y(\\mu), s(\\mu) \\right)$, $0<\\mu<\\infty$ Si l'ensemble réalisable de primal\n",
    "est borné, $x(\\mu)$ converge vers le centre analytique de l'ensemble réalisable\n",
    "du primal. Dès lors, $x(\\mu)$ tend vers un certain $x^{\\star} $ pour $\\mu \\to\n",
    "\\infty$, avec $x^{\\star} $ fini.  D'autre part, on sait que\n",
    "\n",
    "\\begin{align*}\n",
    "c^{t} x(\\mu) - b^{t} y(\\mu) = \\eta \\mu\n",
    "\\end{align*}\n",
    "Dès lors, pour $\\mu \\to \\infty$, \n",
    "\\begin{align*}\n",
    "\\lim_{\\mu\\to \\infty} b^t y(\\mu) = c^t x^{\\star} - \\infty = - \\infty\n",
    "\\end{align*}\n",
    "Dès lors, $y(\\mu)$ ne peut pas converger vers un certain $y^{\\star} $ fini comme $\\mu$ tend vers l'infini. \n",
    "Or ce serait le cas si l'ensemble dual était borné.\n",
    "\n",
    "On peut avoir des ensembles non bornés pour le primal et le dual. Considérions la paire\n",
    "\\begin{align*}\n",
    "&\\min\\ x_1 + x_2 \\\\\n",
    "&\\begin{aligned}\n",
    "\\text{s.a.} &\\\\\n",
    "&  x_1 = 1 ,\\\\\n",
    "& x_1, x_2 \\ge 0.\n",
    "\\end{aligned}\n",
    "\\end{align*}\n",
    "\n",
    "\\begin{align*}\n",
    "&\\max\\ \\lambda \\\\\n",
    "&\\begin{aligned}\n",
    "\\text{s.a.} &\\\\\n",
    "& \\lambda \\le 1 ,\\\\\n",
    "\\end{aligned}\n",
    "\\end{align*}\n",
    "Les deux ensemble ont des intérieurs non vides et ne sont pas bornés."
   ]
  },
  {
   "cell_type": "markdown",
   "metadata": {},
   "source": [
    "# Question 3"
   ]
  },
  {
   "cell_type": "markdown",
   "metadata": {},
   "source": [
    "Considérons le polyhèdre $P = \\{ x \\,|\\, Ax \\leq b \\}$. Supposons que $P$ est borné et que son intérieur est non-vide, ou en d'autres termes, qu'il existe $x$ tel que $Ax < b$.\n",
    "\n",
    "- Écrivez la fonction potentiel à minimiser pour trouver le centre analytique de $P$.\n",
    "- En annulant le gradient de la fonction potentiel, écrivez le système non-linéaire à résoudre pour trouver le centre analytique.\n",
    "- Le système obtenu au point précédent peut être résolu à l'aide de la méthode de Newton. Écrivez une itération de la résolution du système pas la méthode de Newton."
   ]
  },
  {
   "cell_type": "markdown",
   "metadata": {},
   "source": [
    "Notons $a_i^T$ la $i^e$ ligne de $A$. La contrainte $Ax \\leq b$ peut se réécrire\n",
    "$$\n",
    "b - a_i^Tx \\geq 0,\\ i = 1,\\ldots,m,\n",
    "$$\n",
    "en supposant que $A \\in R^{m \\times n}$.\n",
    "\n",
    "La fonction potentiel à minimiser s'écrit dès lors\n",
    "$$\n",
    "\\Psi(x) = -\\sum_{i = 1}^m \\log(b_i-a_i^Tx)\n",
    "$$\n",
    "Son gradient s'écrit\n",
    "$$\n",
    "\\nabla_x \\Psi(x) =\n",
    "\\begin{pmatrix}\n",
    " \\sum_{i = 1}^m \\frac{a_{i1}}{b_i-a_i^Tx} \\\\\n",
    " \\sum_{i = 1}^m \\frac{a_{i2}}{b_i-a_i^Tx} \\\\\n",
    "\\vdots \\\\\n",
    " \\sum_{i = 1}^m \\frac{a_{in}}{b_i-a_i^Tx}\n",
    "\\end{pmatrix}\n",
    "=\n",
    " \\sum_{i = 1}^m \\frac{a_{i}}{b_i-a_i^Tx} \\\\\n",
    "= A^T\\begin{pmatrix}\n",
    "\\frac{1}{b-a_1x} \\\\\n",
    "\\frac{1}{b-a_2x} \\\\\n",
    "\\vdots \\\\\n",
    "\\frac{1}{b-a_mx}\n",
    "\\end{pmatrix}\n",
    "$$\n",
    "que nous cherchons à annuler.\n",
    "En posant\n",
    "$$\n",
    "s_i = b_i - a_i^Tx, \\quad y_i = \\frac{1}{s_i},\\ i = 1,\\ldots,m,\n",
    "$$\n",
    "le système peut se réécrire comme\n",
    "$$\n",
    "A^Ty = 0,\\ \\textrm{avec}\\ y = \\begin{pmatrix} y_1 \\\\ \\vdots \\\\ y_m \\end{pmatrix}.\n",
    "$$\n",
    "\n",
    "Pour obtenir l'itération de Newton, nous devons tout d'abord écrire la matrice hessienne de la fonction potentiel:\n",
    "$$\n",
    "\\nabla^2_{xx} \\Psi(x) =\n",
    "\\sum_{i = 1}^m \\frac{a_{i}a_i^T}{(b_i-a_i^Tx)^2} = A^TS^{-2}A = A^TY^2A,\n",
    "$$\n",
    "Une itération de Newton consiste à prendre\n",
    "$$\n",
    "x^+ = x - (\\nabla^2_{xx} \\Psi(x))^{-1}\\nabla_x \\Psi(x) = x - (A^TY^2A)^{-1}A^Ty.\n",
    "$$"
   ]
  },
  {
   "cell_type": "markdown",
   "metadata": {},
   "source": [
    "# Implémentation de la Méthode de Mehrotra\n",
    "\n",
    "Arnaud L'Heureux, Décembre 2019\n",
    "\n",
    "Étant donné la paire primale-duale d'un problème de programmation linéaire : \n",
    "$$\\min_x c^Tx$$\n",
    "$$\\text{s.à.}\\ \\ Ax = b$$\n",
    "$$x \\geq 0$$\n",
    "et\n",
    "$$\\max_{\\lambda,s} b^T\\lambda$$\n",
    "$$\\text{s.à.}\\ \\ A^T\\lambda + s = c$$\n",
    "$$s \\geq 0$$\n",
    "Nous avons les conditons KKT suivantes qui doivent être satisfaites pour que la solution au problème soit optimale:\n",
    "$$Ax = b$$\n",
    "$$A^T\\lambda + s = c$$\n",
    "$$XSe = 0$$\n",
    "$$(x,s) \\geq 0$$\n",
    "où $X$ et $S$ sont des matrices diagonales ayant $x$ et $s$ comme diagonales. La condition $Ax = b$, nous indique que la solution est réalisable pour le primal alors que $A^T\\lambda + s = c$ implique que le dual est réalisable. Tout point réalisable pour le primal ainsi que le dual satisfaisant la condition $XSe = 0$ implique que ce point est optimal pour le primal et le dual."
   ]
  },
  {
   "cell_type": "code",
   "execution_count": null,
   "metadata": {},
   "outputs": [],
   "source": [
    "using LinearAlgebra\n",
    "\n",
    "# Heuristique proposée par Mehrotra\n",
    "function genStart(A:: Matrix, b:: Vector, c:: Vector)\n",
    "    x̅ = A'*((A*A')\\b)\n",
    "    λ̅ = (A*A')\\A*c\n",
    "    s̅ = c - A'*λ̅\n",
    "\n",
    "    δx = max(-1.5*minimum(x̅),0)\n",
    "    δs = max(-1.5*minimum(s̅),0)\n",
    "\n",
    "    # δx et δs sont des scalaires, et doivent être ajoutés à chaque composante, c'est pourquoi nous utilisons .+\n",
    "    num = dot(x̅ .+ δx, s̅ .+ δs)\n",
    "    δx̅ = δx + num/(2*sum(s̅ .+ δs))\n",
    "    δs̅ = δs + num/(2*sum(x̅ .+ δx))\n",
    "\n",
    "    return (x̅ .+ δx̅, λ̅ , s̅ .+ δs̅)\n",
    "end"
   ]
  },
  {
   "cell_type": "markdown",
   "metadata": {},
   "source": [
    "L'algorithme de Mehrotra suit."
   ]
  },
  {
   "cell_type": "code",
   "execution_count": null,
   "metadata": {},
   "outputs": [],
   "source": [
    "using SparseArrays\n",
    "\n",
    "function Mehrotra(A:: Matrix, b:: Vector, c:: Vector,\n",
    "                  ε:: Float64, maxIter:: Int64 = 1000, sparseMode:: Bool = True)\n",
    "\n",
    "    (m,n) = size(A)  # calcul la dimension de A\n",
    "    \n",
    "    if (sparseMode)\n",
    "        temp = sparse(A)\n",
    "        density = nnz(temp)/(m*n)\n",
    "       \n",
    "        # Si la densité de A est inférieure à 20%, nous travaillons avec une matrice creuse\n",
    "        if (density < .2)\n",
    "            A = sparse(A)\n",
    "            b = sparse(b)\n",
    "            c = sparse(c)\n",
    "        end\n",
    "    end\n",
    "\n",
    "    # Calcul du point de départ\n",
    "    res = genStart(A,b,c)\n",
    "    x = res[1]\n",
    "    λ = res[2]\n",
    "    s = res[3]\n",
    "    \n",
    "    iter = 0\n",
    "\n",
    "    # Nous utilisons le critère d'arrêt par défaut dans le test de boucle.\n",
    "    # Le test de convergence se fera en interne, et nous pourrons alors quitter la fonction.\n",
    "    while (iter < maxIter)\n",
    "        iter += 1\n",
    "        \n",
    "        # Calcul des résidus\n",
    "        rp = A*x-b\n",
    "        rd = A'*λ + s - c\n",
    "        rc = x .* s\n",
    "\n",
    "        # μ est aligné sur le saut de dualité\n",
    "        μ = dot(x,s)/n\n",
    "        \n",
    "        # Nous testons la qualité de la solution\n",
    "        if (max(μ, norm(rd), norm(rp)) < ε)\n",
    "            return (x,λ,s)\n",
    "        end\n",
    "        \n",
    "        # Calcul de M = AXS^-1A' et du factory de Cholesky R de M (M=R'R)\n",
    "        M = A*diagm(x./s)*A'\n",
    "        R = cholesky(M).U\n",
    "\n",
    "        # Calcul des termes de droite\n",
    "        td = rp - A*((rc - x.*rd)./s)\n",
    "        \n",
    "        # Étape prédictrice\n",
    "        Δλ_p = R\\(R'\\td)\n",
    "        Δs_p = rd - A'*Δλ_p\n",
    "        Δx_p = (rc - x.*Δs_p)./s\n",
    " \n",
    "        # Calculs des longueur de pas potentiels les plus longs\n",
    "        # Pas primal\n",
    "        α_p = 1/maximum([1 ; Δx_p ./ x])\n",
    "        # Pas dual\n",
    "        α_d = 1/maximum([1 ; Δs_p ./ s])\n",
    "        \n",
    "        # Paramètre centralisant\n",
    "        σ = (dot(x - α_p*Δx_p, s - α_d*Δs_p)/(n*μ))^3\n",
    "        \n",
    "        # Étape correctrice\n",
    "        rc = rc .- σ*μ + Δx_p.*Δs_p\n",
    "        td = rp - A*((rc - x.*rd)./s)\n",
    "        \n",
    "        Δλ_c = R\\(R'\\td)\n",
    "        Δs_c = rd - A'*Δλ_c\n",
    "        Δx_c = (rc - x.*Δs_c)./s\n",
    "        \n",
    "        η = max(0.995, 1-μ)\n",
    "        \n",
    "        # Pas primal\n",
    "        α_p = η/maximum([η ; Δx_c./x])\n",
    "        # Pas dual\n",
    "        α_d = η/maximum([η ; Δs_c./s])\n",
    "        \n",
    "        # Mise à jour da la solution\n",
    "        x -= α_p*Δx_c\n",
    "        λ -= α_d*Δλ_c\n",
    "        s -= α_d*Δs_c\n",
    "    end\n",
    "end"
   ]
  },
  {
   "cell_type": "markdown",
   "metadata": {},
   "source": [
    "### Exemple\n",
    "\n",
    "Soit le problème:\n",
    "\\begin{align*}\n",
    "\\min z\\ &= 5x_1 + 2x_2 -4x_3 \\\\\n",
    "\\text{s.à. } & 6x_1 + x_2 - 2x_3 - x_4 = 5 \\\\\n",
    "& x_1 + x_2 + x_3 + x_5 = 4 \\\\\n",
    "& 6x_1 + 4x_2 -2x_3 - x_6= 10 \\\\\n",
    "& x_i \\geq 0, \\ i = 1,\\ldots,6.\n",
    "\\end{align*}"
   ]
  },
  {
   "cell_type": "code",
   "execution_count": null,
   "metadata": {},
   "outputs": [],
   "source": [
    "A = [6 1 -2 -1 0 0; 1 1 1 0 1 0; 6 4 -2 0 0 -1]\n",
    "b = [5; 4; 10]\n",
    "c = [5; 2; -4; 0; 0; 0]"
   ]
  },
  {
   "cell_type": "markdown",
   "metadata": {},
   "source": [
    "Nous commençons par trouver un point de départ $(x_0, \\lambda_0, s_0)$."
   ]
  },
  {
   "cell_type": "code",
   "execution_count": null,
   "metadata": {},
   "outputs": [],
   "source": [
    "start = genStart(A,b,c)\n",
    "\n",
    "println(A*start[1]-b)\n",
    "println(A'*start[2]-c)\n",
    "println(start[1], \" \", start[3])"
   ]
  },
  {
   "cell_type": "markdown",
   "metadata": {},
   "source": [
    "Nous voyons que seules les contraintes de non-négativité sont satisfaite, mais ni $x_0$, ni $\\lambda_0$, ne sont réalisables.\n",
    "\n",
    "Appliquons l'algorithe de Mehrotra."
   ]
  },
  {
   "cell_type": "code",
   "execution_count": null,
   "metadata": {},
   "outputs": [],
   "source": [
    "x = Mehrotra(A,b,c,1e-10,10,true)[1]\n",
    "\n",
    "println(\"x = \", x)\n",
    "println(\"Ax = \", A*x)\n",
    "println(\"z = c^Tx = \", dot(c,x))"
   ]
  },
  {
   "cell_type": "markdown",
   "metadata": {},
   "source": [
    "Nous obtenons la solution:\n",
    "\n",
    "$$x = \\begin{pmatrix}\n",
    "  0.9999999999999999 \\\\\n",
    "  1.6666666666666656 \\\\\n",
    "  1.3333333333333355 \\\\\n",
    "  3.5867130386728067 \\times 10^{-19}\\\\\n",
    "  1.5140739781564760 \\times 10^{-19}\\\\\n",
    "  3.8753111845137296 \\times 10^{-19}\n",
    " \\end{pmatrix}  \\approx \\begin{pmatrix}\n",
    "  1 \\\\\n",
    "  \\frac{5}{3} \\\\\n",
    "  \\frac{4}{3} \\\\\n",
    "  0\\\\\n",
    "  0\\\\\n",
    "  0\n",
    " \\end{pmatrix}\n",
    "$$\n",
    "La solution est\n",
    "$$x_1 = 1, \\ \\ x_2 = \\frac{5}{3}, \\ \\ x_3 = \\frac{4}{3}, \\ \\ x_4 = x_5 = x_6 = 0,$$\n",
    "qui est bien réalisable puisque $Ax = b$. Cette solution nous donne la valeur de la fonction objectif $z = 3$."
   ]
  }
 ],
 "metadata": {
  "kernelspec": {
   "display_name": "Julia 1.5.0",
   "language": "julia",
   "name": "julia-1.5"
  },
  "language_info": {
   "file_extension": ".jl",
   "mimetype": "application/julia",
   "name": "julia",
   "version": "1.5.0"
  }
 },
 "nbformat": 4,
 "nbformat_minor": 2
}
